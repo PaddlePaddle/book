{
 "cells": [
  {
   "cell_type": "markdown",
   "metadata": {
    "collapsed": false
   },
   "source": [
    "# **点云处理：实现PointNet点云分类**\n",
    "**作者**：[Zhihao Cao](https://github.com/WhiteFireFox)<br>\n",
    "**日期**：2021.03<br>\n",
    "**摘要**：本示例在于演示如何基于Paddle2.0实现PointNet在ShapeNet数据集上进行点云分类处理。"
   ]
  },
  {
   "cell_type": "markdown",
   "metadata": {
    "collapsed": false
   },
   "source": [
    "## 一、环境设置\n",
    "\n",
    "本教程基于Paddle 2.0 编写，如果你的环境不是本版本，请先参考官网[安装](https://www.paddlepaddle.org.cn/install/quick) Paddle 2.0 。"
   ]
  },
  {
   "cell_type": "code",
   "execution_count": 2,
   "metadata": {
    "collapsed": false
   },
   "outputs": [
    {
     "name": "stdout",
     "output_type": "stream",
     "text": [
      "2.0.1\n"
     ]
    }
   ],
   "source": [
    "import os\n",
    "import numpy as np\n",
    "import random\n",
    "import h5py\n",
    "import paddle\n",
    "import paddle.nn as nn\n",
    "import paddle.nn.functional as F\n",
    "\n",
    "print(paddle.__version__)"
   ]
  },
  {
   "cell_type": "markdown",
   "metadata": {
    "collapsed": false
   },
   "source": [
    "## 二、数据集\n",
    "### 2.1 数据介绍\n",
    "ShapeNet数据集是一个注释丰富且规模较大的 3D 形状数据集，由斯坦福大学、普林斯顿大学和芝加哥丰田技术学院于 2015 年联合发布。<br>\n",
    "ShapeNet数据集官方链接：[https://vision.princeton.edu/projects/2014/3DShapeNets/](https://vision.princeton.edu/projects/2014/3DShapeNets/)<br>\n",
    "ShapeNet数据集的储存格式是h5文件，该文件中key值分别为：\n",
    "- 1、data：这一份数据中所有点的xyz坐标，\n",
    "- 2、label：这一份数据所属类别，如airplane等，\n",
    "- 3、pid：这一份数据中所有点所属的类型，如这一份数据属airplane类，则它包含的所有点的类型有机翼、机身等类型。\n",
    "### 2.2 解压数据集"
   ]
  },
  {
   "cell_type": "code",
   "execution_count": 3,
   "metadata": {
    "collapsed": false
   },
   "outputs": [
    {
     "name": "stdout",
     "output_type": "stream",
     "text": [
      "Archive:  data/data70460/shapenet_part_seg_hdf5_data.zip\n",
      "   creating: hdf5_data/\n",
      "  inflating: hdf5_data/ply_data_train5.h5  \n",
      "  inflating: hdf5_data/ply_data_train1.h5  \n",
      "  inflating: hdf5_data/ply_data_train3.h5  \n",
      "  inflating: hdf5_data/ply_data_val0.h5  \n",
      "  inflating: hdf5_data/ply_data_train0.h5  \n",
      "  inflating: hdf5_data/ply_data_test1.h5  \n",
      "  inflating: hdf5_data/ply_data_test0.h5  \n",
      "  inflating: hdf5_data/ply_data_train4.h5  \n",
      "  inflating: hdf5_data/ply_data_train2.h5  \n"
     ]
    }
   ],
   "source": [
    "!unzip data/data70460/shapenet_part_seg_hdf5_data.zip\r\n",
    "!mv hdf5_data dataset"
   ]
  },
  {
   "cell_type": "markdown",
   "metadata": {
    "collapsed": false
   },
   "source": [
    "### 2.3 数据列表\n",
    "ShapeNet数据集所有的数据文件。"
   ]
  },
  {
   "cell_type": "code",
   "execution_count": 4,
   "metadata": {
    "collapsed": false
   },
   "outputs": [],
   "source": [
    "train_list = ['ply_data_train0.h5', 'ply_data_train1.h5', 'ply_data_train2.h5', 'ply_data_train3.h5', 'ply_data_train4.h5', 'ply_data_train5.h5']\r\n",
    "test_list = ['ply_data_test0.h5', 'ply_data_test1.h5']\r\n",
    "val_list = ['ply_data_val0.h5']"
   ]
  },
  {
   "cell_type": "markdown",
   "metadata": {
    "collapsed": false
   },
   "source": [
    "### 2.4 搭建数据生成器\n",
    "说明：将ShapeNet数据集全部读入。"
   ]
  },
  {
   "cell_type": "code",
   "execution_count": 5,
   "metadata": {
    "collapsed": false
   },
   "outputs": [],
   "source": [
    "def make_data(mode='train', path='./dataset/', num_point=2048):\r\n",
    "    datas = []\r\n",
    "    labels = []\r\n",
    "    if mode == 'train':\r\n",
    "        for file_list in train_list:\r\n",
    "            f = h5py.File(os.path.join(path, file_list), 'r')\r\n",
    "            datas.extend(f['data'][:, :num_point, :])\r\n",
    "            labels.extend(f['label'])\r\n",
    "            f.close()\r\n",
    "    elif mode == 'test':\r\n",
    "        for file_list in test_list:\r\n",
    "            f = h5py.File(os.path.join(path, file_list), 'r')\r\n",
    "            datas.extend(f['data'][:, :num_point, :])\r\n",
    "            labels.extend(f['label'])\r\n",
    "            f.close()\r\n",
    "    else:\r\n",
    "        for file_list in val_list:\r\n",
    "            f = h5py.File(os.path.join(path, file_list), 'r')\r\n",
    "            datas.extend(f['data'][:, :num_point, :])\r\n",
    "            labels.extend(f['label'])\r\n",
    "            f.close()\r\n",
    "    \r\n",
    "    return datas, labels"
   ]
  },
  {
   "cell_type": "markdown",
   "metadata": {
    "collapsed": false
   },
   "source": [
    "说明：通过继承`paddle.io.Dataset`来完成数据集的构造。"
   ]
  },
  {
   "cell_type": "code",
   "execution_count": 6,
   "metadata": {
    "collapsed": false
   },
   "outputs": [],
   "source": [
    "class PointDataset(paddle.io.Dataset):\r\n",
    "    def __init__(self, datas, labels):\r\n",
    "        super(PointDataset, self).__init__()\r\n",
    "        self.datas = datas\r\n",
    "        self.labels = labels\r\n",
    "    \r\n",
    "    def __getitem__(self, index):\r\n",
    "        data = paddle.to_tensor(self.datas[index].T.astype('float32'))\r\n",
    "        label = paddle.to_tensor(self.labels[index].astype('int64'))\r\n",
    "        return data, label\r\n",
    "\r\n",
    "    def __len__(self):\r\n",
    "        return len(self.datas)"
   ]
  },
  {
   "cell_type": "markdown",
   "metadata": {
    "collapsed": false
   },
   "source": [
    "说明：使用飞桨框架提供的API：`paddle.io.DataLoader`完成数据的加载，使得按照Batchsize生成Mini-batch的数据。"
   ]
  },
  {
   "cell_type": "code",
   "execution_count": 7,
   "metadata": {
    "collapsed": false
   },
   "outputs": [],
   "source": [
    "# 数据导入\r\n",
    "datas, labels = make_data(mode='train', num_point=2048)\r\n",
    "train_dataset = PointDataset(datas, labels)\r\n",
    "datas, labels = make_data(mode='val', num_point=2048)\r\n",
    "val_dataset = PointDataset(datas, labels)\r\n",
    "datas, labels = make_data(mode='test', num_point=2048)\r\n",
    "test_dataset = PointDataset(datas, labels)\r\n",
    "\r\n",
    "# 实例化数据读取器\r\n",
    "train_loader = paddle.io.DataLoader(\r\n",
    "    train_dataset,\r\n",
    "    batch_size=128,\r\n",
    "    shuffle=True,\r\n",
    "    drop_last=False\r\n",
    ")\r\n",
    "val_loader = paddle.io.DataLoader(\r\n",
    "    val_dataset,\r\n",
    "    batch_size=32,\r\n",
    "    shuffle=False,\r\n",
    "    drop_last=False\r\n",
    ")\r\n",
    "test_loader = paddle.io.DataLoader(\r\n",
    "    test_dataset,\r\n",
    "    batch_size=128,\r\n",
    "    shuffle=False,\r\n",
    "    drop_last=False\r\n",
    ")"
   ]
  },
  {
   "cell_type": "markdown",
   "metadata": {
    "collapsed": false
   },
   "source": [
    "## 三、定义网络\n",
    "PointNet是斯坦福大学研究人员提出的一个点云处理网络，在这篇论文中，它提出了空间变换网络（T-Net）解决点云的旋转问题（注：因为考虑到某一物体的点云旋转后还是该物体，所以需要有一个网络结构去学习并解决这个旋转问题），并且提出了采取MaxPooling的方法极大程度上地提取点云全局特征。\n",
    "\n",
    "### 3.1 定义网络结构"
   ]
  },
  {
   "cell_type": "code",
   "execution_count": 8,
   "metadata": {
    "collapsed": false
   },
   "outputs": [],
   "source": [
    "class PointNet(nn.Layer):\r\n",
    "    def __init__(self, name_scope='PointNet_', num_classes=16, num_point=2048):\r\n",
    "        super(PointNet, self).__init__()\r\n",
    "        self.input_transform_net = nn.Sequential(\r\n",
    "            nn.Conv1D(3, 64, 1),\r\n",
    "            nn.BatchNorm(64),\r\n",
    "            nn.ReLU(),\r\n",
    "            nn.Conv1D(64, 128, 1),\r\n",
    "            nn.BatchNorm(128),\r\n",
    "            nn.ReLU(),\r\n",
    "            nn.Conv1D(128, 1024, 1),\r\n",
    "            nn.BatchNorm(1024),\r\n",
    "            nn.ReLU(),\r\n",
    "            nn.MaxPool1D(num_point)\r\n",
    "        )\r\n",
    "        self.input_fc = nn.Sequential(\r\n",
    "            nn.Linear(1024, 512),\r\n",
    "            nn.ReLU(),\r\n",
    "            nn.Linear(512, 256),\r\n",
    "            nn.ReLU(),\r\n",
    "            nn.Linear(256, 9,\r\n",
    "                weight_attr=paddle.ParamAttr(initializer=paddle.nn.initializer.Assign(paddle.zeros((256, 9)))),\r\n",
    "                bias_attr=paddle.ParamAttr(initializer=paddle.nn.initializer.Assign(paddle.reshape(paddle.eye(3), [-1])))\r\n",
    "            )\r\n",
    "        )\r\n",
    "        self.mlp_1 = nn.Sequential(\r\n",
    "            nn.Conv1D(3, 64, 1),\r\n",
    "            nn.BatchNorm(64),\r\n",
    "            nn.ReLU(),\r\n",
    "            nn.Conv1D(64, 64, 1),\r\n",
    "            nn.BatchNorm(64),\r\n",
    "            nn.ReLU()\r\n",
    "        )\r\n",
    "        self.feature_transform_net = nn.Sequential(\r\n",
    "            nn.Conv1D(64, 64, 1),\r\n",
    "            nn.BatchNorm(64),\r\n",
    "            nn.ReLU(),\r\n",
    "            nn.Conv1D(64, 128, 1),\r\n",
    "            nn.BatchNorm(128),\r\n",
    "            nn.ReLU(),\r\n",
    "            nn.Conv1D(128, 1024, 1),\r\n",
    "            nn.BatchNorm(1024),\r\n",
    "            nn.ReLU(),\r\n",
    "            nn.MaxPool1D(num_point)\r\n",
    "        )\r\n",
    "        self.feature_fc = nn.Sequential(\r\n",
    "            nn.Linear(1024, 512),\r\n",
    "            nn.ReLU(),\r\n",
    "            nn.Linear(512, 256),\r\n",
    "            nn.ReLU(),\r\n",
    "            nn.Linear(256, 64*64)\r\n",
    "        )\r\n",
    "        self.mlp_2 = nn.Sequential(\r\n",
    "            nn.Conv1D(64, 64, 1),\r\n",
    "            nn.BatchNorm(64),\r\n",
    "            nn.ReLU(),\r\n",
    "            nn.Conv1D(64, 128, 1),\r\n",
    "            nn.BatchNorm(128),\r\n",
    "            nn.ReLU(),\r\n",
    "            nn.Conv1D(128, 1024, 1),\r\n",
    "            nn.BatchNorm(1024),\r\n",
    "            nn.ReLU()\r\n",
    "        )\r\n",
    "        self.fc = nn.Sequential(\r\n",
    "            nn.Linear(1024, 512),\r\n",
    "            nn.ReLU(),\r\n",
    "            nn.Linear(512, 256),\r\n",
    "            nn.ReLU(),\r\n",
    "            nn.Dropout(p=0.7),\r\n",
    "            nn.Linear(256, num_classes),\r\n",
    "            nn.LogSoftmax(axis=-1)\r\n",
    "        )\r\n",
    "    def forward(self, inputs):\r\n",
    "        batchsize = inputs.shape[0]\r\n",
    "\r\n",
    "        t_net = self.input_transform_net(inputs)\r\n",
    "        t_net = paddle.squeeze(t_net, axis=-1)\r\n",
    "        t_net = self.input_fc(t_net)\r\n",
    "        t_net = paddle.reshape(t_net, [batchsize, 3, 3])\r\n",
    "\r\n",
    "        x = paddle.transpose(inputs, (0, 2, 1))\r\n",
    "        x = paddle.matmul(x, t_net)\r\n",
    "        x = paddle.transpose(x, (0, 2, 1))\r\n",
    "        x = self.mlp_1(x)\r\n",
    "\r\n",
    "        t_net = self.feature_transform_net(x)\r\n",
    "        t_net = paddle.squeeze(t_net, axis=-1)\r\n",
    "        t_net = self.feature_fc(t_net)\r\n",
    "        t_net = paddle.reshape(t_net, [batchsize, 64, 64])\r\n",
    "\r\n",
    "        x = paddle.squeeze(x, axis=-1)\r\n",
    "        x = paddle.transpose(x, (0, 2, 1))\r\n",
    "        x = paddle.matmul(x, t_net)\r\n",
    "        x = paddle.transpose(x, (0, 2, 1))\r\n",
    "        x = self.mlp_2(x)\r\n",
    "        x = paddle.max(x, axis=-1)\r\n",
    "        x = paddle.squeeze(x, axis=-1)\r\n",
    "        x = self.fc(x)\r\n",
    "\r\n",
    "        return x"
   ]
  },
  {
   "cell_type": "markdown",
   "metadata": {
    "collapsed": false
   },
   "source": [
    "### 3.2 网络结构可视化\n",
    "说明：使用飞奖API：`paddle.summary`完成模型结构可视化"
   ]
  },
  {
   "cell_type": "code",
   "execution_count": 9,
   "metadata": {
    "collapsed": false
   },
   "outputs": [
    {
     "name": "stdout",
     "output_type": "stream",
     "text": [
      "---------------------------------------------------------------------------\n",
      " Layer (type)       Input Shape          Output Shape         Param #    \n",
      "===========================================================================\n",
      "   Conv1D-1       [[64, 3, 2048]]       [64, 64, 2048]          256      \n",
      "  BatchNorm-1     [[64, 64, 2048]]      [64, 64, 2048]          256      \n",
      "    ReLU-1        [[64, 64, 2048]]      [64, 64, 2048]           0       \n",
      "   Conv1D-2       [[64, 64, 2048]]     [64, 128, 2048]         8,320     \n",
      "  BatchNorm-2    [[64, 128, 2048]]     [64, 128, 2048]          512      \n",
      "    ReLU-2       [[64, 128, 2048]]     [64, 128, 2048]           0       \n",
      "   Conv1D-3      [[64, 128, 2048]]     [64, 1024, 2048]       132,096    \n",
      "  BatchNorm-3    [[64, 1024, 2048]]    [64, 1024, 2048]        4,096     \n",
      "    ReLU-3       [[64, 1024, 2048]]    [64, 1024, 2048]          0       \n",
      "  MaxPool1D-1    [[64, 1024, 2048]]     [64, 1024, 1]            0       \n",
      "   Linear-1         [[64, 1024]]          [64, 512]           524,800    \n",
      "    ReLU-4          [[64, 512]]           [64, 512]              0       \n",
      "   Linear-2         [[64, 512]]           [64, 256]           131,328    \n",
      "    ReLU-5          [[64, 256]]           [64, 256]              0       \n",
      "   Linear-3         [[64, 256]]            [64, 9]             2,313     \n",
      "   Conv1D-4       [[64, 3, 2048]]       [64, 64, 2048]          256      \n",
      "  BatchNorm-4     [[64, 64, 2048]]      [64, 64, 2048]          256      \n",
      "    ReLU-6        [[64, 64, 2048]]      [64, 64, 2048]           0       \n",
      "   Conv1D-5       [[64, 64, 2048]]      [64, 64, 2048]         4,160     \n",
      "  BatchNorm-5     [[64, 64, 2048]]      [64, 64, 2048]          256      \n",
      "    ReLU-7        [[64, 64, 2048]]      [64, 64, 2048]           0       \n",
      "   Conv1D-6       [[64, 64, 2048]]      [64, 64, 2048]         4,160     \n",
      "  BatchNorm-6     [[64, 64, 2048]]      [64, 64, 2048]          256      \n",
      "    ReLU-8        [[64, 64, 2048]]      [64, 64, 2048]           0       \n",
      "   Conv1D-7       [[64, 64, 2048]]     [64, 128, 2048]         8,320     \n",
      "  BatchNorm-7    [[64, 128, 2048]]     [64, 128, 2048]          512      \n",
      "    ReLU-9       [[64, 128, 2048]]     [64, 128, 2048]           0       \n",
      "   Conv1D-8      [[64, 128, 2048]]     [64, 1024, 2048]       132,096    \n",
      "  BatchNorm-8    [[64, 1024, 2048]]    [64, 1024, 2048]        4,096     \n",
      "    ReLU-10      [[64, 1024, 2048]]    [64, 1024, 2048]          0       \n",
      "  MaxPool1D-2    [[64, 1024, 2048]]     [64, 1024, 1]            0       \n",
      "   Linear-4         [[64, 1024]]          [64, 512]           524,800    \n",
      "    ReLU-11         [[64, 512]]           [64, 512]              0       \n",
      "   Linear-5         [[64, 512]]           [64, 256]           131,328    \n",
      "    ReLU-12         [[64, 256]]           [64, 256]              0       \n",
      "   Linear-6         [[64, 256]]           [64, 4096]         1,052,672   \n",
      "   Conv1D-9       [[64, 64, 2048]]      [64, 64, 2048]         4,160     \n",
      "  BatchNorm-9     [[64, 64, 2048]]      [64, 64, 2048]          256      \n",
      "    ReLU-13       [[64, 64, 2048]]      [64, 64, 2048]           0       \n",
      "   Conv1D-10      [[64, 64, 2048]]     [64, 128, 2048]         8,320     \n",
      " BatchNorm-10    [[64, 128, 2048]]     [64, 128, 2048]          512      \n",
      "    ReLU-14      [[64, 128, 2048]]     [64, 128, 2048]           0       \n",
      "   Conv1D-11     [[64, 128, 2048]]     [64, 1024, 2048]       132,096    \n",
      " BatchNorm-11    [[64, 1024, 2048]]    [64, 1024, 2048]        4,096     \n",
      "    ReLU-15      [[64, 1024, 2048]]    [64, 1024, 2048]          0       \n",
      "   Linear-7         [[64, 1024]]          [64, 512]           524,800    \n",
      "    ReLU-16         [[64, 512]]           [64, 512]              0       \n",
      "   Linear-8         [[64, 512]]           [64, 256]           131,328    \n",
      "    ReLU-17         [[64, 256]]           [64, 256]              0       \n",
      "   Dropout-1        [[64, 256]]           [64, 256]              0       \n",
      "   Linear-9         [[64, 256]]            [64, 16]            4,112     \n",
      " LogSoftmax-1        [[64, 16]]            [64, 16]              0       \n",
      "===========================================================================\n",
      "Total params: 3,476,825\n",
      "Trainable params: 3,461,721\n",
      "Non-trainable params: 15,104\n",
      "---------------------------------------------------------------------------\n",
      "Input size (MB): 1.50\n",
      "Forward/backward pass size (MB): 11333.40\n",
      "Params size (MB): 13.26\n",
      "Estimated Total Size (MB): 11348.16\n",
      "---------------------------------------------------------------------------\n",
      "\n"
     ]
    },
    {
     "data": {
      "text/plain": [
       "{'total_params': 3476825, 'trainable_params': 3461721}"
      ]
     },
     "execution_count": 9,
     "metadata": {},
     "output_type": "execute_result"
    }
   ],
   "source": [
    "pointnet = PointNet()\n",
    "paddle.summary(pointnet, (64, 3, 2048))"
   ]
  },
  {
   "cell_type": "markdown",
   "metadata": {
    "collapsed": false
   },
   "source": [
    "## 四、训练\n",
    "说明：模型训练的时候，将会使用`paddle.optimizer.Adam`优化器来进行优化。使用`F.nll_loss`来计算损失值。"
   ]
  },
  {
   "cell_type": "code",
   "execution_count": 10,
   "metadata": {
    "collapsed": false
   },
   "outputs": [
    {
     "name": "stdout",
     "output_type": "stream",
     "text": [
      "===================================train===========================================\n",
      "train: epoch: 0, batch_id: 0, loss is: [7.7336], accuracy is: [0.046875]\n",
      "train: epoch: 0, batch_id: 20, loss is: [1.0035921], accuracy is: [0.7109375]\n",
      "train: epoch: 0, batch_id: 40, loss is: [0.661285], accuracy is: [0.8515625]\n",
      "train: epoch: 0, batch_id: 60, loss is: [0.66160786], accuracy is: [0.828125]\n",
      "train: epoch: 0, batch_id: 80, loss is: [0.8273531], accuracy is: [0.765625]\n",
      "===================================val===========================================\n",
      "validation: loss is: 0.41346028447151184, accuracy is: 0.8734109997749329\n",
      "===================================train===========================================\n",
      "train: epoch: 1, batch_id: 0, loss is: [0.37224862], accuracy is: [0.890625]\n",
      "train: epoch: 1, batch_id: 20, loss is: [0.5062808], accuracy is: [0.8515625]\n",
      "train: epoch: 1, batch_id: 40, loss is: [0.50531685], accuracy is: [0.875]\n",
      "train: epoch: 1, batch_id: 60, loss is: [0.49164256], accuracy is: [0.859375]\n",
      "train: epoch: 1, batch_id: 80, loss is: [0.2789868], accuracy is: [0.9140625]\n",
      "===================================val===========================================\n",
      "validation: loss is: 0.19408868253231049, accuracy is: 0.9406779408454895\n",
      "===================================train===========================================\n",
      "train: epoch: 2, batch_id: 0, loss is: [0.3266327], accuracy is: [0.8984375]\n",
      "train: epoch: 2, batch_id: 20, loss is: [0.23156211], accuracy is: [0.9375]\n",
      "train: epoch: 2, batch_id: 40, loss is: [0.24519165], accuracy is: [0.9375]\n",
      "train: epoch: 2, batch_id: 60, loss is: [0.31321228], accuracy is: [0.90625]\n",
      "train: epoch: 2, batch_id: 80, loss is: [0.34245557], accuracy is: [0.9140625]\n",
      "===================================val===========================================\n",
      "validation: loss is: 0.14243994653224945, accuracy is: 0.9597457647323608\n",
      "===================================train===========================================\n",
      "train: epoch: 3, batch_id: 0, loss is: [0.3708501], accuracy is: [0.8984375]\n",
      "train: epoch: 3, batch_id: 20, loss is: [0.20045863], accuracy is: [0.9453125]\n",
      "train: epoch: 3, batch_id: 40, loss is: [0.2991118], accuracy is: [0.9140625]\n",
      "train: epoch: 3, batch_id: 60, loss is: [0.1798339], accuracy is: [0.9453125]\n",
      "train: epoch: 3, batch_id: 80, loss is: [0.11121296], accuracy is: [0.96875]\n",
      "===================================val===========================================\n",
      "validation: loss is: 0.09480473399162292, accuracy is: 0.9740465879440308\n",
      "===================================train===========================================\n",
      "train: epoch: 4, batch_id: 0, loss is: [0.2610746], accuracy is: [0.921875]\n",
      "train: epoch: 4, batch_id: 20, loss is: [0.27405408], accuracy is: [0.9375]\n",
      "train: epoch: 4, batch_id: 40, loss is: [0.1689686], accuracy is: [0.9453125]\n",
      "train: epoch: 4, batch_id: 60, loss is: [0.25451672], accuracy is: [0.953125]\n",
      "train: epoch: 4, batch_id: 80, loss is: [0.19045861], accuracy is: [0.9375]\n",
      "===================================val===========================================\n",
      "validation: loss is: 0.14199300110340118, accuracy is: 0.9671609997749329\n",
      "===================================train===========================================\n",
      "train: epoch: 5, batch_id: 0, loss is: [0.1557864], accuracy is: [0.96875]\n",
      "train: epoch: 5, batch_id: 20, loss is: [0.06025891], accuracy is: [0.984375]\n",
      "train: epoch: 5, batch_id: 40, loss is: [0.24486586], accuracy is: [0.9375]\n",
      "train: epoch: 5, batch_id: 60, loss is: [0.11153667], accuracy is: [0.9609375]\n",
      "train: epoch: 5, batch_id: 80, loss is: [0.08839677], accuracy is: [0.9765625]\n",
      "===================================val===========================================\n",
      "validation: loss is: 0.12060766667127609, accuracy is: 0.9639830589294434\n",
      "===================================train===========================================\n",
      "train: epoch: 6, batch_id: 0, loss is: [0.09976836], accuracy is: [0.96875]\n",
      "train: epoch: 6, batch_id: 20, loss is: [0.26849228], accuracy is: [0.953125]\n",
      "train: epoch: 6, batch_id: 40, loss is: [0.19393858], accuracy is: [0.9453125]\n",
      "train: epoch: 6, batch_id: 60, loss is: [0.14615785], accuracy is: [0.9765625]\n",
      "train: epoch: 6, batch_id: 80, loss is: [0.14226525], accuracy is: [0.96875]\n",
      "===================================val===========================================\n",
      "validation: loss is: 0.08676613122224808, accuracy is: 0.9745762944221497\n",
      "===================================train===========================================\n",
      "train: epoch: 7, batch_id: 0, loss is: [0.15533438], accuracy is: [0.9609375]\n",
      "train: epoch: 7, batch_id: 20, loss is: [0.06322735], accuracy is: [0.96875]\n",
      "train: epoch: 7, batch_id: 40, loss is: [0.24963422], accuracy is: [0.90625]\n",
      "train: epoch: 7, batch_id: 60, loss is: [0.18240112], accuracy is: [0.9375]\n",
      "train: epoch: 7, batch_id: 80, loss is: [0.11916789], accuracy is: [0.9765625]\n",
      "===================================val===========================================\n",
      "validation: loss is: 0.11794687062501907, accuracy is: 0.9661017060279846\n",
      "===================================train===========================================\n",
      "train: epoch: 8, batch_id: 0, loss is: [0.0922491], accuracy is: [0.9765625]\n",
      "train: epoch: 8, batch_id: 20, loss is: [0.14964645], accuracy is: [0.953125]\n",
      "train: epoch: 8, batch_id: 40, loss is: [0.17802697], accuracy is: [0.96875]\n",
      "train: epoch: 8, batch_id: 60, loss is: [0.13069965], accuracy is: [0.96875]\n",
      "train: epoch: 8, batch_id: 80, loss is: [0.11012679], accuracy is: [0.96875]\n",
      "===================================val===========================================\n",
      "validation: loss is: 0.12619751691818237, accuracy is: 0.9682203531265259\n",
      "===================================train===========================================\n",
      "train: epoch: 9, batch_id: 0, loss is: [0.10165547], accuracy is: [0.984375]\n",
      "train: epoch: 9, batch_id: 20, loss is: [0.03993378], accuracy is: [0.9921875]\n",
      "train: epoch: 9, batch_id: 40, loss is: [0.14310025], accuracy is: [0.9375]\n",
      "train: epoch: 9, batch_id: 60, loss is: [0.04553837], accuracy is: [0.984375]\n",
      "train: epoch: 9, batch_id: 80, loss is: [0.21456413], accuracy is: [0.9296875]\n",
      "===================================val===========================================\n",
      "validation: loss is: 0.07753658294677734, accuracy is: 0.9766949415206909\n"
     ]
    }
   ],
   "source": [
    "def train():\n",
    "    model = PointNet(num_classes=16, num_point=2048)\n",
    "    model.train()\n",
    "    optim = paddle.optimizer.Adam(parameters=model.parameters(), weight_decay=0.001)\n",
    "\n",
    "    epoch_num = 10\n",
    "    for epoch in range(epoch_num):\n",
    "        # train\n",
    "        print(\"===================================train===========================================\")\n",
    "        for batch_id, data in enumerate(train_loader()):\n",
    "            inputs, labels = data\n",
    "\n",
    "            predicts = model(inputs)\n",
    "            loss = F.nll_loss(predicts, labels)\n",
    "            acc = paddle.metric.accuracy(predicts, labels)        \n",
    "\n",
    "            if batch_id % 20 == 0: \n",
    "                print(\"train: epoch: {}, batch_id: {}, loss is: {}, accuracy is: {}\".format(epoch, batch_id, loss.numpy(), acc.numpy()))\n",
    "            \n",
    "            loss.backward()\n",
    "            optim.step()\n",
    "            optim.clear_grad()\n",
    "\n",
    "        if epoch % 2 == 0:\n",
    "            paddle.save(model.state_dict(), './model/PointNet.pdparams')\n",
    "            paddle.save(optim.state_dict(), './model/PointNet.pdopt')\n",
    "        \n",
    "        # validation\n",
    "        print(\"===================================val===========================================\")\n",
    "        model.eval()\n",
    "        accuracies = []\n",
    "        losses = []\n",
    "        for batch_id, data in enumerate(val_loader()):\n",
    "            inputs, labels = data\n",
    "\n",
    "            predicts = model(inputs)\n",
    "\n",
    "            loss = F.nll_loss(predicts, labels)\n",
    "            acc = paddle.metric.accuracy(predicts, labels)    \n",
    "            \n",
    "            losses.append(loss.numpy())\n",
    "            accuracies.append(acc.numpy())\n",
    "\n",
    "        avg_acc, avg_loss = np.mean(accuracies), np.mean(losses)\n",
    "        print(\"validation: loss is: {}, accuracy is: {}\".format(avg_loss, avg_acc))\n",
    "        model.train()\n",
    "\n",
    "if __name__ == '__main__':\n",
    "    train()"
   ]
  },
  {
   "cell_type": "markdown",
   "metadata": {
    "collapsed": false
   },
   "source": [
    "## 五、评估与测试\n",
    "说明：通过`model.load_dict`的方式加载训练好的模型对测试集上的数据进行评估与测试。"
   ]
  },
  {
   "cell_type": "code",
   "execution_count": 11,
   "metadata": {
    "collapsed": false
   },
   "outputs": [
    {
     "name": "stdout",
     "output_type": "stream",
     "text": [
      "validation: loss is: 0.17831385135650635, accuracy is: 0.9493768811225891\n"
     ]
    }
   ],
   "source": [
    "def evaluation():\r\n",
    "    model = PointNet()\r\n",
    "    model_state_dict = paddle.load('./model/PointNet.pdparams')\r\n",
    "    model.load_dict(model_state_dict)\r\n",
    "\r\n",
    "    model.eval()\r\n",
    "    accuracies = []\r\n",
    "    losses = []\r\n",
    "    for batch_id, data in enumerate(test_loader()):\r\n",
    "        inputs, labels = data\r\n",
    "\r\n",
    "        predicts = model(inputs)\r\n",
    "\r\n",
    "        loss = F.nll_loss(predicts, labels)\r\n",
    "        acc = paddle.metric.accuracy(predicts, labels)    \r\n",
    "        \r\n",
    "        losses.append(loss.numpy())\r\n",
    "        accuracies.append(acc.numpy())\r\n",
    "\r\n",
    "    avg_acc, avg_loss = np.mean(accuracies), np.mean(losses)\r\n",
    "    print(\"validation: loss is: {}, accuracy is: {}\".format(avg_loss, avg_acc))\r\n",
    "\r\n",
    "if __name__ == '__main__':\r\n",
    "    evaluation()"
   ]
  }
 ],
 "metadata": {
  "kernelspec": {
   "display_name": "PaddlePaddle 2.0.0b0 (Python 3.5)",
   "language": "python",
   "name": "py35-paddle1.2.0"
  },
  "language_info": {
   "codemirror_mode": {
    "name": "ipython",
    "version": 3
   },
   "file_extension": ".py",
   "mimetype": "text/x-python",
   "name": "python",
   "nbconvert_exporter": "python",
   "pygments_lexer": "ipython3",
   "version": "3.7.4"
  }
 },
 "nbformat": 4,
 "nbformat_minor": 1
}
