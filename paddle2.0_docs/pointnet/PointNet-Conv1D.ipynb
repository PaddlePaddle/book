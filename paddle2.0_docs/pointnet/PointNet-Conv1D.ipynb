{
 "cells": [
  {
   "cell_type": "markdown",
   "metadata": {
    "collapsed": false
   },
   "source": [
    "# **点云处理：基于Paddle2.0实现PointNet点云分类Conv1D版**\n",
    "&emsp;&emsp;&emsp;&emsp;<font size=4>作者：[WhiteFireFox](https://github.com/WhiteFireFox)</font><br><br>\n",
    "&emsp;&emsp;&emsp;&emsp;<font size=4>日期：2021年2月26日</font><br><br>\n",
    "&emsp;&emsp;&emsp;&emsp;<font size=4>本示例在于演示如何基于Paddle2.0实现PointNet在ShapeNet数据集上进行点云分类处理。</font><br><br>"
   ]
  },
  {
   "cell_type": "markdown",
   "metadata": {
    "collapsed": false
   },
   "source": [
    "# **环境设置**"
   ]
  },
  {
   "cell_type": "code",
   "execution_count": null,
   "metadata": {
    "collapsed": false
   },
   "outputs": [],
   "source": [
    "import os\n",
    "import numpy as np\n",
    "import random\n",
    "import h5py\n",
    "import paddle\n",
    "import paddle.nn as nn\n",
    "import paddle.nn.functional as F"
   ]
  },
  {
   "cell_type": "markdown",
   "metadata": {
    "collapsed": false
   },
   "source": [
    "# **数据集**\n",
    "## **①数据介绍**\n",
    "&emsp;&emsp;&emsp;&emsp;<font size=4>ShapeNet数据集是一个注释丰富且规模较大的 3D 形状数据集，由斯坦福大学、普林斯顿大学和芝加哥丰田技术学院于 2015 年联合发布。</font><br><br>\n",
    "&emsp;&emsp;&emsp;&emsp;<font size=4>ShapeNet数据集的储存格式是h5文件，该文件中key值分别为：</font><br>\n",
    "&emsp;&emsp;&emsp;&emsp;<font size=4>1、data：这一份数据中所有点的xyz坐标，</font><br>\n",
    "&emsp;&emsp;&emsp;&emsp;<font size=4>2、label：这一份数据所属类别，如airplane等，</font><br>\n",
    "&emsp;&emsp;&emsp;&emsp;<font size=4>3、pid：这一份数据中所有点所属的类型，如这一份数据属airplane类，则它包含的所有点的类型有机翼、机身等类型。</font>\n",
    "## **②解压数据集**"
   ]
  },
  {
   "cell_type": "code",
   "execution_count": null,
   "metadata": {
    "collapsed": false
   },
   "outputs": [],
   "source": [
    "!unzip data/data70460/shapenet_part_seg_hdf5_data.zip\r\n",
    "!mv hdf5_data dataset"
   ]
  },
  {
   "cell_type": "markdown",
   "metadata": {
    "collapsed": false
   },
   "source": [
    "## **③数据列表**\n",
    "&emsp;&emsp;&emsp;&emsp;<font size=4>ShapeNet数据集所有的数据文件。</font><br><br>"
   ]
  },
  {
   "cell_type": "code",
   "execution_count": null,
   "metadata": {
    "collapsed": false
   },
   "outputs": [],
   "source": [
    "train_list = ['ply_data_train0.h5', 'ply_data_train1.h5', 'ply_data_train2.h5', 'ply_data_train3.h5', 'ply_data_train4.h5', 'ply_data_train5.h5']\r\n",
    "test_list = ['ply_data_test0.h5', 'ply_data_test1.h5']\r\n",
    "val_list = ['ply_data_val0.h5']"
   ]
  },
  {
   "cell_type": "markdown",
   "metadata": {
    "collapsed": false
   },
   "source": [
    "## **④搭建数据生成器**\n",
    "&emsp;&emsp;&emsp;&emsp;<font size=4>说明：将ShapeNet数据集全部读入后，按照Batchsize生成Mini-batch的数据。</font><br><br>"
   ]
  },
  {
   "cell_type": "code",
   "execution_count": null,
   "metadata": {
    "collapsed": false
   },
   "outputs": [],
   "source": [
    "def pointDataLoader(mode='train'):\r\n",
    "    path = './dataset/'\r\n",
    "    MAX_POINT = 2048\r\n",
    "    if mode == 'train':\r\n",
    "        BATCHSIZE = 128\r\n",
    "    else:\r\n",
    "        BATCHSIZE = 32\r\n",
    "\r\n",
    "    datas = []\r\n",
    "    labels = []\r\n",
    "    targets = []\r\n",
    "    if mode == 'train':\r\n",
    "        for file_list in train_list:\r\n",
    "            f = h5py.File(os.path.join(path, file_list), 'r')\r\n",
    "            datas.extend(f['data'][:, :MAX_POINT, :])\r\n",
    "            labels.extend(f['label'])\r\n",
    "            targets.extend(f['pid'][:, :MAX_POINT])\r\n",
    "            f.close()\r\n",
    "    elif mode == 'test':\r\n",
    "        for file_list in test_list:\r\n",
    "            f = h5py.File(os.path.join(path, file_list), 'r')\r\n",
    "            datas.extend(f['data'][:, :MAX_POINT, :])\r\n",
    "            labels.extend(f['label'])\r\n",
    "            targets.extend(f['pid'][:, :MAX_POINT])\r\n",
    "            f.close()\r\n",
    "    else:\r\n",
    "        for file_list in val_list:\r\n",
    "            f = h5py.File(os.path.join(path, file_list), 'r')\r\n",
    "            datas.extend(f['data'][:, :MAX_POINT, :])\r\n",
    "            labels.extend(f['label'])\r\n",
    "            targets.extend(f['pid'][:, :MAX_POINT])\r\n",
    "            f.close()\r\n",
    "\r\n",
    "    datas = np.array(datas)\r\n",
    "    labels = np.array(labels)\r\n",
    "    targets = np.array(targets)\r\n",
    "    print('==========load over==========')\r\n",
    "\r\n",
    "    index_list = list(range(len(datas)))\r\n",
    "\r\n",
    "    def pointDataGenerator():\r\n",
    "        if mode == 'train':\r\n",
    "            random.shuffle(index_list)\r\n",
    "        datas_list = []\r\n",
    "        labels_list = []\r\n",
    "        targets_list = []\r\n",
    "        for i in index_list:\r\n",
    "            target = np.reshape(targets[i], [MAX_POINT]).astype('int64')\r\n",
    "            datas_list.append(datas[i].T.astype('float32')) \r\n",
    "            labels_list.append(labels[i].astype('int64'))\r\n",
    "            targets_list.append(target)\r\n",
    "            if len(datas_list) == BATCHSIZE:\r\n",
    "                yield np.array(datas_list), np.array(labels_list), np.array(targets_list)\r\n",
    "                datas_list = []\r\n",
    "                labels_list = []\r\n",
    "                targets_list = []\r\n",
    "        if len(datas_list) > 0:\r\n",
    "            yield np.array(datas_list), np.array(labels_list), np.array(targets_list)\r\n",
    "\r\n",
    "    return pointDataGenerator"
   ]
  },
  {
   "cell_type": "markdown",
   "metadata": {
    "collapsed": false
   },
   "source": [
    "# **定义网络**\n",
    "&emsp;&emsp;&emsp;&emsp;<font size=4>PointNet是斯坦福大学研究人员提出的一个点云处理网络，在这篇论文中，它提出了空间变换网络（T-Net）解决点云的旋转问题（注：因为考虑到某一物体的点云旋转后还是该物体，所以需要有一个网络结构去学习并解决这个旋转问题），并且提出了采取MaxPooling的方法极大程度上地提取点云全局特征。</font><br><br>\n",
    "## **定义网络结构**"
   ]
  },
  {
   "cell_type": "code",
   "execution_count": null,
   "metadata": {
    "collapsed": false
   },
   "outputs": [],
   "source": [
    "class PointNet(nn.Layer):\r\n",
    "    def __init__(self, name_scope='PointNet_', num_classes=16, num_point=2048):\r\n",
    "        super(PointNet, self).__init__()\r\n",
    "        self.input_transform_net = nn.Sequential(\r\n",
    "            nn.Conv1D(3, 64, 1),\r\n",
    "            nn.BatchNorm(64),\r\n",
    "            nn.ReLU(),\r\n",
    "            nn.Conv1D(64, 128, 1),\r\n",
    "            nn.BatchNorm(128),\r\n",
    "            nn.ReLU(),\r\n",
    "            nn.Conv1D(128, 1024, 1),\r\n",
    "            nn.BatchNorm(1024),\r\n",
    "            nn.ReLU(),\r\n",
    "            nn.MaxPool1D(num_point)\r\n",
    "        )\r\n",
    "        self.input_fc = nn.Sequential(\r\n",
    "            nn.Linear(1024, 512),\r\n",
    "            nn.ReLU(),\r\n",
    "            nn.Linear(512, 256),\r\n",
    "            nn.ReLU(),\r\n",
    "            nn.Linear(256, 9,\r\n",
    "                weight_attr=paddle.framework.ParamAttr(initializer=paddle.nn.initializer.Assign(paddle.zeros((256, 9)))),\r\n",
    "                bias_attr=paddle.framework.ParamAttr(initializer=paddle.nn.initializer.Assign(paddle.reshape(paddle.eye(3), [-1])))\r\n",
    "            )\r\n",
    "        )\r\n",
    "        self.mlp_1 = nn.Sequential(\r\n",
    "            nn.Conv1D(3, 64, 1),\r\n",
    "            nn.BatchNorm(64),\r\n",
    "            nn.ReLU(),\r\n",
    "            nn.Conv1D(64, 64, 1),\r\n",
    "            nn.BatchNorm(64),\r\n",
    "            nn.ReLU(),\r\n",
    "        )\r\n",
    "        self.feature_transform_net = nn.Sequential(\r\n",
    "            nn.Conv1D(64, 64, 1),\r\n",
    "            nn.BatchNorm(64),\r\n",
    "            nn.ReLU(),\r\n",
    "            nn.Conv1D(64, 128, 1),\r\n",
    "            nn.BatchNorm(128),\r\n",
    "            nn.ReLU(),\r\n",
    "            nn.Conv1D(128, 1024, 1),\r\n",
    "            nn.BatchNorm(1024),\r\n",
    "            nn.ReLU(),\r\n",
    "\r\n",
    "            nn.MaxPool1D(num_point)\r\n",
    "        )\r\n",
    "        self.feature_fc = nn.Sequential(\r\n",
    "            nn.Linear(1024, 512),\r\n",
    "            nn.ReLU(),\r\n",
    "            nn.Linear(512, 256),\r\n",
    "            nn.ReLU(),\r\n",
    "            nn.Linear(256, 64*64)\r\n",
    "        )\r\n",
    "        self.mlp_2 = nn.Sequential(\r\n",
    "            nn.Conv1D(64, 64, 1),\r\n",
    "            nn.BatchNorm(64),\r\n",
    "            nn.ReLU(),\r\n",
    "            nn.Conv1D(64, 128, 1),\r\n",
    "            nn.BatchNorm(128),\r\n",
    "            nn.ReLU(),\r\n",
    "            nn.Conv1D(128, 1024, 1),\r\n",
    "            nn.BatchNorm(1024),\r\n",
    "            nn.ReLU(),\r\n",
    "        )\r\n",
    "        self.fc = nn.Sequential(\r\n",
    "            nn.Linear(1024, 512),\r\n",
    "            nn.ReLU(),\r\n",
    "            nn.Linear(512, 256),\r\n",
    "            nn.ReLU(),\r\n",
    "            nn.Dropout(p=0.7),\r\n",
    "            nn.Linear(256, num_classes),\r\n",
    "            nn.LogSoftmax(axis=-1)\r\n",
    "        )\r\n",
    "    def forward(self, inputs):\r\n",
    "        batchsize = inputs.shape[0]\r\n",
    "\r\n",
    "        t_net = self.input_transform_net(inputs)\r\n",
    "        t_net = paddle.squeeze(t_net, axis=-1)\r\n",
    "        t_net = self.input_fc(t_net)\r\n",
    "        t_net = paddle.reshape(t_net, [batchsize, 3, 3])\r\n",
    "\r\n",
    "        x = paddle.transpose(inputs, (0, 2, 1))\r\n",
    "        x = paddle.matmul(x, t_net)\r\n",
    "        x = paddle.transpose(x, (0, 2, 1))\r\n",
    "        x = self.mlp_1(x)\r\n",
    "\r\n",
    "        t_net = self.feature_transform_net(x)\r\n",
    "        t_net = paddle.squeeze(t_net, axis=-1)\r\n",
    "        t_net = self.feature_fc(t_net)\r\n",
    "        t_net = paddle.reshape(t_net, [batchsize, 64, 64])\r\n",
    "\r\n",
    "        x = paddle.squeeze(x, axis=-1)\r\n",
    "        x = paddle.transpose(x, (0, 2, 1))\r\n",
    "        x = paddle.matmul(x, t_net)\r\n",
    "        x = paddle.transpose(x, (0, 2, 1))\r\n",
    "        x = self.mlp_2(x)\r\n",
    "        x = paddle.max(x, axis=-1)\r\n",
    "        x = paddle.squeeze(x, axis=-1)\r\n",
    "        x = self.fc(x)\r\n",
    "\r\n",
    "        return x"
   ]
  },
  {
   "cell_type": "markdown",
   "metadata": {
    "collapsed": false
   },
   "source": [
    "## **网络结构可视化**"
   ]
  },
  {
   "cell_type": "code",
   "execution_count": null,
   "metadata": {
    "collapsed": false
   },
   "outputs": [
    {
     "name": "stdout",
     "output_type": "stream",
     "text": [
      "---------------------------------------------------------------------------\n",
      " Layer (type)       Input Shape          Output Shape         Param #    \n",
      "===========================================================================\n",
      "   Conv1D-1       [[64, 3, 2048]]       [64, 64, 2048]          256      \n",
      "  BatchNorm-1     [[64, 64, 2048]]      [64, 64, 2048]          256      \n",
      "    ReLU-1        [[64, 64, 2048]]      [64, 64, 2048]           0       \n",
      "   Conv1D-2       [[64, 64, 2048]]     [64, 128, 2048]         8,320     \n",
      "  BatchNorm-2    [[64, 128, 2048]]     [64, 128, 2048]          512      \n",
      "    ReLU-2       [[64, 128, 2048]]     [64, 128, 2048]           0       \n",
      "   Conv1D-3      [[64, 128, 2048]]     [64, 1024, 2048]       132,096    \n",
      "  BatchNorm-3    [[64, 1024, 2048]]    [64, 1024, 2048]        4,096     \n",
      "    ReLU-3       [[64, 1024, 2048]]    [64, 1024, 2048]          0       \n",
      "  MaxPool1D-1    [[64, 1024, 2048]]     [64, 1024, 1]            0       \n",
      "   Linear-1         [[64, 1024]]          [64, 512]           524,800    \n",
      "    ReLU-4          [[64, 512]]           [64, 512]              0       \n",
      "   Linear-2         [[64, 512]]           [64, 256]           131,328    \n",
      "    ReLU-5          [[64, 256]]           [64, 256]              0       \n",
      "   Linear-3         [[64, 256]]            [64, 9]             2,313     \n",
      "   Conv1D-4       [[64, 3, 2048]]       [64, 64, 2048]          256      \n",
      "  BatchNorm-4     [[64, 64, 2048]]      [64, 64, 2048]          256      \n",
      "    ReLU-6        [[64, 64, 2048]]      [64, 64, 2048]           0       \n",
      "   Conv1D-5       [[64, 64, 2048]]      [64, 64, 2048]         4,160     \n",
      "  BatchNorm-5     [[64, 64, 2048]]      [64, 64, 2048]          256      \n",
      "    ReLU-7        [[64, 64, 2048]]      [64, 64, 2048]           0       \n",
      "   Conv1D-6       [[64, 64, 2048]]      [64, 64, 2048]         4,160     \n",
      "  BatchNorm-6     [[64, 64, 2048]]      [64, 64, 2048]          256      \n",
      "    ReLU-8        [[64, 64, 2048]]      [64, 64, 2048]           0       \n",
      "   Conv1D-7       [[64, 64, 2048]]     [64, 128, 2048]         8,320     \n",
      "  BatchNorm-7    [[64, 128, 2048]]     [64, 128, 2048]          512      \n",
      "    ReLU-9       [[64, 128, 2048]]     [64, 128, 2048]           0       \n",
      "   Conv1D-8      [[64, 128, 2048]]     [64, 1024, 2048]       132,096    \n",
      "  BatchNorm-8    [[64, 1024, 2048]]    [64, 1024, 2048]        4,096     \n",
      "    ReLU-10      [[64, 1024, 2048]]    [64, 1024, 2048]          0       \n",
      "  MaxPool1D-2    [[64, 1024, 2048]]     [64, 1024, 1]            0       \n",
      "   Linear-4         [[64, 1024]]          [64, 512]           524,800    \n",
      "    ReLU-11         [[64, 512]]           [64, 512]              0       \n",
      "   Linear-5         [[64, 512]]           [64, 256]           131,328    \n",
      "    ReLU-12         [[64, 256]]           [64, 256]              0       \n",
      "   Linear-6         [[64, 256]]           [64, 4096]         1,052,672   \n",
      "   Conv1D-9       [[64, 64, 2048]]      [64, 64, 2048]         4,160     \n",
      "  BatchNorm-9     [[64, 64, 2048]]      [64, 64, 2048]          256      \n",
      "    ReLU-13       [[64, 64, 2048]]      [64, 64, 2048]           0       \n",
      "   Conv1D-10      [[64, 64, 2048]]     [64, 128, 2048]         8,320     \n",
      " BatchNorm-10    [[64, 128, 2048]]     [64, 128, 2048]          512      \n",
      "    ReLU-14      [[64, 128, 2048]]     [64, 128, 2048]           0       \n",
      "   Conv1D-11     [[64, 128, 2048]]     [64, 1024, 2048]       132,096    \n",
      " BatchNorm-11    [[64, 1024, 2048]]    [64, 1024, 2048]        4,096     \n",
      "    ReLU-15      [[64, 1024, 2048]]    [64, 1024, 2048]          0       \n",
      "   Linear-7         [[64, 1024]]          [64, 512]           524,800    \n",
      "    ReLU-16         [[64, 512]]           [64, 512]              0       \n",
      "   Linear-8         [[64, 512]]           [64, 256]           131,328    \n",
      "    ReLU-17         [[64, 256]]           [64, 256]              0       \n",
      "   Dropout-1        [[64, 256]]           [64, 256]              0       \n",
      "   Linear-9         [[64, 256]]            [64, 10]            2,570     \n",
      " LogSoftmax-1        [[64, 10]]            [64, 10]              0       \n",
      "===========================================================================\n",
      "Total params: 3,475,283\n",
      "Trainable params: 3,460,179\n",
      "Non-trainable params: 15,104\n",
      "---------------------------------------------------------------------------\n",
      "Input size (MB): 1.50\n",
      "Forward/backward pass size (MB): 11333.39\n",
      "Params size (MB): 13.26\n",
      "Estimated Total Size (MB): 11348.15\n",
      "---------------------------------------------------------------------------\n",
      "\n"
     ]
    },
    {
     "data": {
      "text/plain": [
       "{'total_params': 3475283, 'trainable_params': 3460179}"
      ]
     },
     "execution_count": null,
     "metadata": {},
     "output_type": "execute_result"
    }
   ],
   "source": [
    "pointnet = PointNet()\n",
    "paddle.summary(pointnet, (64, 3, 2048))"
   ]
  },
  {
   "cell_type": "markdown",
   "metadata": {
    "collapsed": false
   },
   "source": [
    "# **训练**"
   ]
  },
  {
   "cell_type": "code",
   "execution_count": 7,
   "metadata": {
    "collapsed": false
   },
   "outputs": [
    {
     "name": "stdout",
     "output_type": "stream",
     "text": [
      "train: epoch: 8, batch_id: 80, loss is: [0.16953929], accuracy is: [0.9765625]\n",
      "===================================val===========================================\n",
      "validation: loss is: 0.1051618754863739, accuracy is: 0.9724576473236084\n",
      "===================================train===========================================\n",
      "train: epoch: 9, batch_id: 0, loss is: [0.15017189], accuracy is: [0.9453125]\n",
      "train: epoch: 9, batch_id: 20, loss is: [0.10286096], accuracy is: [0.9765625]\n",
      "train: epoch: 9, batch_id: 40, loss is: [0.09501736], accuracy is: [0.9609375]\n",
      "train: epoch: 9, batch_id: 60, loss is: [0.06682345], accuracy is: [0.9765625]\n",
      "train: epoch: 9, batch_id: 80, loss is: [0.1222449], accuracy is: [0.96875]\n",
      "===================================val===========================================\n",
      "validation: loss is: 0.10170484334230423, accuracy is: 0.9703390002250671\n"
     ]
    }
   ],
   "source": [
    "def train():\n",
    "    train_loader = pointDataLoader(mode='train')\n",
    "    val_loader = pointDataLoader(mode='val')\n",
    "\n",
    "    model = PointNet(num_classes=16, num_point=2048)\n",
    "    model.train()\n",
    "    optim = paddle.optimizer.Adam(parameters=model.parameters(), weight_decay=0.001)\n",
    "\n",
    "    epoch_num = 10\n",
    "    for epoch in range(epoch_num):\n",
    "        # train\n",
    "        print(\"===================================train===========================================\")\n",
    "        for batch_id, data in enumerate(train_loader()):\n",
    "            inputs = paddle.to_tensor(data[0])\n",
    "            labels = paddle.to_tensor(data[1])\n",
    "\n",
    "            predicts = model(inputs)\n",
    "            loss = F.nll_loss(predicts, labels)\n",
    "            acc = paddle.metric.accuracy(predicts, labels)        \n",
    "\n",
    "            if batch_id % 20 == 0: \n",
    "                print(\"train: epoch: {}, batch_id: {}, loss is: {}, accuracy is: {}\".format(epoch, batch_id, loss.numpy(), acc.numpy()))\n",
    "            \n",
    "            loss.backward()\n",
    "            optim.step()\n",
    "            optim.clear_grad()\n",
    "\n",
    "        if epoch % 2 == 0:\n",
    "            paddle.save(model.state_dict(), './model/PointNet.pdparams')\n",
    "            paddle.save(optim.state_dict(), './model/PointNet.pdopt')\n",
    "        \n",
    "        # validation\n",
    "        print(\"===================================val===========================================\")\n",
    "        model.eval()\n",
    "        accuracies = []\n",
    "        losses = []\n",
    "        for batch_id, data in enumerate(val_loader()):\n",
    "            inputs = paddle.to_tensor(data[0])\n",
    "            labels = paddle.to_tensor(data[1])\n",
    "\n",
    "            predicts = model(inputs)\n",
    "\n",
    "            loss = F.nll_loss(predicts, labels)\n",
    "            acc = paddle.metric.accuracy(predicts, labels)    \n",
    "            \n",
    "            losses.append(loss.numpy())\n",
    "            accuracies.append(acc.numpy())\n",
    "\n",
    "        avg_acc, avg_loss = np.mean(accuracies), np.mean(losses)\n",
    "        print(\"validation: loss is: {}, accuracy is: {}\".format(avg_loss, avg_acc))\n",
    "        model.train()\n",
    "\n",
    "if __name__ == '__main__':\n",
    "    train()"
   ]
  },
  {
   "cell_type": "markdown",
   "metadata": {
    "collapsed": false
   },
   "source": [
    "# **评估与测试**"
   ]
  },
  {
   "cell_type": "code",
   "execution_count": 10,
   "metadata": {
    "collapsed": false
   },
   "outputs": [
    {
     "name": "stdout",
     "output_type": "stream",
     "text": [
      "==========load over==========\n",
      "validation: loss is: 0.14826710522174835, accuracy is: 0.9617254734039307\n"
     ]
    }
   ],
   "source": [
    "def evaluation():\r\n",
    "    test_loader = pointDataLoader(mode='test')\r\n",
    "    model = PointNet()\r\n",
    "    model_state_dict = paddle.load('./model/PointNet.pdparams')\r\n",
    "    model.load_dict(model_state_dict)\r\n",
    "\r\n",
    "    model.eval()\r\n",
    "    accuracies = []\r\n",
    "    losses = []\r\n",
    "    for batch_id, data in enumerate(test_loader()):\r\n",
    "        inputs = paddle.to_tensor(data[0])\r\n",
    "        labels = paddle.to_tensor(data[1])\r\n",
    "\r\n",
    "        predicts = model(inputs)\r\n",
    "\r\n",
    "        loss = F.nll_loss(predicts, labels)\r\n",
    "        acc = paddle.metric.accuracy(predicts, labels)    \r\n",
    "        \r\n",
    "        losses.append(loss.numpy())\r\n",
    "        accuracies.append(acc.numpy())\r\n",
    "\r\n",
    "    avg_acc, avg_loss = np.mean(accuracies), np.mean(losses)\r\n",
    "    print(\"validation: loss is: {}, accuracy is: {}\".format(avg_loss, avg_acc))\r\n",
    "\r\n",
    "if __name__ == '__main__':\r\n",
    "    evaluation()"
   ]
  }
 ],
 "metadata": {
  "kernelspec": {
   "display_name": "PaddlePaddle 2.0.0b0 (Python 3.5)",
   "language": "python",
   "name": "py35-paddle1.2.0"
  },
  "language_info": {
   "codemirror_mode": {
    "name": "ipython",
    "version": 3
   },
   "file_extension": ".py",
   "mimetype": "text/x-python",
   "name": "python",
   "nbconvert_exporter": "python",
   "pygments_lexer": "ipython3",
   "version": "3.7.4"
  }
 },
 "nbformat": 4,
 "nbformat_minor": 1
}
