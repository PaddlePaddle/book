{
 "cells": [
  {
   "cell_type": "markdown",
   "metadata": {},
   "source": [
    "# MNIST数据集使用LeNet进行图像分类\n",
    "本示例教程演示如何在MNIST数据集上用LeNet进行图像分类。\n",
    "手写数字的MNIST数据集，包含60,000个用于训练的示例和10,000个用于测试的示例。这些数字已经过尺寸标准化并位于图像中心，图像是固定大小(28x28像素)，其值为0到1。该数据集的官方地址为：http://yann.lecun.com/exdb/mnist/"
   ]
  },
  {
   "cell_type": "markdown",
   "metadata": {},
   "source": [
    "## 环境\n",
    "本教程基于paddle-develop编写，如果您的环境不是本版本，请先安装paddle-develop版本。"
   ]
  },
  {
   "cell_type": "code",
   "execution_count": 1,
   "metadata": {},
   "outputs": [
    {
     "name": "stdout",
     "output_type": "stream",
     "text": [
      "0.0.0\n"
     ]
    }
   ],
   "source": [
    "import paddle\n",
    "print(paddle.__version__)\n",
    "paddle.disable_static()"
   ]
  },
  {
   "cell_type": "markdown",
   "metadata": {},
   "source": [
    "## 加载数据集\n",
    "我们使用飞桨自带的paddle.dataset完成mnist数据集的加载。"
   ]
  },
  {
   "cell_type": "code",
   "execution_count": 3,
   "metadata": {},
   "outputs": [
    {
     "name": "stdout",
     "output_type": "stream",
     "text": [
      "download training data and load training data\n",
      "load finished\n"
     ]
    }
   ],
   "source": [
    "print('download training data and load training data')\n",
    "train_dataset = paddle.vision.datasets.MNIST(mode='train')\n",
    "test_dataset = paddle.vision.datasets.MNIST(mode='test')\n",
    "print('load finished')"
   ]
  },
  {
   "cell_type": "markdown",
   "metadata": {},
   "source": [
    "取训练集中的一条数据看一下。"
   ]
  },
  {
   "cell_type": "code",
   "execution_count": 4,
   "metadata": {},
   "outputs": [
    {
     "name": "stdout",
     "output_type": "stream",
     "text": [
      "train_data0 label is: [5]\n"
     ]
    },
    {
     "data": {
      "image/png": "[encoded data removed]",
      "text/plain": [
       "<Figure size 144x144 with 1 Axes>"
      ]
     },
     "metadata": {
      "needs_background": "light"
     },
     "output_type": "display_data"
    }
   ],
   "source": [
    "import numpy as np\n",
    "import matplotlib.pyplot as plt\n",
    "train_data0, train_label_0 = train_dataset[0][0],train_dataset[0][1]\n",
    "train_data0 = train_data0.reshape([28,28])\n",
    "plt.figure(figsize=(2,2))\n",
    "plt.imshow(train_data0, cmap=plt.cm.binary)\n",
    "print('train_data0 label is: ' + str(train_label_0))"
   ]
  },
  {
   "cell_type": "markdown",
   "metadata": {},
   "source": [
    "## 组网\n",
    "用paddle.nn下的API，如`Conv2d`、`Pool2D`、`Linead`完成LeNet的构建。"
   ]
  },
  {
   "cell_type": "code",
   "execution_count": 6,
   "metadata": {},
   "outputs": [],
   "source": [
    "import paddle\n",
    "import paddle.nn.functional as F\n",
    "class LeNet(paddle.nn.Layer):\n",
    "    def __init__(self):\n",
    "        super(LeNet, self).__init__()\n",
    "        self.conv1 = paddle.nn.Conv2d(in_channels=1, out_channels=6, kernel_size=5, stride=1, padding=2)\n",
    "        self.max_pool1 = paddle.nn.MaxPool2d(kernel_size=2,  stride=2)\n",
    "        self.conv2 = paddle.nn.Conv2d(in_channels=6, out_channels=16, kernel_size=5, stride=1)\n",
    "        self.max_pool2 = paddle.nn.MaxPool2d(kernel_size=2, stride=2)\n",
    "        self.linear1 = paddle.nn.Linear(in_features=16*5*5, out_features=120)\n",
    "        self.linear2 = paddle.nn.Linear(in_features=120, out_features=84)\n",
    "        self.linear3 = paddle.nn.Linear(in_features=84, out_features=10)\n",
    "\n",
    "    def forward(self, x):\n",
    "        x = self.conv1(x)\n",
    "        x = F.relu(x)\n",
    "        x = self.max_pool1(x)\n",
    "        x = F.relu(x)\n",
    "        x = self.conv2(x)\n",
    "        x = self.max_pool2(x)\n",
    "        x = paddle.reshape(x, shape=[-1, 16*5*5])\n",
    "        x = self.linear1(x)\n",
    "        x = F.relu(x)\n",
    "        x = self.linear2(x)\n",
    "        x = F.relu(x)\n",
    "        x = self.linear3(x)\n",
    "        x = F.softmax(x)\n",
    "        return x"
   ]
  },
  {
   "cell_type": "markdown",
   "metadata": {},
   "source": [
    "## 训练方式一\n",
    "组网后，开始对模型进行训练，先构建`train_loader`，加载训练数据，然后定义`train`函数，设置好损失函数后，按batch加载数据，完成模型的训练。"
   ]
  },
  {
   "cell_type": "code",
   "execution_count": 7,
   "metadata": {},
   "outputs": [
    {
     "name": "stdout",
     "output_type": "stream",
     "text": [
      "epoch: 0, batch_id: 0, loss is: [2.2995005], acc is: [0.203125]\n",
      "epoch: 0, batch_id: 100, loss is: [1.702814], acc is: [0.8125]\n",
      "epoch: 0, batch_id: 200, loss is: [1.7124052], acc is: [0.8125]\n",
      "epoch: 0, batch_id: 300, loss is: [1.5643386], acc is: [0.9375]\n",
      "epoch: 0, batch_id: 400, loss is: [1.5136976], acc is: [0.984375]\n",
      "epoch: 0, batch_id: 500, loss is: [1.5222038], acc is: [0.984375]\n",
      "epoch: 0, batch_id: 600, loss is: [1.4783416], acc is: [0.984375]\n",
      "epoch: 0, batch_id: 700, loss is: [1.54523], acc is: [0.96875]\n",
      "epoch: 0, batch_id: 800, loss is: [1.514551], acc is: [0.96875]\n",
      "epoch: 0, batch_id: 900, loss is: [1.4939153], acc is: [1.]\n",
      "epoch: 1, batch_id: 0, loss is: [1.477061], acc is: [0.984375]\n",
      "epoch: 1, batch_id: 100, loss is: [1.4883035], acc is: [0.984375]\n",
      "epoch: 1, batch_id: 200, loss is: [1.4999281], acc is: [0.984375]\n",
      "epoch: 1, batch_id: 300, loss is: [1.4922562], acc is: [0.984375]\n",
      "epoch: 1, batch_id: 400, loss is: [1.4850758], acc is: [1.]\n",
      "epoch: 1, batch_id: 500, loss is: [1.5012991], acc is: [1.]\n",
      "epoch: 1, batch_id: 600, loss is: [1.4764874], acc is: [0.984375]\n",
      "epoch: 1, batch_id: 700, loss is: [1.4904172], acc is: [0.96875]\n",
      "epoch: 1, batch_id: 800, loss is: [1.4927738], acc is: [0.984375]\n",
      "epoch: 1, batch_id: 900, loss is: [1.4963456], acc is: [0.984375]\n"
     ]
    }
   ],
   "source": [
    "import paddle\n",
    "train_loader = paddle.io.DataLoader(train_dataset, places=paddle.CPUPlace(), batch_size=64)\n",
    "# 加载训练集 batch_size 设为 64\n",
    "def train(model):\n",
    "    model.train()\n",
    "    epochs = 2\n",
    "    optim = paddle.optimizer.Adam(learning_rate=0.001, parameters=model.parameters())\n",
    "    # 用Adam作为优化函数\n",
    "    for epoch in range(epochs):\n",
    "        for batch_id, data in enumerate(train_loader()):\n",
    "            x_data = data[0]\n",
    "            y_data = data[1]\n",
    "            predicts = model(x_data)\n",
    "            loss = paddle.nn.functional.cross_entropy(predicts, y_data)\n",
    "            # 计算损失\n",
    "            acc = paddle.metric.accuracy(predicts, y_data, k=2)\n",
    "            avg_loss = paddle.mean(loss)\n",
    "            avg_acc = paddle.mean(acc)\n",
    "            avg_loss.backward()\n",
    "            if batch_id % 100 == 0:\n",
    "                print(\"epoch: {}, batch_id: {}, loss is: {}, acc is: {}\".format(epoch, batch_id, avg_loss.numpy(), avg_acc.numpy()))\n",
    "            optim.minimize(avg_loss)\n",
    "            model.clear_gradients()\n",
    "model = LeNet()\n",
    "train(model)"
   ]
  },
  {
   "cell_type": "markdown",
   "metadata": {},
   "source": [
    "### 对模型进行验证\n",
    "训练完成后，需要验证模型的效果，此时，加载测试数据集，然后用训练好的模对测试集进行预测，计算损失与精度。"
   ]
  },
  {
   "cell_type": "code",
   "execution_count": 9,
   "metadata": {},
   "outputs": [
    {
     "name": "stdout",
     "output_type": "stream",
     "text": [
      "batch_id: 0, loss is: [1.4612349], acc is: [1.]\n",
      "batch_id: 20, loss is: [1.5332814], acc is: [0.984375]\n",
      "batch_id: 40, loss is: [1.5118898], acc is: [0.984375]\n",
      "batch_id: 60, loss is: [1.4810294], acc is: [1.]\n",
      "batch_id: 80, loss is: [1.4771373], acc is: [0.984375]\n",
      "batch_id: 100, loss is: [1.461162], acc is: [1.]\n",
      "batch_id: 120, loss is: [1.4724121], acc is: [1.]\n",
      "batch_id: 140, loss is: [1.4933133], acc is: [1.]\n"
     ]
    }
   ],
   "source": [
    "import paddle\n",
    "test_loader = paddle.io.DataLoader(test_dataset, places=paddle.CPUPlace(), batch_size=64)\n",
    "# 加载测试数据集\n",
    "def test(model):\n",
    "    model.eval()\n",
    "    batch_size = 64\n",
    "    for batch_id, data in enumerate(test_loader()):\n",
    "        x_data = data[0]\n",
    "        y_data = data[1]\n",
    "        predicts = model(x_data)\n",
    "        # 获取预测结果\n",
    "        loss = paddle.nn.functional.cross_entropy(predicts, y_data)\n",
    "        acc = paddle.metric.accuracy(predicts, y_data, k=2)\n",
    "        avg_loss = paddle.mean(loss)\n",
    "        avg_acc = paddle.mean(acc)\n",
    "        avg_loss.backward()\n",
    "        if batch_id % 20 == 0:\n",
    "            print(\"batch_id: {}, loss is: {}, acc is: {}\".format(batch_id, avg_loss.numpy(), avg_acc.numpy()))\n",
    "test(model)"
   ]
  },
  {
   "cell_type": "markdown",
   "metadata": {},
   "source": [
    "### 训练方式一结束\n",
    "以上就是训练方式一，通过这种方式，可以清楚的看到训练和测试中的每一步过程。但是，这种方式句法比较复杂。因此，我们提供了训练方式二，能够更加快速、高效的完成模型的训练与测试。"
   ]
  },
  {
   "cell_type": "markdown",
   "metadata": {},
   "source": [
    "## 3.训练方式二\n",
    "通过paddle提供的`Model` 构建实例，使用封装好的训练与测试接口，快速完成模型训练与测试。"
   ]
  },
  {
   "cell_type": "code",
   "execution_count": 10,
   "metadata": {},
   "outputs": [],
   "source": [
    "import paddle\n",
    "from paddle.static import InputSpec\n",
    "from paddle.metric import Accuracy\n",
    "inputs = InputSpec([None, 784], 'float32', 'x')\n",
    "labels = InputSpec([None, 10], 'float32', 'x')\n",
    "model = paddle.Model(LeNet(), inputs, labels)\n",
    "optim = paddle.optimizer.Adam(learning_rate=0.001, parameters=model.parameters())\n",
    "\n",
    "model.prepare(\n",
    "    optim,\n",
    "    paddle.nn.loss.CrossEntropyLoss(),\n",
    "    Accuracy(topk=(1, 2))\n",
    "    )"
   ]
  },
  {
   "cell_type": "markdown",
   "metadata": {},
   "source": [
    "### 使用model.fit来训练模型"
   ]
  },
  {
   "cell_type": "code",
   "execution_count": 12,
   "metadata": {},
   "outputs": [
    {
     "name": "stdout",
     "output_type": "stream",
     "text": [
      "Epoch 1/2\n",
      "step  10/938 - loss: 1.5534 - acc_top1: 0.8193 - acc_top2: 0.8528 - 18ms/step\n",
      "step  20/938 - loss: 1.6291 - acc_top1: 0.8200 - acc_top2: 0.8534 - 17ms/step\n",
      "step  30/938 - loss: 1.6491 - acc_top1: 0.8208 - acc_top2: 0.8539 - 16ms/step\n",
      "step  40/938 - loss: 1.6150 - acc_top1: 0.8213 - acc_top2: 0.8542 - 16ms/step\n",
      "step  50/938 - loss: 1.6095 - acc_top1: 0.8221 - acc_top2: 0.8547 - 15ms/step\n",
      "step  60/938 - loss: 1.5847 - acc_top1: 0.8225 - acc_top2: 0.8550 - 15ms/step\n",
      "step  70/938 - loss: 1.5722 - acc_top1: 0.8232 - acc_top2: 0.8554 - 15ms/step\n",
      "step  80/938 - loss: 1.6349 - acc_top1: 0.8239 - acc_top2: 0.8560 - 15ms/step\n",
      "step  90/938 - loss: 1.5942 - acc_top1: 0.8244 - acc_top2: 0.8562 - 15ms/step\n",
      "step 100/938 - loss: 1.5275 - acc_top1: 0.8250 - acc_top2: 0.8566 - 15ms/step\n",
      "step 110/938 - loss: 1.6525 - acc_top1: 0.8254 - acc_top2: 0.8568 - 14ms/step\n",
      "step 120/938 - loss: 1.5975 - acc_top1: 0.8259 - acc_top2: 0.8572 - 14ms/step\n",
      "step 130/938 - loss: 1.6182 - acc_top1: 0.8266 - acc_top2: 0.8576 - 14ms/step\n",
      "step 140/938 - loss: 1.5838 - acc_top1: 0.8273 - acc_top2: 0.8582 - 14ms/step\n",
      "step 150/938 - loss: 1.6018 - acc_top1: 0.8277 - acc_top2: 0.8585 - 14ms/step\n",
      "step 160/938 - loss: 1.6154 - acc_top1: 0.8280 - acc_top2: 0.8586 - 14ms/step\n",
      "step 170/938 - loss: 1.5917 - acc_top1: 0.8286 - acc_top2: 0.8590 - 14ms/step\n",
      "step 180/938 - loss: 1.5839 - acc_top1: 0.8292 - acc_top2: 0.8595 - 14ms/step\n",
      "step 190/938 - loss: 1.6253 - acc_top1: 0.8297 - acc_top2: 0.8599 - 14ms/step\n",
      "step 200/938 - loss: 1.6693 - acc_top1: 0.8304 - acc_top2: 0.8606 - 14ms/step\n",
      "step 210/938 - loss: 1.6295 - acc_top1: 0.8308 - acc_top2: 0.8609 - 14ms/step\n",
      "step 220/938 - loss: 1.5866 - acc_top1: 0.8312 - acc_top2: 0.8612 - 14ms/step\n",
      "step 230/938 - loss: 1.5974 - acc_top1: 0.8317 - acc_top2: 0.8615 - 14ms/step\n",
      "step 240/938 - loss: 1.6106 - acc_top1: 0.8317 - acc_top2: 0.8615 - 14ms/step\n",
      "step 250/938 - loss: 1.5533 - acc_top1: 0.8322 - acc_top2: 0.8619 - 14ms/step\n",
      "step 260/938 - loss: 1.5722 - acc_top1: 0.8328 - acc_top2: 0.8624 - 14ms/step\n",
      "step 270/938 - loss: 1.5665 - acc_top1: 0.8331 - acc_top2: 0.8625 - 14ms/step\n",
      "step 280/938 - loss: 1.5390 - acc_top1: 0.8337 - acc_top2: 0.8629 - 14ms/step\n",
      "step 290/938 - loss: 1.5941 - acc_top1: 0.8343 - acc_top2: 0.8635 - 14ms/step\n",
      "step 300/938 - loss: 1.5803 - acc_top1: 0.8347 - acc_top2: 0.8637 - 14ms/step\n",
      "step 310/938 - loss: 1.6744 - acc_top1: 0.8349 - acc_top2: 0.8638 - 14ms/step\n",
      "step 320/938 - loss: 1.5946 - acc_top1: 0.8353 - acc_top2: 0.8641 - 14ms/step\n",
      "step 330/938 - loss: 1.6955 - acc_top1: 0.8357 - acc_top2: 0.8643 - 14ms/step\n",
      "step 340/938 - loss: 1.5741 - acc_top1: 0.8360 - acc_top2: 0.8645 - 14ms/step\n",
      "step 350/938 - loss: 1.5545 - acc_top1: 0.8366 - acc_top2: 0.8650 - 14ms/step\n",
      "step 360/938 - loss: 1.6141 - acc_top1: 0.8368 - acc_top2: 0.8651 - 14ms/step\n",
      "step 370/938 - loss: 1.6005 - acc_top1: 0.8370 - acc_top2: 0.8652 - 14ms/step\n",
      "step 380/938 - loss: 1.6500 - acc_top1: 0.8371 - acc_top2: 0.8653 - 14ms/step\n",
      "step 390/938 - loss: 1.5638 - acc_top1: 0.8375 - acc_top2: 0.8656 - 14ms/step\n",
      "step 400/938 - loss: 1.5408 - acc_top1: 0.8378 - acc_top2: 0.8658 - 14ms/step\n",
      "step 410/938 - loss: 1.5212 - acc_top1: 0.8384 - acc_top2: 0.8663 - 14ms/step\n",
      "step 420/938 - loss: 1.6247 - acc_top1: 0.8386 - acc_top2: 0.8665 - 14ms/step\n",
      "step 430/938 - loss: 1.5438 - acc_top1: 0.8390 - acc_top2: 0.8668 - 14ms/step\n",
      "step 440/938 - loss: 1.6159 - acc_top1: 0.8392 - acc_top2: 0.8670 - 14ms/step\n",
      "step 450/938 - loss: 1.5230 - acc_top1: 0.8395 - acc_top2: 0.8672 - 14ms/step\n",
      "step 460/938 - loss: 1.5234 - acc_top1: 0.8400 - acc_top2: 0.8676 - 14ms/step\n",
      "step 470/938 - loss: 1.5824 - acc_top1: 0.8402 - acc_top2: 0.8677 - 14ms/step\n",
      "step 480/938 - loss: 1.6291 - acc_top1: 0.8404 - acc_top2: 0.8678 - 14ms/step\n",
      "step 490/938 - loss: 1.5719 - acc_top1: 0.8407 - acc_top2: 0.8681 - 14ms/step\n",
      "step 500/938 - loss: 1.6320 - acc_top1: 0.8411 - acc_top2: 0.8684 - 14ms/step\n",
      "step 510/938 - loss: 1.5076 - acc_top1: 0.8415 - acc_top2: 0.8686 - 14ms/step\n",
      "step 520/938 - loss: 1.5702 - acc_top1: 0.8418 - acc_top2: 0.8689 - 14ms/step\n",
      "step 530/938 - loss: 1.5706 - acc_top1: 0.8421 - acc_top2: 0.8690 - 14ms/step\n",
      "step 540/938 - loss: 1.6402 - acc_top1: 0.8422 - acc_top2: 0.8691 - 14ms/step\n",
      "step 550/938 - loss: 1.5687 - acc_top1: 0.8423 - acc_top2: 0.8692 - 14ms/step\n",
      "step 560/938 - loss: 1.5610 - acc_top1: 0.8426 - acc_top2: 0.8693 - 14ms/step\n",
      "step 570/938 - loss: 1.6067 - acc_top1: 0.8430 - acc_top2: 0.8695 - 14ms/step\n",
      "step 580/938 - loss: 1.5817 - acc_top1: 0.8432 - acc_top2: 0.8697 - 14ms/step\n",
      "step 590/938 - loss: 1.6258 - acc_top1: 0.8436 - acc_top2: 0.8700 - 14ms/step\n",
      "step 600/938 - loss: 1.5284 - acc_top1: 0.8441 - acc_top2: 0.8705 - 14ms/step\n",
      "step 610/938 - loss: 1.5870 - acc_top1: 0.8441 - acc_top2: 0.8703 - 14ms/step\n",
      "step 620/938 - loss: 1.5420 - acc_top1: 0.8446 - acc_top2: 0.8706 - 14ms/step\n",
      "step 630/938 - loss: 1.6001 - acc_top1: 0.8448 - acc_top2: 0.8708 - 14ms/step\n",
      "step 640/938 - loss: 1.5437 - acc_top1: 0.8450 - acc_top2: 0.8709 - 14ms/step\n",
      "step 650/938 - loss: 1.5381 - acc_top1: 0.8454 - acc_top2: 0.8711 - 14ms/step\n",
      "step 660/938 - loss: 1.5686 - acc_top1: 0.8456 - acc_top2: 0.8713 - 14ms/step\n",
      "step 670/938 - loss: 1.5531 - acc_top1: 0.8459 - acc_top2: 0.8715 - 14ms/step\n",
      "step 680/938 - loss: 1.5980 - acc_top1: 0.8462 - acc_top2: 0.8718 - 14ms/step\n",
      "step 690/938 - loss: 1.6175 - acc_top1: 0.8464 - acc_top2: 0.8718 - 14ms/step\n",
      "step 700/938 - loss: 1.5681 - acc_top1: 0.8466 - acc_top2: 0.8719 - 14ms/step\n",
      "step 710/938 - loss: 1.6302 - acc_top1: 0.8468 - acc_top2: 0.8721 - 14ms/step\n",
      "step 720/938 - loss: 1.5627 - acc_top1: 0.8471 - acc_top2: 0.8723 - 14ms/step\n",
      "step 730/938 - loss: 1.5939 - acc_top1: 0.8474 - acc_top2: 0.8725 - 14ms/step\n",
      "step 740/938 - loss: 1.5649 - acc_top1: 0.8476 - acc_top2: 0.8727 - 14ms/step\n",
      "step 750/938 - loss: 1.5643 - acc_top1: 0.8479 - acc_top2: 0.8728 - 14ms/step\n",
      "step 760/938 - loss: 1.5932 - acc_top1: 0.8481 - acc_top2: 0.8730 - 14ms/step\n",
      "step 770/938 - loss: 1.6034 - acc_top1: 0.8482 - acc_top2: 0.8730 - 14ms/step\n",
      "step 780/938 - loss: 1.6491 - acc_top1: 0.8484 - acc_top2: 0.8732 - 14ms/step\n",
      "step 790/938 - loss: 1.5463 - acc_top1: 0.8487 - acc_top2: 0.8734 - 14ms/step\n",
      "step 800/938 - loss: 1.6162 - acc_top1: 0.8488 - acc_top2: 0.8735 - 14ms/step\n",
      "step 810/938 - loss: 1.6581 - acc_top1: 0.8489 - acc_top2: 0.8735 - 14ms/step\n",
      "step 820/938 - loss: 1.5841 - acc_top1: 0.8492 - acc_top2: 0.8737 - 14ms/step\n",
      "step 830/938 - loss: 1.6016 - acc_top1: 0.8493 - acc_top2: 0.8738 - 14ms/step\n",
      "step 840/938 - loss: 1.5350 - acc_top1: 0.8495 - acc_top2: 0.8739 - 14ms/step\n",
      "step 850/938 - loss: 1.5261 - acc_top1: 0.8497 - acc_top2: 0.8741 - 14ms/step\n",
      "step 860/938 - loss: 1.5987 - acc_top1: 0.8499 - acc_top2: 0.8741 - 14ms/step\n",
      "step 870/938 - loss: 1.5469 - acc_top1: 0.8500 - acc_top2: 0.8742 - 14ms/step\n",
      "step 880/938 - loss: 1.5297 - acc_top1: 0.8503 - acc_top2: 0.8744 - 14ms/step\n",
      "step 890/938 - loss: 1.5429 - acc_top1: 0.8505 - acc_top2: 0.8746 - 14ms/step\n",
      "step 900/938 - loss: 1.5422 - acc_top1: 0.8507 - acc_top2: 0.8747 - 14ms/step\n",
      "step 910/938 - loss: 1.5809 - acc_top1: 0.8510 - acc_top2: 0.8749 - 14ms/step\n",
      "step 920/938 - loss: 1.6190 - acc_top1: 0.8512 - acc_top2: 0.8750 - 14ms/step\n",
      "step 930/938 - loss: 1.5281 - acc_top1: 0.8513 - acc_top2: 0.8751 - 14ms/step\n",
      "step 938/938 - loss: 1.4938 - acc_top1: 0.8515 - acc_top2: 0.8753 - 14ms/step\n",
      "save checkpoint at /Users/chenlong/online_repo/book/paddle2.0_docs/image_classification/mnist_checkpoint/0\n",
      "Epoch 2/2\n",
      "step  10/938 - loss: 1.5772 - acc_top1: 0.9047 - acc_top2: 0.9187 - 15ms/step\n",
      "step  20/938 - loss: 1.5632 - acc_top1: 0.8867 - acc_top2: 0.9008 - 14ms/step\n",
      "step  30/938 - loss: 1.5695 - acc_top1: 0.8849 - acc_top2: 0.8969 - 14ms/step\n",
      "step  40/938 - loss: 1.5621 - acc_top1: 0.8855 - acc_top2: 0.8980 - 14ms/step\n",
      "step  50/938 - loss: 1.5238 - acc_top1: 0.8850 - acc_top2: 0.8978 - 14ms/step\n",
      "step  60/938 - loss: 1.5087 - acc_top1: 0.8810 - acc_top2: 0.8943 - 14ms/step\n",
      "step  70/938 - loss: 1.5442 - acc_top1: 0.8850 - acc_top2: 0.8969 - 14ms/step\n",
      "step  80/938 - loss: 1.5231 - acc_top1: 0.8891 - acc_top2: 0.9002 - 14ms/step\n",
      "step  90/938 - loss: 1.5878 - acc_top1: 0.8894 - acc_top2: 0.9012 - 14ms/step\n",
      "step 100/938 - loss: 1.5817 - acc_top1: 0.8888 - acc_top2: 0.9002 - 14ms/step\n"
     ]
    },
    {
     "name": "stdout",
     "output_type": "stream",
     "text": [
      "step 110/938 - loss: 1.6333 - acc_top1: 0.8842 - acc_top2: 0.8956 - 14ms/step\n",
      "step 120/938 - loss: 1.5531 - acc_top1: 0.8852 - acc_top2: 0.8964 - 14ms/step\n",
      "step 130/938 - loss: 1.5841 - acc_top1: 0.8859 - acc_top2: 0.8972 - 14ms/step\n",
      "step 140/938 - loss: 1.5931 - acc_top1: 0.8866 - acc_top2: 0.8979 - 14ms/step\n",
      "step 150/938 - loss: 1.6001 - acc_top1: 0.8861 - acc_top2: 0.8977 - 14ms/step\n",
      "step 160/938 - loss: 1.6186 - acc_top1: 0.8866 - acc_top2: 0.8984 - 14ms/step\n",
      "step 170/938 - loss: 1.5806 - acc_top1: 0.8862 - acc_top2: 0.8984 - 14ms/step\n",
      "step 180/938 - loss: 1.5691 - acc_top1: 0.8876 - acc_top2: 0.8995 - 14ms/step\n",
      "step 190/938 - loss: 1.5996 - acc_top1: 0.8875 - acc_top2: 0.8993 - 14ms/step\n",
      "step 200/938 - loss: 1.5465 - acc_top1: 0.8884 - acc_top2: 0.9001 - 14ms/step\n",
      "step 210/938 - loss: 1.5760 - acc_top1: 0.8882 - acc_top2: 0.8999 - 14ms/step\n",
      "step 220/938 - loss: 1.5783 - acc_top1: 0.8884 - acc_top2: 0.9004 - 14ms/step\n",
      "step 230/938 - loss: 1.6558 - acc_top1: 0.8881 - acc_top2: 0.9002 - 14ms/step\n",
      "step 240/938 - loss: 1.6179 - acc_top1: 0.8878 - acc_top2: 0.8998 - 14ms/step\n",
      "step 250/938 - loss: 1.6191 - acc_top1: 0.8881 - acc_top2: 0.9001 - 14ms/step\n",
      "step 260/938 - loss: 1.5695 - acc_top1: 0.8880 - acc_top2: 0.8999 - 13ms/step\n",
      "step 270/938 - loss: 1.5550 - acc_top1: 0.8872 - acc_top2: 0.8991 - 13ms/step\n",
      "step 280/938 - loss: 1.5474 - acc_top1: 0.8878 - acc_top2: 0.8997 - 13ms/step\n",
      "step 290/938 - loss: 1.5654 - acc_top1: 0.8882 - acc_top2: 0.9003 - 13ms/step\n",
      "step 300/938 - loss: 1.5629 - acc_top1: 0.8881 - acc_top2: 0.9001 - 13ms/step\n",
      "step 310/938 - loss: 1.5531 - acc_top1: 0.8880 - acc_top2: 0.8999 - 13ms/step\n",
      "step 320/938 - loss: 1.6483 - acc_top1: 0.8874 - acc_top2: 0.8992 - 13ms/step\n",
      "step 330/938 - loss: 1.5640 - acc_top1: 0.8878 - acc_top2: 0.8996 - 13ms/step\n",
      "step 340/938 - loss: 1.6111 - acc_top1: 0.8873 - acc_top2: 0.8994 - 13ms/step\n",
      "step 350/938 - loss: 1.6553 - acc_top1: 0.8871 - acc_top2: 0.8994 - 13ms/step\n",
      "step 360/938 - loss: 1.6026 - acc_top1: 0.8872 - acc_top2: 0.8995 - 13ms/step\n",
      "step 370/938 - loss: 1.6014 - acc_top1: 0.8872 - acc_top2: 0.8995 - 13ms/step\n",
      "step 380/938 - loss: 1.6159 - acc_top1: 0.8868 - acc_top2: 0.8993 - 13ms/step\n",
      "step 390/938 - loss: 1.5705 - acc_top1: 0.8869 - acc_top2: 0.8992 - 13ms/step\n",
      "step 400/938 - loss: 1.5503 - acc_top1: 0.8865 - acc_top2: 0.8991 - 13ms/step\n",
      "step 410/938 - loss: 1.5335 - acc_top1: 0.8862 - acc_top2: 0.8987 - 13ms/step\n",
      "step 420/938 - loss: 1.5994 - acc_top1: 0.8856 - acc_top2: 0.8982 - 13ms/step\n",
      "step 430/938 - loss: 1.6085 - acc_top1: 0.8856 - acc_top2: 0.8980 - 13ms/step\n",
      "step 440/938 - loss: 1.5617 - acc_top1: 0.8855 - acc_top2: 0.8979 - 13ms/step\n",
      "step 450/938 - loss: 1.5118 - acc_top1: 0.8853 - acc_top2: 0.8978 - 13ms/step\n",
      "step 460/938 - loss: 1.5077 - acc_top1: 0.8852 - acc_top2: 0.8976 - 13ms/step\n",
      "step 470/938 - loss: 1.5794 - acc_top1: 0.8851 - acc_top2: 0.8975 - 13ms/step\n",
      "step 480/938 - loss: 1.5394 - acc_top1: 0.8854 - acc_top2: 0.8978 - 13ms/step\n",
      "step 490/938 - loss: 1.5248 - acc_top1: 0.8857 - acc_top2: 0.8981 - 13ms/step\n",
      "step 500/938 - loss: 1.5524 - acc_top1: 0.8858 - acc_top2: 0.8981 - 13ms/step\n",
      "step 510/938 - loss: 1.5841 - acc_top1: 0.8856 - acc_top2: 0.8979 - 13ms/step\n",
      "step 520/938 - loss: 1.5625 - acc_top1: 0.8856 - acc_top2: 0.8980 - 13ms/step\n",
      "step 530/938 - loss: 1.5383 - acc_top1: 0.8853 - acc_top2: 0.8977 - 13ms/step\n",
      "step 540/938 - loss: 1.5434 - acc_top1: 0.8853 - acc_top2: 0.8977 - 13ms/step\n",
      "step 550/938 - loss: 1.5983 - acc_top1: 0.8849 - acc_top2: 0.8973 - 13ms/step\n",
      "step 560/938 - loss: 1.5365 - acc_top1: 0.8852 - acc_top2: 0.8975 - 14ms/step\n",
      "step 570/938 - loss: 1.6170 - acc_top1: 0.8852 - acc_top2: 0.8976 - 14ms/step\n",
      "step 580/938 - loss: 1.5823 - acc_top1: 0.8851 - acc_top2: 0.8974 - 14ms/step\n",
      "step 590/938 - loss: 1.4981 - acc_top1: 0.8855 - acc_top2: 0.8977 - 14ms/step\n",
      "step 600/938 - loss: 1.5991 - acc_top1: 0.8858 - acc_top2: 0.8980 - 14ms/step\n",
      "step 610/938 - loss: 1.5223 - acc_top1: 0.8859 - acc_top2: 0.8981 - 14ms/step\n",
      "step 620/938 - loss: 1.5860 - acc_top1: 0.8857 - acc_top2: 0.8979 - 14ms/step\n",
      "step 630/938 - loss: 1.6130 - acc_top1: 0.8859 - acc_top2: 0.8981 - 14ms/step\n",
      "step 640/938 - loss: 1.5719 - acc_top1: 0.8857 - acc_top2: 0.8978 - 14ms/step\n",
      "step 650/938 - loss: 1.6147 - acc_top1: 0.8855 - acc_top2: 0.8978 - 14ms/step\n",
      "step 660/938 - loss: 1.5689 - acc_top1: 0.8853 - acc_top2: 0.8976 - 14ms/step\n",
      "step 670/938 - loss: 1.6219 - acc_top1: 0.8852 - acc_top2: 0.8974 - 14ms/step\n",
      "step 680/938 - loss: 1.5233 - acc_top1: 0.8851 - acc_top2: 0.8972 - 14ms/step\n",
      "step 690/938 - loss: 1.5640 - acc_top1: 0.8850 - acc_top2: 0.8971 - 14ms/step\n",
      "step 700/938 - loss: 1.5737 - acc_top1: 0.8852 - acc_top2: 0.8973 - 14ms/step\n",
      "step 710/938 - loss: 1.6015 - acc_top1: 0.8852 - acc_top2: 0.8972 - 14ms/step\n",
      "step 720/938 - loss: 1.6040 - acc_top1: 0.8849 - acc_top2: 0.8970 - 14ms/step\n",
      "step 730/938 - loss: 1.5404 - acc_top1: 0.8847 - acc_top2: 0.8967 - 14ms/step\n",
      "step 740/938 - loss: 1.5678 - acc_top1: 0.8848 - acc_top2: 0.8967 - 14ms/step\n",
      "step 750/938 - loss: 1.5715 - acc_top1: 0.8847 - acc_top2: 0.8966 - 14ms/step\n",
      "step 760/938 - loss: 1.5236 - acc_top1: 0.8850 - acc_top2: 0.8968 - 14ms/step\n",
      "step 770/938 - loss: 1.5239 - acc_top1: 0.8851 - acc_top2: 0.8969 - 14ms/step\n",
      "step 780/938 - loss: 1.5281 - acc_top1: 0.8849 - acc_top2: 0.8966 - 13ms/step\n",
      "step 790/938 - loss: 1.6295 - acc_top1: 0.8847 - acc_top2: 0.8964 - 14ms/step\n",
      "step 800/938 - loss: 1.5293 - acc_top1: 0.8847 - acc_top2: 0.8964 - 14ms/step\n",
      "step 810/938 - loss: 1.5357 - acc_top1: 0.8848 - acc_top2: 0.8965 - 14ms/step\n",
      "step 820/938 - loss: 1.5909 - acc_top1: 0.8850 - acc_top2: 0.8966 - 14ms/step\n",
      "step 830/938 - loss: 1.6225 - acc_top1: 0.8851 - acc_top2: 0.8968 - 14ms/step\n",
      "step 840/938 - loss: 1.6295 - acc_top1: 0.8850 - acc_top2: 0.8967 - 14ms/step\n",
      "step 850/938 - loss: 1.6151 - acc_top1: 0.8848 - acc_top2: 0.8966 - 14ms/step\n",
      "step 860/938 - loss: 1.5418 - acc_top1: 0.8848 - acc_top2: 0.8965 - 13ms/step\n",
      "step 870/938 - loss: 1.5689 - acc_top1: 0.8849 - acc_top2: 0.8966 - 13ms/step\n",
      "step 880/938 - loss: 1.5985 - acc_top1: 0.8848 - acc_top2: 0.8965 - 13ms/step\n",
      "step 890/938 - loss: 1.5387 - acc_top1: 0.8849 - acc_top2: 0.8965 - 13ms/step\n",
      "step 900/938 - loss: 1.5529 - acc_top1: 0.8848 - acc_top2: 0.8964 - 13ms/step\n",
      "step 910/938 - loss: 1.5578 - acc_top1: 0.8850 - acc_top2: 0.8965 - 13ms/step\n",
      "step 920/938 - loss: 1.5699 - acc_top1: 0.8847 - acc_top2: 0.8962 - 13ms/step\n",
      "step 930/938 - loss: 1.6792 - acc_top1: 0.8846 - acc_top2: 0.8962 - 13ms/step\n",
      "step 938/938 - loss: 1.5517 - acc_top1: 0.8848 - acc_top2: 0.8964 - 13ms/step\n",
      "save checkpoint at /Users/chenlong/online_repo/book/paddle2.0_docs/image_classification/mnist_checkpoint/1\n",
      "save checkpoint at /Users/chenlong/online_repo/book/paddle2.0_docs/image_classification/mnist_checkpoint/final\n"
     ]
    }
   ],
   "source": [
    "model.fit(train_dataset,\n",
    "        epochs=2,\n",
    "        batch_size=64,\n",
    "        save_dir='mnist_checkpoint')"
   ]
  },
  {
   "cell_type": "markdown",
   "metadata": {},
   "source": [
    "### 使用model.evaluate来预测模型"
   ]
  },
  {
   "cell_type": "code",
   "execution_count": 13,
   "metadata": {},
   "outputs": [
    {
     "name": "stdout",
     "output_type": "stream",
     "text": [
      "Eval begin...\n",
      "step  10/157 - loss: 1.6454 - acc_top1: 0.8703 - acc_top2: 0.8875 - 8ms/step\n",
      "step  20/157 - loss: 1.5867 - acc_top1: 0.8820 - acc_top2: 0.9016 - 7ms/step\n",
      "step  30/157 - loss: 1.6453 - acc_top1: 0.8750 - acc_top2: 0.8958 - 7ms/step\n",
      "step  40/157 - loss: 1.5607 - acc_top1: 0.8777 - acc_top2: 0.8977 - 6ms/step\n",
      "step  50/157 - loss: 1.5788 - acc_top1: 0.8759 - acc_top2: 0.8978 - 6ms/step\n",
      "step  60/157 - loss: 1.5746 - acc_top1: 0.8802 - acc_top2: 0.9003 - 6ms/step\n",
      "step  70/157 - loss: 1.5901 - acc_top1: 0.8728 - acc_top2: 0.8917 - 6ms/step\n",
      "step  80/157 - loss: 1.5756 - acc_top1: 0.8697 - acc_top2: 0.8898 - 6ms/step\n",
      "step  90/157 - loss: 1.6069 - acc_top1: 0.8719 - acc_top2: 0.8906 - 6ms/step\n",
      "step 100/157 - loss: 1.5112 - acc_top1: 0.8748 - acc_top2: 0.8927 - 6ms/step\n",
      "step 110/157 - loss: 1.5663 - acc_top1: 0.8754 - acc_top2: 0.8925 - 6ms/step\n",
      "step 120/157 - loss: 1.5676 - acc_top1: 0.8771 - acc_top2: 0.8928 - 6ms/step\n",
      "step 130/157 - loss: 1.5716 - acc_top1: 0.8782 - acc_top2: 0.8935 - 6ms/step\n",
      "step 140/157 - loss: 1.6288 - acc_top1: 0.8796 - acc_top2: 0.8939 - 6ms/step\n",
      "step 150/157 - loss: 1.5972 - acc_top1: 0.8803 - acc_top2: 0.8945 - 6ms/step\n",
      "step 157/157 - loss: 1.5213 - acc_top1: 0.8803 - acc_top2: 0.8950 - 6ms/step\n",
      "Eval samples: 10000\n"
     ]
    },
    {
     "data": {
      "text/plain": [
       "{'loss': [1.5213077], 'acc_top1': 0.8803, 'acc_top2': 0.895}"
      ]
     },
     "execution_count": 13,
     "metadata": {},
     "output_type": "execute_result"
    }
   ],
   "source": [
    "model.evaluate(test_dataset, batch_size=64)"
   ]
  },
  {
   "cell_type": "markdown",
   "metadata": {},
   "source": [
    "### 训练方式二结束\n",
    "以上就是训练方式二，可以快速、高效的完成网络模型训练与预测。"
   ]
  },
  {
   "cell_type": "markdown",
   "metadata": {},
   "source": [
    "## 总结\n"
   ]
  },
  {
   "cell_type": "markdown",
   "metadata": {},
   "source": [
    "以上就是用LeNet对手写数字数据及MNIST进行分类。本示例提供了两种训练模型的方式，一种可以快速完成模型的组建与预测，非常适合新手用户上手。另一种则需要多个步骤来完成模型的训练，适合进阶用户使用。"
   ]
  }
 ],
 "metadata": {
  "kernelspec": {
   "display_name": "Python 3",
   "language": "python",
   "name": "python3"
  },
  "language_info": {
   "codemirror_mode": {
    "name": "ipython",
    "version": 3
   },
   "file_extension": ".py",
   "mimetype": "text/x-python",
   "name": "python",
   "nbconvert_exporter": "python",
   "pygments_lexer": "ipython3",
   "version": "3.7.3"
  }
 },
 "nbformat": 4,
 "nbformat_minor": 4
}
