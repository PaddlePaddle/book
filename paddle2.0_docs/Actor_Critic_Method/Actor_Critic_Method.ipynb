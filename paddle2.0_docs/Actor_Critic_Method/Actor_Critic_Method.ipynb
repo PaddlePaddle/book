{
 "cells": [
  {
   "cell_type": "markdown",
   "metadata": {
    "collapsed": false
   },
   "source": [
    "# **强化学习——Actor Critic Method**\n",
    "**作者：**:[EastSmith](https://github.com/EastSmith)\n",
    "\n",
    "**日期：** 2021.02 \n",
    "\n",
    "## **一、介绍**\n",
    "这个脚本展示了CartPole-V0环境中Actor-Critic方法的一个实现。\n",
    "\n",
    "### Actor Critic Method（演员--评论家算法）\n",
    "当代理在环境中执行操作和移动时，它将学习将观察到的环境状态映射到两个可能的输出：\n",
    "* 推荐动作：动作空间中每个动作的概率值。代理中负责此输出的部分称为actor（演员）。\n",
    "* 未来预期回报：它预期在未来获得的所有回报的总和。负责此输出的代理部分是critic（评论家）。\n",
    "演员和评论家学习执行他们的任务，这样演员推荐的动作就能获得最大的回报。\n",
    "\n",
    "### CartPole-V0\n",
    "在无摩擦的轨道上，一根杆子系在一辆手推车上。agent（代理）必须施加力才能移动手推车。每走一步，杆子就保持直立，这是奖励。因此，agent（代理）必须学会防止杆子掉下来。\n"
   ]
  },
  {
   "cell_type": "markdown",
   "metadata": {
    "collapsed": false
   },
   "source": [
    "## **二、环境配置**\n",
    "本教程基于Paddle 2.0 编写，如果您的环境不是本版本，请先参考官网[安装](https://www.paddlepaddle.org.cn/install/quick) Paddle 2.0 。"
   ]
  },
  {
   "cell_type": "code",
   "execution_count": 3,
   "metadata": {
    "collapsed": false
   },
   "outputs": [],
   "source": [
    "import gym, os\r\n",
    "from itertools import count\r\n",
    "import paddle\r\n",
    "import paddle.nn as nn\r\n",
    "import paddle.optimizer as optim\r\n",
    "import paddle.nn.functional as F\r\n",
    "from paddle.distribution import Categorical\r\n"
   ]
  },
  {
   "cell_type": "markdown",
   "metadata": {
    "collapsed": false
   },
   "source": [
    "## **三、实施演员-评论家网络**\n",
    "### 这个网络学习两个功能：\n",
    "* 演员Actor：它将环境的状态作为输入，并为其动作空间中的每个动作返回一个概率值。\n",
    "* 评论家Critic：它将我们的环境状态作为输入，并返回对未来总回报的估计。"
   ]
  },
  {
   "cell_type": "code",
   "execution_count": 5,
   "metadata": {
    "collapsed": false
   },
   "outputs": [],
   "source": [
    "device = paddle.get_device()\r\n",
    "env = gym.make(\"CartPole-v0\")  ### 或者 env = gym.make(\"CartPole-v0\").unwrapped 开启无锁定环境训练\r\n",
    "\r\n",
    "state_size = env.observation_space.shape[0]\r\n",
    "action_size = env.action_space.n\r\n",
    "lr = 0.001\r\n",
    "\r\n",
    "class Actor(nn.Layer):\r\n",
    "    def __init__(self, state_size, action_size):\r\n",
    "        super(Actor, self).__init__()\r\n",
    "        self.state_size = state_size\r\n",
    "        self.action_size = action_size\r\n",
    "        self.linear1 = nn.Linear(self.state_size, 128)\r\n",
    "        self.linear2 = nn.Linear(128, 256)\r\n",
    "        self.linear3 = nn.Linear(256, self.action_size)\r\n",
    "\r\n",
    "    def forward(self, state):\r\n",
    "        output = F.relu(self.linear1(state))\r\n",
    "        output = F.relu(self.linear2(output))\r\n",
    "        output = self.linear3(output)\r\n",
    "        distribution = Categorical(F.softmax(output, axis=-1))\r\n",
    "        return distribution\r\n",
    "\r\n",
    "\r\n",
    "class Critic(nn.Layer):\r\n",
    "    def __init__(self, state_size, action_size):\r\n",
    "        super(Critic, self).__init__()\r\n",
    "        self.state_size = state_size\r\n",
    "        self.action_size = action_size\r\n",
    "        self.linear1 = nn.Linear(self.state_size, 128)\r\n",
    "        self.linear2 = nn.Linear(128, 256)\r\n",
    "        self.linear3 = nn.Linear(256, 1)\r\n",
    "\r\n",
    "    def forward(self, state):\r\n",
    "        output = F.relu(self.linear1(state))\r\n",
    "        output = F.relu(self.linear2(output))\r\n",
    "        value = self.linear3(output)\r\n",
    "        return value\r\n"
   ]
  },
  {
   "cell_type": "markdown",
   "metadata": {
    "collapsed": false
   },
   "source": [
    "## **四、训练模型**"
   ]
  },
  {
   "cell_type": "code",
   "execution_count": 4,
   "metadata": {
    "collapsed": false
   },
   "outputs": [
    {
     "name": "stdout",
     "output_type": "stream",
     "text": [
      "Iteration: 0, Score: 19\n",
      "Iteration: 10, Score: 59\n",
      "Iteration: 20, Score: 24\n",
      "Iteration: 30, Score: 33\n",
      "Iteration: 40, Score: 39\n",
      "Iteration: 50, Score: 62\n",
      "Iteration: 60, Score: 44\n",
      "Iteration: 70, Score: 59\n",
      "Iteration: 80, Score: 21\n",
      "Iteration: 90, Score: 85\n",
      "Iteration: 100, Score: 152\n",
      "Iteration: 110, Score: 103\n",
      "Iteration: 120, Score: 69\n",
      "Iteration: 130, Score: 170\n",
      "Iteration: 140, Score: 199\n",
      "Iteration: 150, Score: 197\n",
      "Iteration: 160, Score: 199\n",
      "Iteration: 170, Score: 199\n",
      "Iteration: 180, Score: 163\n",
      "Iteration: 190, Score: 199\n",
      "Iteration: 200, Score: 199\n"
     ]
    }
   ],
   "source": [
    "\r\n",
    "def compute_returns(next_value, rewards, masks, gamma=0.99):\r\n",
    "    R = next_value\r\n",
    "    returns = []\r\n",
    "    for step in reversed(range(len(rewards))):\r\n",
    "        R = rewards[step] + gamma * R * masks[step]\r\n",
    "        returns.insert(0, R)\r\n",
    "    return returns\r\n",
    "\r\n",
    "\r\n",
    "def trainIters(actor, critic, n_iters):\r\n",
    "    optimizerA = optim.Adam(lr, parameters=actor.parameters())\r\n",
    "    optimizerC = optim.Adam(lr, parameters=critic.parameters())\r\n",
    "    for iter in range(n_iters):\r\n",
    "        state = env.reset()\r\n",
    "        log_probs = []\r\n",
    "        values = []\r\n",
    "        rewards = []\r\n",
    "        masks = []\r\n",
    "        entropy = 0\r\n",
    "        env.reset()\r\n",
    "\r\n",
    "        for i in count():\r\n",
    "            # env.render()\r\n",
    "            state = paddle.to_tensor(state,dtype=\"float32\",place=device)\r\n",
    "            dist, value = actor(state), critic(state)\r\n",
    "\r\n",
    "            action = dist.sample([1])\r\n",
    "            next_state, reward, done, _ = env.step(action.cpu().squeeze(0).numpy()) #env.step(action.cpu().squeeze(0).numpy())\r\n",
    "\r\n",
    "            log_prob = dist.log_prob(action);\r\n",
    "            entropy += dist.entropy().mean()\r\n",
    "\r\n",
    "            log_probs.append(log_prob)\r\n",
    "            values.append(value)\r\n",
    "            rewards.append(paddle.to_tensor([reward], dtype=\"float32\", place=device))\r\n",
    "            masks.append(paddle.to_tensor([1-done], dtype=\"float32\", place=device))\r\n",
    "\r\n",
    "            state = next_state\r\n",
    "\r\n",
    "            if done:\r\n",
    "                if iter % 10 == 0:\r\n",
    "                    print('Iteration: {}, Score: {}'.format(iter, i))\r\n",
    "                break\r\n",
    "\r\n",
    "\r\n",
    "        next_state = paddle.to_tensor(next_state, dtype=\"float32\", place=device)\r\n",
    "        next_value = critic(next_state)\r\n",
    "        returns = compute_returns(next_value, rewards, masks)\r\n",
    "\r\n",
    "        log_probs = paddle.concat(log_probs)\r\n",
    "        returns = paddle.concat(returns).detach()\r\n",
    "        values = paddle.concat(values)\r\n",
    "\r\n",
    "        advantage = returns - values\r\n",
    "\r\n",
    "        actor_loss = -(log_probs * advantage.detach()).mean()\r\n",
    "        critic_loss = advantage.pow(2).mean()\r\n",
    "\r\n",
    "        optimizerA.clear_grad()\r\n",
    "        optimizerC.clear_grad()\r\n",
    "        actor_loss.backward()\r\n",
    "        critic_loss.backward()\r\n",
    "        optimizerA.step()\r\n",
    "        optimizerC.step()\r\n",
    "    paddle.save(actor.state_dict(), 'model/actor.pdparams')\r\n",
    "    paddle.save(critic.state_dict(), 'model/critic.pdparams')\r\n",
    "    env.close()\r\n",
    "\r\n",
    "\r\n",
    "\r\n",
    "if __name__ == '__main__':\r\n",
    "    if os.path.exists('model/actor.pdparams'):\r\n",
    "        actor = Actor(state_size, action_size)\r\n",
    "        model_state_dict  = paddle.load('model/actor.pdparams')\r\n",
    "        actor.set_state_dict(model_state_dict )\r\n",
    "        print('Actor Model loaded')\r\n",
    "    else:\r\n",
    "        actor = Actor(state_size, action_size)\r\n",
    "    if os.path.exists('model/critic.pdparams'):\r\n",
    "        critic = Critic(state_size, action_size)\r\n",
    "        model_state_dict  = paddle.load('model/critic.pdparams')\r\n",
    "        critic.set_state_dict(model_state_dict )\r\n",
    "        print('Critic Model loaded')\r\n",
    "    else:\r\n",
    "        critic = Critic(state_size, action_size)\r\n",
    "    trainIters(actor, critic, n_iters=201)"
   ]
  },
  {
   "cell_type": "markdown",
   "metadata": {
    "collapsed": false
   },
   "source": [
    "## **五、效果展示**\n",
    "在训练的早期\n",
    "![](https://ai-studio-static-online.cdn.bcebos.com/d8826cc5bb8a4106bdd871a7f35c449d90029a3ae3f6465aa373c614baa78a9f)\n",
    "\n",
    "在训练的后期\n",
    "![](https://ai-studio-static-online.cdn.bcebos.com/88b967da1ba74e049b3ff28dd9083d1e527ba734dc064a798374f99199f84086)\n"
   ]
  }
 ],
 "metadata": {
  "kernelspec": {
   "display_name": "PaddlePaddle 2.0.0b0 (Python 3.5)",
   "language": "python",
   "name": "py35-paddle1.2.0"
  },
  "language_info": {
   "codemirror_mode": {
    "name": "ipython",
    "version": 3
   },
   "file_extension": ".py",
   "mimetype": "text/x-python",
   "name": "python",
   "nbconvert_exporter": "python",
   "pygments_lexer": "ipython3",
   "version": "3.7.4"
  }
 },
 "nbformat": 4,
 "nbformat_minor": 1
}
