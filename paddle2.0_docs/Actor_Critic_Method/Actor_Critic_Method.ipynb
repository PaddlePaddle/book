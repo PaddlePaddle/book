{
 "cells": [
  {
   "cell_type": "markdown",
   "metadata": {},
   "source": [
    "# **强化学习——Actor Critic Method**\n",
    "**作者：** [EastSmith](https://github.com/EastSmith)<br>\n",
    "**日期：** 2021.06 <br>\n",
    "**摘要：** 展示 `CartPole-V0` 环境中 `Actor-Critic` 方法的一个实现。"
   ]
  },
  {
   "cell_type": "markdown",
   "metadata": {},
   "source": [
    "## **一、介绍**\n",
    "本案例展示了CartPole-V0环境中Actor-Critic方法的一个实现。\n",
    "\n",
    "### Actor Critic Method（演员--评论家算法）\n",
    "当代理在环境中执行操作和移动时，它将观察到的环境状态映射到两个可能的输出：\n",
    "* 推荐动作：动作空间中每个动作的概率值。代理中负责此输出的部分称为actor（演员）。\n",
    "* 未来预期回报：它预期在未来获得的所有回报的总和。负责此输出的代理部分是critic（评论家）。\n",
    "\n",
    "演员和评论家学习执行他们的任务，这样演员推荐的动作就能获得最大的回报。\n",
    "\n",
    "### CartPole-V0\n",
    "在无摩擦的轨道上，一根杆子系在一辆手推车上。agent（代理）必须施加力才能移动手推车。每走一步，杆子就保持直立，这是奖励。因此，agent（代理）必须学会防止杆子掉下来。"
   ]
  },
  {
   "cell_type": "markdown",
   "metadata": {},
   "source": [
    "## **二、环境配置**\n",
    "本教程基于Paddle 2.1 编写，如果你的环境不是本版本，请先参考官网[安装](https://www.paddlepaddle.org.cn/install/quick) Paddle 2.1 。"
   ]
  },
  {
   "cell_type": "code",
   "execution_count": 1,
   "metadata": {},
   "outputs": [
    {
     "name": "stdout",
     "output_type": "stream",
     "text": [
      "2.1.1\n"
     ]
    }
   ],
   "source": [
    "import gym, os\n",
    "from itertools import count\n",
    "import paddle\n",
    "import paddle.nn as nn\n",
    "import paddle.optimizer as optim\n",
    "import paddle.nn.functional as F\n",
    "from paddle.distribution import Categorical\n",
    "\n",
    "print(paddle.__version__)"
   ]
  },
  {
   "cell_type": "markdown",
   "metadata": {},
   "source": [
    "## **三、实施演员-评论家网络**\n",
    "### 这个网络学习两个功能：\n",
    "* 演员Actor：它将环境的状态作为输入，并为其动作空间中的每个动作返回一个概率值。\n",
    "* 评论家Critic：它将的环境状态作为输入，并返回对未来总回报的估计。"
   ]
  },
  {
   "cell_type": "code",
   "execution_count": 3,
   "metadata": {},
   "outputs": [],
   "source": [
    "device = paddle.get_device()\n",
    "env = gym.make(\"CartPole-v0\")  ### 或者 env = gym.make(\"CartPole-v0\").unwrapped 开启无锁定环境训练\n",
    "\n",
    "state_size = env.observation_space.shape[0]\n",
    "action_size = env.action_space.n\n",
    "lr = 0.001\n",
    "\n",
    "class Actor(nn.Layer):\n",
    "    def __init__(self, state_size, action_size):\n",
    "        super(Actor, self).__init__()\n",
    "        self.state_size = state_size\n",
    "        self.action_size = action_size\n",
    "        self.linear1 = nn.Linear(self.state_size, 128)\n",
    "        self.linear2 = nn.Linear(128, 256)\n",
    "        self.linear3 = nn.Linear(256, self.action_size)\n",
    "\n",
    "    def forward(self, state):\n",
    "        output = F.relu(self.linear1(state))\n",
    "        output = F.relu(self.linear2(output))\n",
    "        output = self.linear3(output)\n",
    "        distribution = Categorical(F.softmax(output, axis=-1))\n",
    "        return distribution\n",
    "\n",
    "\n",
    "class Critic(nn.Layer):\n",
    "    def __init__(self, state_size, action_size):\n",
    "        super(Critic, self).__init__()\n",
    "        self.state_size = state_size\n",
    "        self.action_size = action_size\n",
    "        self.linear1 = nn.Linear(self.state_size, 128)\n",
    "        self.linear2 = nn.Linear(128, 256)\n",
    "        self.linear3 = nn.Linear(256, 1)\n",
    "\n",
    "    def forward(self, state):\n",
    "        output = F.relu(self.linear1(state))\n",
    "        output = F.relu(self.linear2(output))\n",
    "        value = self.linear3(output)\n",
    "        return value\n"
   ]
  },
  {
   "cell_type": "markdown",
   "metadata": {},
   "source": [
    "## **四、训练模型**"
   ]
  },
  {
   "cell_type": "code",
   "execution_count": null,
   "metadata": {},
   "outputs": [
    {
     "name": "stdout",
     "output_type": "stream",
     "text": [
      "Iteration: 0, Score: 30\n",
      "Iteration: 10, Score: 30\n",
      "Iteration: 20, Score: 42\n",
      "Iteration: 30, Score: 87\n",
      "Iteration: 40, Score: 64\n",
      "Iteration: 50, Score: 35\n",
      "Iteration: 60, Score: 69\n",
      "Iteration: 70, Score: 117\n"
     ]
    }
   ],
   "source": [
    "def compute_returns(next_value, rewards, masks, gamma=0.99):\n",
    "    R = next_value\n",
    "    returns = []\n",
    "    for step in reversed(range(len(rewards))):\n",
    "        R = rewards[step] + gamma * R * masks[step]\n",
    "        returns.insert(0, R)\n",
    "    return returns\n",
    "\n",
    "\n",
    "def trainIters(actor, critic, n_iters):\n",
    "    optimizerA = optim.Adam(lr, parameters=actor.parameters())\n",
    "    optimizerC = optim.Adam(lr, parameters=critic.parameters())\n",
    "    for iter in range(n_iters):\n",
    "        state = env.reset()\n",
    "        log_probs = []\n",
    "        values = []\n",
    "        rewards = []\n",
    "        masks = []\n",
    "        entropy = 0\n",
    "        env.reset()\n",
    "\n",
    "        for i in count():\n",
    "            # env.render()\n",
    "            state = paddle.to_tensor(state,dtype=\"float32\",place=device)\n",
    "            dist, value = actor(state), critic(state)\n",
    "\n",
    "            action = dist.sample([1])\n",
    "            next_state, reward, done, _ = env.step(action.cpu().squeeze(0).numpy()) \n",
    "\n",
    "            log_prob = dist.log_prob(action);\n",
    "            # entropy += dist.entropy().mean()\n",
    "\n",
    "            log_probs.append(log_prob)\n",
    "            values.append(value)\n",
    "            rewards.append(paddle.to_tensor([reward], dtype=\"float32\", place=device))\n",
    "            masks.append(paddle.to_tensor([1-done], dtype=\"float32\", place=device))\n",
    "\n",
    "            state = next_state\n",
    "\n",
    "            if done:\n",
    "                if iter % 10 == 0:\n",
    "                    print('Iteration: {}, Score: {}'.format(iter, i))\n",
    "                break\n",
    "\n",
    "\n",
    "        next_state = paddle.to_tensor(next_state, dtype=\"float32\", place=device)\n",
    "        next_value = critic(next_state)\n",
    "        returns = compute_returns(next_value, rewards, masks)\n",
    "\n",
    "        log_probs = paddle.concat(log_probs)\n",
    "        returns = paddle.concat(returns).detach()\n",
    "        values = paddle.concat(values)\n",
    "\n",
    "        advantage = returns - values\n",
    "\n",
    "        actor_loss = -(log_probs * advantage.detach()).mean()\n",
    "        critic_loss = advantage.pow(2).mean()\n",
    "\n",
    "        optimizerA.clear_grad()\n",
    "        optimizerC.clear_grad()\n",
    "        actor_loss.backward()\n",
    "        critic_loss.backward()\n",
    "        optimizerA.step()\n",
    "        optimizerC.step()\n",
    "    paddle.save(actor.state_dict(), 'model/actor.pdparams')\n",
    "    paddle.save(critic.state_dict(), 'model/critic.pdparams')\n",
    "    env.close()\n",
    "\n",
    "\n",
    "\n",
    "if __name__ == '__main__':\n",
    "    if os.path.exists('model/actor.pdparams'):\n",
    "        actor = Actor(state_size, action_size)\n",
    "        model_state_dict  = paddle.load('model/actor.pdparams')\n",
    "        actor.set_state_dict(model_state_dict )\n",
    "        print('Actor Model loaded')\n",
    "    else:\n",
    "        actor = Actor(state_size, action_size)\n",
    "    if os.path.exists('model/critic.pdparams'):\n",
    "        critic = Critic(state_size, action_size)\n",
    "        model_state_dict  = paddle.load('model/critic.pdparams')\n",
    "        critic.set_state_dict(model_state_dict )\n",
    "        print('Critic Model loaded')\n",
    "    else:\n",
    "        critic = Critic(state_size, action_size)\n",
    "    trainIters(actor, critic, n_iters=201)"
   ]
  },
  {
   "cell_type": "markdown",
   "metadata": {},
   "source": [
    "## **五、效果展示**\n",
    "在训练的早期：\n",
    "\n",
    "![](https://ai-studio-static-online.cdn.bcebos.com/d8826cc5bb8a4106bdd871a7f35c449d90029a3ae3f6465aa373c614baa78a9f)\n",
    "\n",
    "在训练的后期\n",
    "![](https://ai-studio-static-online.cdn.bcebos.com/88b967da1ba74e049b3ff28dd9083d1e527ba734dc064a798374f99199f84086)\n"
   ]
  },
  {
   "cell_type": "markdown",
   "metadata": {},
   "source": [
    "## **六、总结**\n",
    "\n",
    "* Actor-Critic，其实是用了两个网络： 一个输出策略，负责选择动作，这个网络称为Actor；一个负责计算每个动作的分数，这个网络称为Critic。\n",
    "* 可以形象地想象为，Actor是舞台上的舞者，Critic是台下的评委，Actor在台上跳舞，一开始舞姿并不好看，Critic根据Actor的舞姿打分。Actor通过Critic给出的分数，去学习：如果Critic给的分数高，那么Actor会调整这个动作的输出概率；相反，如果Critic给的分数低，那么就减少这个动作输出的概率。\n",
    "* Actor-Critic方法结合了值函数逼近（Critic）和策略函数逼近（Actor），它从与环境的交互中学习到越来越精确的Critic（评估），能够实现单步更新，相对单纯的策略梯度，Actor-Critic能够更充分的利用数据。\n"
   ]
  }
 ],
 "metadata": {
  "kernelspec": {
   "display_name": "Python Paddle2.1.1",
   "language": "python",
   "name": "paddle2.1"
  },
  "language_info": {
   "codemirror_mode": {
    "name": "ipython",
    "version": 3
   },
   "file_extension": ".py",
   "mimetype": "text/x-python",
   "name": "python",
   "nbconvert_exporter": "python",
   "pygments_lexer": "ipython3",
   "version": "3.9.5"
  }
 },
 "nbformat": 4,
 "nbformat_minor": 1
}
