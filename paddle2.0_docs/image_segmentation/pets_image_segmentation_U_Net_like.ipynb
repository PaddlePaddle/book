{
 "cells": [
  {
   "cell_type": "markdown",
   "metadata": {
    "colab_type": "text",
    "id": "ueGUN2EQeScw"
   },
   "source": [
    "# 基于U型语义分割模型实现的宠物图像分割\n",
    "\n",
    "本示例教程当前是基于2.0-beta版本Paddle做的案例实现，未来会随着2.0的系列版本发布进行升级。"
   ]
  },
  {
   "cell_type": "markdown",
   "metadata": {},
   "source": [
    "## 1.简要介绍\n",
    "\n",
    "在计算机视觉领域，图像分割指的是将数字图像细分为多个图像子区域的过程。图像分割的目的是简化或改变图像的表示形式，使得图像更容易理解和分析。图像分割通常用于定位图像中的物体和边界（线，曲线等）。更精确的，图像分割是对图像中的每个像素加标签的一个过程，这一过程使得具有相同标签的像素具有某种共同视觉特性。图像分割的领域非常多，无人车、地块检测、表计识别等等。\n",
    "\n",
    "本示例简要介绍如何通过飞桨开源框架，实现图像分割。这里我们是采用了一个在图像分割领域比较熟知的U-Net网络结构，是一个基于FCN做改进后的一个深度学习网络，包含下采样（编码器，特征提取）和上采样（解码器，分辨率还原）两个阶段，因模型结构比较像U型而命名为U-Net。"
   ]
  },
  {
   "cell_type": "markdown",
   "metadata": {},
   "source": [
    "## 2.环境设置\n",
    "\n",
    "导入一些比较基础常用的模块，确认自己的飞桨版本。"
   ]
  },
  {
   "cell_type": "code",
   "execution_count": 1,
   "metadata": {},
   "outputs": [
    {
     "output_type": "execute_result",
     "data": {
      "text/plain": "'0.0.0'"
     },
     "metadata": {},
     "execution_count": 1
    }
   ],
   "source": [
    "import os\n",
    "import io\n",
    "import numpy as np\n",
    "import matplotlib.pyplot as plt\n",
    "from PIL import Image as PilImage\n",
    "\n",
    "import paddle\n",
    "from paddle.nn import functional as F\n",
    "\n",
    "paddle.__version__"
   ]
  },
  {
   "cell_type": "markdown",
   "metadata": {
    "colab_type": "text",
    "id": "VMC2xLAxeScx"
   },
   "source": [
    "## 3.数据集"
   ]
  },
  {
   "cell_type": "markdown",
   "metadata": {
    "colab_type": "text",
    "id": "H0KiJ_5N936Y"
   },
   "source": [
    "### 3.1 数据集下载\n",
    "\n",
    "本案例使用Oxford-IIIT Pet数据集，官网：https://www.robots.ox.ac.uk/~vgg/data/pets 。\n",
    "\n",
    "数据集统计如下：\n",
    "\n",
    "![alt 数据集统计信息](https://www.robots.ox.ac.uk/~vgg/data/pets/breed_count.jpg)\n",
    "\n",
    "数据集包含两个压缩文件：\n",
    "\n",
    "1. 原图：https://www.robots.ox.ac.uk/~vgg/data/pets/data/images.tar.gz\n",
    "2. 分割图像：https://www.robots.ox.ac.uk/~vgg/data/pets/data/annotations.tar.gz"
   ]
  },
  {
   "cell_type": "code",
   "execution_count": null,
   "metadata": {
    "colab": {
     "base_uri": "https://localhost:8080/",
     "height": 119
    },
    "colab_type": "code",
    "id": "xJd9y-u9eScy",
    "outputId": "3985783f-7166-4afa-f511-16427b3e2a71",
    "tags": []
   },
   "outputs": [],
   "source": [
    "!curl -O http://www.robots.ox.ac.uk/~vgg/data/pets/data/images.tar.gz\n",
    "!curl -O http://www.robots.ox.ac.uk/~vgg/data/pets/data/annotations.tar.gz\n",
    "!tar -xf images.tar.gz\n",
    "!tar -xf annotations.tar.gz"
   ]
  },
  {
   "cell_type": "markdown",
   "metadata": {
    "colab_type": "text",
    "id": "L5cP2CBz-Mra"
   },
   "source": [
    "### 3.2 数据集概览\n",
    "\n",
    "首先我们先看看下载到磁盘上的文件结构是什么样，来了解一下我们的数据集。\n",
    "\n",
    "1. 首先看一下images.tar.gz这个压缩包，该文件解压后得到一个images目录，这个目录比较简单，里面直接放的是用类名和序号命名好的图片文件，每个图片是对应的宠物照片。\n",
    "\n",
    "```bash\n",
    ".\n",
    "├── samoyed_7.jpg\n",
    "├── ......\n",
    "└── samoyed_81.jpg\n",
    "```\n",
    "\n",
    "2. 然后我们在看下annotations.tar.gz，文件解压后的目录里面包含以下内容，目录中的README文件将每个目录和文件做了比较详细的介绍，我们可以通过README来查看每个目录文件的说明。\n",
    "\n",
    "```bash\n",
    ".\n",
    "├── README\n",
    "├── list.txt\n",
    "├── test.txt\n",
    "├── trainval.txt\n",
    "├── trimaps\n",
    "│    ├── Abyssinian_1.png\n",
    "│    ├── Abyssinian_10.png\n",
    "│    ├── ......\n",
    "│    └── yorkshire_terrier_99.png\n",
    "└── xmls\n",
    "      ├── Abyssinian_1.xml\n",
    "      ├── Abyssinian_10.xml\n",
    "      ├── ......\n",
    "      └── yorkshire_terrier_190.xml\n",
    "```\n",
    "\n",
    "本次我们主要使用到images和annotations/trimaps两个目录，即原图和三元图像文件，前者作为训练的输入数据，后者是对应的标签数据。\n",
    "\n",
    "我们来看看这个数据集给我们提供了多少个训练样本。"
   ]
  },
  {
   "cell_type": "code",
   "execution_count": 2,
   "metadata": {
    "colab": {
     "base_uri": "https://localhost:8080/",
     "height": 204
    },
    "colab_type": "code",
    "id": "tqB7YQ4leSc4",
    "outputId": "8872356c-ef32-4c94-defb-66250a00890a",
    "tags": []
   },
   "outputs": [
    {
     "output_type": "stream",
     "name": "stdout",
     "text": "用于训练的图片样本数量: 7390\n"
    }
   ],
   "source": [
    "train_images_path = \"images/\"\n",
    "label_images_path = \"annotations/trimaps/\"\n",
    "\n",
    "print(\"用于训练的图片样本数量:\", len([os.path.join(train_images_path, image_name) \n",
    "          for image_name in os.listdir(train_images_path) \n",
    "          if image_name.endswith('.jpg')]))"
   ]
  },
  {
   "cell_type": "markdown",
   "metadata": {},
   "source": [
    "### 3.3 数据集类定义\n",
    "\n",
    "飞桨（PaddlePaddle）数据集加载方案是统一使用Dataset（数据集定义） + DataLoader（多进程数据集加载）。\n",
    "\n",
    "首先我们先进行数据集的定义，数据集定义主要是实现一个新的Dataset类，继承父类paddle.io.Dataset，并实现父类中以下两个抽象方法，`__getitem__`和`__len__`：\n",
    "\n",
    "```python\n",
    "class MyDataset(Dataset):\n",
    "    def __init__(self):\n",
    "        ...\n",
    "        \n",
    "    # 每次迭代时返回数据和对应的标签\n",
    "    def __getitem__(self, idx):\n",
    "        return x, y\n",
    "\n",
    "    # 返回整个数据集的总数\n",
    "    def __len__(self):\n",
    "        return count(samples)\n",
    "```\n",
    "\n",
    "在数据集内部可以结合图像数据预处理相关API进行图像的预处理（改变大小、反转、调整格式等）。\n",
    "\n",
    "由于加载进来的图像不一定都符合自己的需求，举个例子，已下载的这些图片里面就会有RGBA格式的图片，这个时候图片就不符合我们所需3通道的需求，我们需要进行图片的格式转换，那么这里我们直接实现了一个通用的图片读取接口，确保读取出来的图片都是满足我们的需求。\n",
    "\n",
    "另外图片加载出来的默认shape是HWC，这个时候要看看是否满足后面训练的需要，如果Layer的默认格式和这个不是符合的情况下，需要看下Layer有没有参数可以进行格式调整。不过如果layer较多的话，还是直接调整原数据Shape比较好，否则每个layer都要做参数设置，如果有遗漏就会导致训练出错，那么在本案例中是直接对数据源的shape做了统一调整，从HWC转换成了CHW，因为飞桨的卷积等API的默认输入格式为CHW，这样处理方便后续模型训练。"
   ]
  },
  {
   "cell_type": "code",
   "execution_count": 3,
   "metadata": {},
   "outputs": [],
   "source": [
    "import random\n",
    "\n",
    "from paddle.io import Dataset\n",
    "from paddle.vision.transforms import transforms\n",
    "\n",
    "\n",
    "class ImgTranspose(object):\n",
    "    \"\"\"\n",
    "    图像预处理工具，用于将Mask图像进行升维(160, 160) => (160, 160, 1)，\n",
    "    并对图像的维度进行转换从HWC变为CHW\n",
    "    \"\"\"\n",
    "    def __init__(self, fmt):\n",
    "        self.format = fmt\n",
    "        \n",
    "    def __call__(self, img):\n",
    "        if len(img.shape) == 2:\n",
    "            img = np.expand_dims(img, axis=2)\n",
    "            \n",
    "        return img.transpose(self.format)\n",
    "\n",
    "class PetDataset(Dataset):\n",
    "    \"\"\"\n",
    "    数据集定义\n",
    "    \"\"\"\n",
    "    def __init__(self, image_path, label_path, mode='train'):\n",
    "        \"\"\"\n",
    "        构造函数\n",
    "        \"\"\"\n",
    "        self.image_size = (160, 160)\n",
    "        self.image_path = image_path\n",
    "        self.label_path = label_path\n",
    "        self.mode = mode.lower()\n",
    "        self.eval_image_num = 1000\n",
    "        \n",
    "        assert self.mode in ['train', 'test'], \\\n",
    "            \"mode should be 'train' or 'test', but got {}\".format(self.mode)\n",
    "        \n",
    "        self._parse_dataset()\n",
    "        \n",
    "        self.transforms = transforms.Compose([\n",
    "            ImgTranspose((2, 0, 1))\n",
    "        ])\n",
    "        \n",
    "    def _sort_images(self, image_dir, image_type):\n",
    "        \"\"\"\n",
    "        对文件夹内的图像进行按照文件名排序\n",
    "        \"\"\"\n",
    "        files = []\n",
    "\n",
    "        for image_name in os.listdir(image_dir):\n",
    "            if image_name.endswith('.{}'.format(image_type)) \\\n",
    "                    and not image_name.startswith('.'):\n",
    "                files.append(os.path.join(image_dir, image_name))\n",
    "\n",
    "        return sorted(files)\n",
    "        \n",
    "    def _parse_dataset(self):\n",
    "        \"\"\"\n",
    "        由于所有文件都是散落在文件夹中，在训练时我们需要使用的是数据集和标签对应的数据关系，\n",
    "        所以我们第一步是对原始的数据集进行整理，得到数据集和标签两个数组，分别一一对应。\n",
    "        这样可以在使用的时候能够很方便的找到原始数据和标签的对应关系，否则对于原有的文件夹图片数据无法直接应用。\n",
    "        在这里是用了一个非常简单的方法，按照文件名称进行排序。\n",
    "        因为刚好数据和标签的文件名是按照这个逻辑制作的，名字都一样，只有扩展名不一样。\n",
    "        \"\"\"\n",
    "        temp_train_images = self._sort_images(self.image_path, 'jpg')\n",
    "        temp_label_images = self._sort_images(self.label_path, 'png')\n",
    "\n",
    "        random.Random(1337).shuffle(temp_train_images)\n",
    "        random.Random(1337).shuffle(temp_label_images)\n",
    "        \n",
    "        if self.mode == 'train':\n",
    "            self.train_images = temp_train_images[:-self.eval_image_num]\n",
    "            self.label_images = temp_label_images[:-self.eval_image_num]\n",
    "        else:\n",
    "            self.train_images = temp_train_images[-self.eval_image_num:]\n",
    "            self.label_images = temp_label_images[-self.eval_image_num:]\n",
    "    \n",
    "    def _load_img(self, path, color_mode='rgb'):\n",
    "        \"\"\"\n",
    "        统一的图像处理接口封装，用于规整图像大小和通道\n",
    "        \"\"\"\n",
    "        with open(path, 'rb') as f:\n",
    "            img = PilImage.open(io.BytesIO(f.read()))\n",
    "            if color_mode == 'grayscale':\n",
    "                # if image is not already an 8-bit, 16-bit or 32-bit grayscale image\n",
    "                # convert it to an 8-bit grayscale image.\n",
    "                if img.mode not in ('L', 'I;16', 'I'):\n",
    "                    img = img.convert('L')\n",
    "            elif color_mode == 'rgba':\n",
    "                if img.mode != 'RGBA':\n",
    "                    img = img.convert('RGBA')\n",
    "            elif color_mode == 'rgb':\n",
    "                if img.mode != 'RGB':\n",
    "                    img = img.convert('RGB')\n",
    "            else:\n",
    "                raise ValueError('color_mode must be \"grayscale\", \"rgb\", or \"rgba\"')\n",
    "\n",
    "            if self.image_size is not None:\n",
    "                if img.size != self.image_size:\n",
    "                    img = img.resize(self.image_size, PilImage.NEAREST)\n",
    "\n",
    "            return img\n",
    "\n",
    "    def __getitem__(self, idx):\n",
    "        \"\"\"\n",
    "        返回 image, label\n",
    "        \"\"\"\n",
    "        # 花了比较多的时间在数据处理这里，需要处理成模型能适配的格式，踩了一些坑（比如有不是RGB格式的）\n",
    "        # 有图片会出现通道数和期望不符的情况，需要进行相关考虑\n",
    "\n",
    "        # 加载原始图像\n",
    "        train_image = self._load_img(self.train_images[idx])\n",
    "        x = np.array(train_image, dtype='float32')\n",
    "\n",
    "        # 对图像进行预处理，统一大小，转换维度格式（HWC => CHW）\n",
    "        x = self.transforms(x)\n",
    "        \n",
    "        # 加载Label图像\n",
    "        label_image = self._load_img(self.label_images[idx], color_mode=\"grayscale\")  \n",
    "        y = np.array(label_image, dtype='uint8')  \n",
    "\n",
    "        # 图像预处理\n",
    "        # Label图像是二维的数组(size, size)，升维到(size, size, 1)后才能用于最后loss计算\n",
    "        y = self.transforms(y)\n",
    "        \n",
    "        # 返回img, label，转换为需要的格式\n",
    "        return x, y.astype('int64')\n",
    "        \n",
    "    def __len__(self):\n",
    "        \"\"\"\n",
    "        返回数据集总数\n",
    "        \"\"\"\n",
    "        return len(self.train_images)"
   ]
  },
  {
   "cell_type": "markdown",
   "metadata": {
    "colab_type": "text",
    "id": "GYxTHfbBESSG"
   },
   "source": [
    "### 3.4 PetDataSet数据集抽样展示\n",
    "\n",
    "实现好Dataset数据集后，我们来测试一下数据集是否符合预期，因为Dataset是一个可以被迭代的Class，我们通过for循环从里面读取数据来用matplotlib进行展示，这里要注意的是对于分割的标签文件因为是1通道的灰度图片，需要在使用imshow接口时注意下传参cmap='gray'。"
   ]
  },
  {
   "cell_type": "code",
   "execution_count": 4,
   "metadata": {
    "colab": {
     "base_uri": "https://localhost:8080/",
     "height": 479
    },
    "colab_type": "code",
    "id": "MTO-C5qFDnPn",
    "outputId": "0937ed5e-1216-4773-9b54-16db8fe7b457"
   },
   "outputs": [
    {
     "output_type": "display_data",
     "data": {
      "text/plain": "<Figure size 432x288 with 2 Axes>",
      "image/svg+xml": "<?xml version=\"1.0\" encoding=\"utf-8\" standalone=\"no\"?>\n<!DOCTYPE svg PUBLIC \"-//W3C//DTD SVG 1.1//EN\"\n  \"http://www.w3.org/Graphics/SVG/1.1/DTD/svg11.dtd\">\n<!-- Created with matplotlib (https://matplotlib.org/) -->\n<svg height=\"181.699943pt\" version=\"1.1\" viewBox=\"0 0 349.2 181.699943\" width=\"349.2pt\" xmlns=\"http://www.w3.org/2000/svg\" xmlns:xlink=\"http://www.w3.org/1999/xlink\">\n <defs>\n  <style type=\"text/css\">\n*{stroke-linecap:butt;stroke-linejoin:round;}\n  </style>\n </defs>\n <g id=\"figure_1\">\n  <g id=\"patch_1\">\n   <path d=\"M 0 181.699943 \nL 349.2 181.699943 \nL 349.2 0 \nL 0 0 \nz\n\" style=\"fill:none;\"/>\n  </g>\n  <g id=\"axes_1\">\n   <g clip-path=\"url(#p58ad9a7e6d)\">\n    <image height=\"153\" id=\"image6a21407320\" transform=\"scale(1 -1)translate(0 -153)\" width=\"153\" x=\"7.2\" xlink:href=\"data:image/png;base64,\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\" y=\"-21.499943\"/>\n   </g>\n   <g id=\"text_1\">\n    <!-- Train Image -->\n    <defs>\n     <path d=\"M -0.296875 72.90625 \nL 61.375 72.90625 \nL 61.375 64.59375 \nL 35.5 64.59375 \nL 35.5 0 \nL 25.59375 0 \nL 25.59375 64.59375 \nL -0.296875 64.59375 \nz\n\" id=\"DejaVuSans-84\"/>\n     <path d=\"M 41.109375 46.296875 \nQ 39.59375 47.171875 37.8125 47.578125 \nQ 36.03125 48 33.890625 48 \nQ 26.265625 48 22.1875 43.046875 \nQ 18.109375 38.09375 18.109375 28.8125 \nL 18.109375 0 \nL 9.078125 0 \nL 9.078125 54.6875 \nL 18.109375 54.6875 \nL 18.109375 46.1875 \nQ 20.953125 51.171875 25.484375 53.578125 \nQ 30.03125 56 36.53125 56 \nQ 37.453125 56 38.578125 55.875 \nQ 39.703125 55.765625 41.0625 55.515625 \nz\n\" id=\"DejaVuSans-114\"/>\n     <path d=\"M 34.28125 27.484375 \nQ 23.390625 27.484375 19.1875 25 \nQ 14.984375 22.515625 14.984375 16.5 \nQ 14.984375 11.71875 18.140625 8.90625 \nQ 21.296875 6.109375 26.703125 6.109375 \nQ 34.1875 6.109375 38.703125 11.40625 \nQ 43.21875 16.703125 43.21875 25.484375 \nL 43.21875 27.484375 \nz\nM 52.203125 31.203125 \nL 52.203125 0 \nL 43.21875 0 \nL 43.21875 8.296875 \nQ 40.140625 3.328125 35.546875 0.953125 \nQ 30.953125 -1.421875 24.3125 -1.421875 \nQ 15.921875 -1.421875 10.953125 3.296875 \nQ 6 8.015625 6 15.921875 \nQ 6 25.140625 12.171875 29.828125 \nQ 18.359375 34.515625 30.609375 34.515625 \nL 43.21875 34.515625 \nL 43.21875 35.40625 \nQ 43.21875 41.609375 39.140625 45 \nQ 35.0625 48.390625 27.6875 48.390625 \nQ 23 48.390625 18.546875 47.265625 \nQ 14.109375 46.140625 10.015625 43.890625 \nL 10.015625 52.203125 \nQ 14.9375 54.109375 19.578125 55.046875 \nQ 24.21875 56 28.609375 56 \nQ 40.484375 56 46.34375 49.84375 \nQ 52.203125 43.703125 52.203125 31.203125 \nz\n\" id=\"DejaVuSans-97\"/>\n     <path d=\"M 9.421875 54.6875 \nL 18.40625 54.6875 \nL 18.40625 0 \nL 9.421875 0 \nz\nM 9.421875 75.984375 \nL 18.40625 75.984375 \nL 18.40625 64.59375 \nL 9.421875 64.59375 \nz\n\" id=\"DejaVuSans-105\"/>\n     <path d=\"M 54.890625 33.015625 \nL 54.890625 0 \nL 45.90625 0 \nL 45.90625 32.71875 \nQ 45.90625 40.484375 42.875 44.328125 \nQ 39.84375 48.1875 33.796875 48.1875 \nQ 26.515625 48.1875 22.3125 43.546875 \nQ 18.109375 38.921875 18.109375 30.90625 \nL 18.109375 0 \nL 9.078125 0 \nL 9.078125 54.6875 \nL 18.109375 54.6875 \nL 18.109375 46.1875 \nQ 21.34375 51.125 25.703125 53.5625 \nQ 30.078125 56 35.796875 56 \nQ 45.21875 56 50.046875 50.171875 \nQ 54.890625 44.34375 54.890625 33.015625 \nz\n\" id=\"DejaVuSans-110\"/>\n     <path id=\"DejaVuSans-32\"/>\n     <path d=\"M 9.8125 72.90625 \nL 19.671875 72.90625 \nL 19.671875 0 \nL 9.8125 0 \nz\n\" id=\"DejaVuSans-73\"/>\n     <path d=\"M 52 44.1875 \nQ 55.375 50.25 60.0625 53.125 \nQ 64.75 56 71.09375 56 \nQ 79.640625 56 84.28125 50.015625 \nQ 88.921875 44.046875 88.921875 33.015625 \nL 88.921875 0 \nL 79.890625 0 \nL 79.890625 32.71875 \nQ 79.890625 40.578125 77.09375 44.375 \nQ 74.3125 48.1875 68.609375 48.1875 \nQ 61.625 48.1875 57.5625 43.546875 \nQ 53.515625 38.921875 53.515625 30.90625 \nL 53.515625 0 \nL 44.484375 0 \nL 44.484375 32.71875 \nQ 44.484375 40.625 41.703125 44.40625 \nQ 38.921875 48.1875 33.109375 48.1875 \nQ 26.21875 48.1875 22.15625 43.53125 \nQ 18.109375 38.875 18.109375 30.90625 \nL 18.109375 0 \nL 9.078125 0 \nL 9.078125 54.6875 \nL 18.109375 54.6875 \nL 18.109375 46.1875 \nQ 21.1875 51.21875 25.484375 53.609375 \nQ 29.78125 56 35.6875 56 \nQ 41.65625 56 45.828125 52.96875 \nQ 50 49.953125 52 44.1875 \nz\n\" id=\"DejaVuSans-109\"/>\n     <path d=\"M 45.40625 27.984375 \nQ 45.40625 37.75 41.375 43.109375 \nQ 37.359375 48.484375 30.078125 48.484375 \nQ 22.859375 48.484375 18.828125 43.109375 \nQ 14.796875 37.75 14.796875 27.984375 \nQ 14.796875 18.265625 18.828125 12.890625 \nQ 22.859375 7.515625 30.078125 7.515625 \nQ 37.359375 7.515625 41.375 12.890625 \nQ 45.40625 18.265625 45.40625 27.984375 \nz\nM 54.390625 6.78125 \nQ 54.390625 -7.171875 48.1875 -13.984375 \nQ 42 -20.796875 29.203125 -20.796875 \nQ 24.46875 -20.796875 20.265625 -20.09375 \nQ 16.0625 -19.390625 12.109375 -17.921875 \nL 12.109375 -9.1875 \nQ 16.0625 -11.328125 19.921875 -12.34375 \nQ 23.78125 -13.375 27.78125 -13.375 \nQ 36.625 -13.375 41.015625 -8.765625 \nQ 45.40625 -4.15625 45.40625 5.171875 \nL 45.40625 9.625 \nQ 42.625 4.78125 38.28125 2.390625 \nQ 33.9375 0 27.875 0 \nQ 17.828125 0 11.671875 7.65625 \nQ 5.515625 15.328125 5.515625 27.984375 \nQ 5.515625 40.671875 11.671875 48.328125 \nQ 17.828125 56 27.875 56 \nQ 33.9375 56 38.28125 53.609375 \nQ 42.625 51.21875 45.40625 46.390625 \nL 45.40625 54.6875 \nL 54.390625 54.6875 \nz\n\" id=\"DejaVuSans-103\"/>\n     <path d=\"M 56.203125 29.59375 \nL 56.203125 25.203125 \nL 14.890625 25.203125 \nQ 15.484375 15.921875 20.484375 11.0625 \nQ 25.484375 6.203125 34.421875 6.203125 \nQ 39.59375 6.203125 44.453125 7.46875 \nQ 49.3125 8.734375 54.109375 11.28125 \nL 54.109375 2.78125 \nQ 49.265625 0.734375 44.1875 -0.34375 \nQ 39.109375 -1.421875 33.890625 -1.421875 \nQ 20.796875 -1.421875 13.15625 6.1875 \nQ 5.515625 13.8125 5.515625 26.8125 \nQ 5.515625 40.234375 12.765625 48.109375 \nQ 20.015625 56 32.328125 56 \nQ 43.359375 56 49.78125 48.890625 \nQ 56.203125 41.796875 56.203125 29.59375 \nz\nM 47.21875 32.234375 \nQ 47.125 39.59375 43.09375 43.984375 \nQ 39.0625 48.390625 32.421875 48.390625 \nQ 24.90625 48.390625 20.390625 44.140625 \nQ 15.875 39.890625 15.1875 32.171875 \nz\n\" id=\"DejaVuSans-101\"/>\n    </defs>\n    <g transform=\"translate(48.199347 16.318125)scale(0.12 -0.12)\">\n     <use xlink:href=\"#DejaVuSans-84\"/>\n     <use x=\"46.333984\" xlink:href=\"#DejaVuSans-114\"/>\n     <use x=\"87.447266\" xlink:href=\"#DejaVuSans-97\"/>\n     <use x=\"148.726562\" xlink:href=\"#DejaVuSans-105\"/>\n     <use x=\"176.509766\" xlink:href=\"#DejaVuSans-110\"/>\n     <use x=\"239.888672\" xlink:href=\"#DejaVuSans-32\"/>\n     <use x=\"271.675781\" xlink:href=\"#DejaVuSans-73\"/>\n     <use x=\"301.167969\" xlink:href=\"#DejaVuSans-109\"/>\n     <use x=\"398.580078\" xlink:href=\"#DejaVuSans-97\"/>\n     <use x=\"459.859375\" xlink:href=\"#DejaVuSans-103\"/>\n     <use x=\"523.335938\" xlink:href=\"#DejaVuSans-101\"/>\n    </g>\n   </g>\n  </g>\n  <g id=\"axes_2\">\n   <g clip-path=\"url(#pf02e2d733d)\">\n    <image height=\"153\" id=\"imageb081ed1ee7\" transform=\"scale(1 -1)translate(0 -153)\" width=\"153\" x=\"189.818182\" xlink:href=\"data:image/png;base64,\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\" y=\"-21.499943\"/>\n   </g>\n   <g id=\"text_2\">\n    <!-- Label -->\n    <defs>\n     <path d=\"M 9.8125 72.90625 \nL 19.671875 72.90625 \nL 19.671875 8.296875 \nL 55.171875 8.296875 \nL 55.171875 0 \nL 9.8125 0 \nz\n\" id=\"DejaVuSans-76\"/>\n     <path d=\"M 48.6875 27.296875 \nQ 48.6875 37.203125 44.609375 42.84375 \nQ 40.53125 48.484375 33.40625 48.484375 \nQ 26.265625 48.484375 22.1875 42.84375 \nQ 18.109375 37.203125 18.109375 27.296875 \nQ 18.109375 17.390625 22.1875 11.75 \nQ 26.265625 6.109375 33.40625 6.109375 \nQ 40.53125 6.109375 44.609375 11.75 \nQ 48.6875 17.390625 48.6875 27.296875 \nz\nM 18.109375 46.390625 \nQ 20.953125 51.265625 25.265625 53.625 \nQ 29.59375 56 35.59375 56 \nQ 45.5625 56 51.78125 48.09375 \nQ 58.015625 40.1875 58.015625 27.296875 \nQ 58.015625 14.40625 51.78125 6.484375 \nQ 45.5625 -1.421875 35.59375 -1.421875 \nQ 29.59375 -1.421875 25.265625 0.953125 \nQ 20.953125 3.328125 18.109375 8.203125 \nL 18.109375 0 \nL 9.078125 0 \nL 9.078125 75.984375 \nL 18.109375 75.984375 \nz\n\" id=\"DejaVuSans-98\"/>\n     <path d=\"M 9.421875 75.984375 \nL 18.40625 75.984375 \nL 18.40625 0 \nL 9.421875 0 \nz\n\" id=\"DejaVuSans-108\"/>\n    </defs>\n    <g transform=\"translate(249.721278 16.318125)scale(0.12 -0.12)\">\n     <use xlink:href=\"#DejaVuSans-76\"/>\n     <use x=\"55.712891\" xlink:href=\"#DejaVuSans-97\"/>\n     <use x=\"116.992188\" xlink:href=\"#DejaVuSans-98\"/>\n     <use x=\"180.46875\" xlink:href=\"#DejaVuSans-101\"/>\n     <use x=\"241.992188\" xlink:href=\"#DejaVuSans-108\"/>\n    </g>\n   </g>\n  </g>\n </g>\n <defs>\n  <clipPath id=\"p58ad9a7e6d\">\n   <rect height=\"152.181818\" width=\"152.181818\" x=\"7.2\" y=\"22.318125\"/>\n  </clipPath>\n  <clipPath id=\"pf02e2d733d\">\n   <rect height=\"152.181818\" width=\"152.181818\" x=\"189.818182\" y=\"22.318125\"/>\n  </clipPath>\n </defs>\n</svg>\n",
      "image/png": "[encoded data removed]"
     },
     "metadata": {
      "needs_background": "light"
     }
    }
   ],
   "source": [
    "# 训练数据集\n",
    "train_dataset = PetDataset(train_images_path, label_images_path, mode='train')\n",
    "\n",
    "# 验证数据集\n",
    "val_dataset = PetDataset(train_images_path, label_images_path, mode='test')\n",
    "\n",
    "# 抽样一个数据\n",
    "image, label = train_dataset[0]\n",
    "\n",
    "# 进行图片的展示\n",
    "plt.figure()\n",
    "\n",
    "plt.subplot(1,2,1), \n",
    "plt.title('Train Image')\n",
    "plt.imshow(image.transpose((1, 2, 0)).astype('uint8'))\n",
    "plt.axis('off')\n",
    "\n",
    "plt.subplot(1,2,2), \n",
    "plt.title('Label')\n",
    "plt.imshow(np.squeeze(label, axis=0).astype('uint8'), cmap='gray')\n",
    "plt.axis('off')\n",
    "\n",
    "plt.show()"
   ]
  },
  {
   "cell_type": "markdown",
   "metadata": {
    "colab_type": "text",
    "id": "d9JyZz3ZEnQ1"
   },
   "source": [
    "## 4.模型组网\n",
    "\n",
    "U-Net是一个U型网络结构，可以看做两个大的阶段，图像先经过Encoder编码器进行下采样得到高级语义特征图，再经过Decoder解码器上采样将特征图恢复到原图片的分辨率。"
   ]
  },
  {
   "cell_type": "markdown",
   "metadata": {
    "colab_type": "text",
    "id": "wi-ouGZL--BN"
   },
   "source": [
    "### 4.1 定义SeparableConv2d接口\n",
    "\n",
    "我们为了减少卷积操作中的训练参数来提升性能，是继承paddle.nn.Layer自定义了一个SeparableConv2d Layer类，整个过程是把`filter_size * filter_size * num_filters`的Conv2d操作拆解为两个子Conv2d，先对输入数据的每个通道使用`filter_size * filter_size * 1`的卷积核进行计算，输入输出通道数目相同，之后在使用`1 * 1 * num_filters`的卷积核计算。"
   ]
  },
  {
   "cell_type": "code",
   "execution_count": 6,
   "metadata": {
    "colab": {},
    "colab_type": "code",
    "id": "0c-FikH-A4qP"
   },
   "outputs": [],
   "source": [
    "class SeparableConv2d(paddle.nn.Layer):\n",
    "    def __init__(self, \n",
    "                 in_channels, \n",
    "                 out_channels, \n",
    "                 kernel_size, \n",
    "                 stride=1, \n",
    "                 padding=0, \n",
    "                 dilation=1, \n",
    "                 groups=None, \n",
    "                 weight_attr=None, \n",
    "                 bias_attr=None, \n",
    "                 data_format=\"NCHW\"):\n",
    "        super(SeparableConv2d, self).__init__()\n",
    "        # 第一次卷积操作没有偏置参数\n",
    "        self.conv_1 = paddle.nn.Conv2d(in_channels, \n",
    "                                       in_channels, \n",
    "                                       kernel_size, \n",
    "                                       stride=stride,\n",
    "                                       padding=padding,\n",
    "                                       dilation=dilation,\n",
    "                                       groups=in_channels, \n",
    "                                       weight_attr=weight_attr, \n",
    "                                       bias_attr=False,  \n",
    "                                       data_format=data_format)\n",
    "        self.pointwise = paddle.nn.Conv2d(in_channels, \n",
    "                                          out_channels, \n",
    "                                          1, \n",
    "                                          stride=1, \n",
    "                                          padding=0, \n",
    "                                          dilation=1, \n",
    "                                          groups=1, \n",
    "                                          weight_attr=weight_attr, \n",
    "                                          data_format=data_format)\n",
    "        \n",
    "    def forward(self, inputs):\n",
    "        y = self.conv_1(inputs)\n",
    "        y = self.pointwise(y)\n",
    "\n",
    "        return y"
   ]
  },
  {
   "cell_type": "markdown",
   "metadata": {
    "colab_type": "text",
    "id": "zNyzlqQmBEEi"
   },
   "source": [
    "### 4.2 定义Encoder编码器\n",
    "\n",
    "我们将网络结构中的Encoder下采样过程进行了一个Layer封装，方便后续调用，减少代码编写，下采样是有一个模型逐渐向下画曲线的一个过程，这个过程中是不断的重复一个单元结构将通道数不断增加，形状不断缩小，并且引入残差网络结构，我们将这些都抽象出来进行统一封装。"
   ]
  },
  {
   "cell_type": "code",
   "execution_count": 7,
   "metadata": {
    "colab": {},
    "colab_type": "code",
    "id": "OpUi9VUeGmXp"
   },
   "outputs": [],
   "source": [
    "class Encoder(paddle.nn.Layer):\n",
    "    def __init__(self, in_channels, out_channels):\n",
    "        super(Encoder, self).__init__()\n",
    "        \n",
    "        self.relu = paddle.nn.ReLU()\n",
    "        self.separable_conv_01 = SeparableConv2d(in_channels, \n",
    "                                                 out_channels, \n",
    "                                                 kernel_size=3, \n",
    "                                                 padding='same')\n",
    "        self.bn = paddle.nn.BatchNorm2d(out_channels)\n",
    "        self.separable_conv_02 = SeparableConv2d(out_channels, \n",
    "                                                 out_channels, \n",
    "                                                 kernel_size=3, \n",
    "                                                 padding='same')\n",
    "        self.pool = paddle.nn.MaxPool2d(kernel_size=3, stride=2, padding=1)\n",
    "        self.residual_conv = paddle.nn.Conv2d(in_channels, \n",
    "                                              out_channels, \n",
    "                                              kernel_size=1, \n",
    "                                              stride=2, \n",
    "                                              padding='same')\n",
    "\n",
    "    def forward(self, inputs):\n",
    "        previous_block_activation = inputs\n",
    "        \n",
    "        y = self.relu(inputs)\n",
    "        y = self.separable_conv_01(y)\n",
    "        y = self.bn(y)\n",
    "        y = self.relu(y)\n",
    "        y = self.separable_conv_02(y)\n",
    "        y = self.bn(y)\n",
    "        y = self.pool(y)\n",
    "        \n",
    "        residual = self.residual_conv(previous_block_activation)\n",
    "        y = paddle.add(y, residual)\n",
    "\n",
    "        return y"
   ]
  },
  {
   "cell_type": "markdown",
   "metadata": {
    "colab_type": "text",
    "id": "nPBRD42WGmuH"
   },
   "source": [
    "### 4.3 定义Decoder解码器\n",
    "\n",
    "在通道数达到最大得到高级语义特征图后，网络结构会开始进行decode操作，进行上采样，通道数逐渐减小，对应图片尺寸逐步增加，直至恢复到原图像大小，那么这个过程里面也是通过不断的重复相同结构的残差网络完成，我们也是为了减少代码编写，将这个过程定义一个Layer来放到模型组网中使用。"
   ]
  },
  {
   "cell_type": "code",
   "execution_count": 8,
   "metadata": {
    "colab": {},
    "colab_type": "code",
    "id": "ltVurq8OGvK7"
   },
   "outputs": [],
   "source": [
    "class Decoder(paddle.nn.Layer):\n",
    "    def __init__(self, in_channels, out_channels):\n",
    "        super(Decoder, self).__init__()\n",
    "\n",
    "        self.relu = paddle.nn.ReLU()\n",
    "        self.conv_transpose_01 = paddle.nn.ConvTranspose2d(in_channels, \n",
    "                                                           out_channels, \n",
    "                                                           kernel_size=3, \n",
    "                                                           padding='same')\n",
    "        self.conv_transpose_02 = paddle.nn.ConvTranspose2d(out_channels, \n",
    "                                                           out_channels, \n",
    "                                                           kernel_size=3, \n",
    "                                                           padding='same')\n",
    "        self.bn = paddle.nn.BatchNorm2d(out_channels)\n",
    "        self.upsample = paddle.nn.UpSample(scale_factor=2.0)\n",
    "        self.residual_conv = paddle.nn.Conv2d(in_channels, \n",
    "                                              out_channels, \n",
    "                                              kernel_size=1, \n",
    "                                              padding='same')\n",
    "\n",
    "    def forward(self, inputs):\n",
    "        previous_block_activation = inputs\n",
    "\n",
    "        y = self.relu(inputs)\n",
    "        y = self.conv_transpose_01(y)\n",
    "        y = self.bn(y)\n",
    "        y = self.relu(y)\n",
    "        y = self.conv_transpose_02(y)\n",
    "        y = self.bn(y)\n",
    "        y = self.upsample(y)\n",
    "        \n",
    "        residual = self.upsample(previous_block_activation)\n",
    "        residual = self.residual_conv(residual)\n",
    "        \n",
    "        y = paddle.add(y, residual)\n",
    "        \n",
    "        return y"
   ]
  },
  {
   "cell_type": "markdown",
   "metadata": {
    "colab_type": "text",
    "id": "vLKLj2FMGvdc"
   },
   "source": [
    "### 4.4 训练模型组网\n",
    "\n",
    "按照U型网络结构格式进行整体的网络结构搭建，三次下采样，四次上采样。"
   ]
  },
  {
   "cell_type": "code",
   "execution_count": 9,
   "metadata": {
    "colab": {},
    "colab_type": "code",
    "id": "an1YFILpG4Xy"
   },
   "outputs": [],
   "source": [
    "class PetModel(paddle.nn.Layer):\n",
    "    def __init__(self, num_classes):\n",
    "        super(PetModel, self).__init__()\n",
    "\n",
    "        self.conv_1 = paddle.nn.Conv2d(3, 32, \n",
    "                                       kernel_size=3,\n",
    "                                       stride=2,\n",
    "                                       padding='same')\n",
    "        self.bn = paddle.nn.BatchNorm2d(32)\n",
    "        self.relu = paddle.nn.ReLU()\n",
    "\n",
    "        in_channels = 32\n",
    "        self.encoders = []\n",
    "        self.encoder_list = [64, 128, 256]\n",
    "        self.decoder_list = [256, 128, 64, 32]\n",
    "\n",
    "        # 根据下采样个数和配置循环定义子Layer，避免重复写一样的程序\n",
    "        for out_channels in self.encoder_list:\n",
    "            block = self.add_sublayer('encoder_%s'.format(out_channels),\n",
    "                                      Encoder(in_channels, out_channels))\n",
    "            self.encoders.append(block)\n",
    "            in_channels = out_channels\n",
    "\n",
    "        self.decoders = []\n",
    "\n",
    "        # 根据上采样个数和配置循环定义子Layer，避免重复写一样的程序\n",
    "        for out_channels in self.decoder_list:\n",
    "            block = self.add_sublayer('decoder_%s'.format(out_channels), \n",
    "                                      Decoder(in_channels, out_channels))\n",
    "            self.decoders.append(block)\n",
    "            in_channels = out_channels\n",
    "\n",
    "        self.output_conv = paddle.nn.Conv2d(in_channels, \n",
    "                                            num_classes, \n",
    "                                            kernel_size=3, \n",
    "                                            padding='same')\n",
    "    \n",
    "    def forward(self, inputs):\n",
    "        y = self.conv_1(inputs)\n",
    "        y = self.bn(y)\n",
    "        y = self.relu(y)\n",
    "        \n",
    "        for encoder in self.encoders:\n",
    "            y = encoder(y)\n",
    "\n",
    "        for decoder in self.decoders:\n",
    "            y = decoder(y)\n",
    "        \n",
    "        y = self.output_conv(y)\n",
    "        \n",
    "        return y"
   ]
  },
  {
   "cell_type": "markdown",
   "metadata": {
    "colab_type": "text",
    "id": "6Nf7hQ60G4sj"
   },
   "source": [
    "### 4.5 模型可视化\n",
    "\n",
    "调用飞桨提供的summary接口对组建好的模型进行可视化，方便进行模型结构和参数信息的查看和确认。\n",
    "@TODO，需要替换"
   ]
  },
  {
   "cell_type": "code",
   "execution_count": 11,
   "metadata": {
    "colab": {
     "base_uri": "https://localhost:8080/",
     "height": 1000
    },
    "colab_type": "code",
    "id": "1_MXfWkZeSdE",
    "outputId": "4c9870de-9eb6-47e8-e88c-79509ef78cf5",
    "tags": []
   },
   "outputs": [
    {
     "output_type": "stream",
     "name": "stdout",
     "text": "--------------------------------------------------------------------------------\n   Layer (type)          Input Shape         Output Shape         Param #\n================================================================================\n      Conv2d-22    [-1, 3, 160, 160]     [-1, 32, 80, 80]             896\n  BatchNorm2d-9     [-1, 32, 80, 80]     [-1, 32, 80, 80]              64\n         ReLU-9     [-1, 32, 80, 80]     [-1, 32, 80, 80]               0\n        ReLU-12    [-1, 256, 20, 20]    [-1, 256, 20, 20]               0\n      Conv2d-33    [-1, 128, 20, 20]    [-1, 128, 20, 20]           1,152\n      Conv2d-34    [-1, 128, 20, 20]    [-1, 256, 20, 20]          33,024\nSeparableConv2d-11    [-1, 128, 20, 20]    [-1, 256, 20, 20]               0\n BatchNorm2d-12    [-1, 256, 20, 20]    [-1, 256, 20, 20]             512\n      Conv2d-35    [-1, 256, 20, 20]    [-1, 256, 20, 20]           2,304\n      Conv2d-36    [-1, 256, 20, 20]    [-1, 256, 20, 20]          65,792\nSeparableConv2d-12    [-1, 256, 20, 20]    [-1, 256, 20, 20]               0\n    MaxPool2d-6    [-1, 256, 20, 20]    [-1, 256, 10, 10]               0\n      Conv2d-37    [-1, 128, 20, 20]    [-1, 256, 10, 10]          33,024\n      Encoder-6    [-1, 128, 20, 20]    [-1, 256, 10, 10]               0\n        ReLU-16     [-1, 32, 80, 80]     [-1, 32, 80, 80]               0\nConvTranspose2d-15     [-1, 64, 80, 80]     [-1, 32, 80, 80]          18,464\n BatchNorm2d-16     [-1, 32, 80, 80]     [-1, 32, 80, 80]              64\nConvTranspose2d-16     [-1, 32, 80, 80]     [-1, 32, 80, 80]           9,248\n     UpSample-8     [-1, 64, 80, 80]   [-1, 64, 160, 160]               0\n      Conv2d-41   [-1, 64, 160, 160]   [-1, 32, 160, 160]           2,080\n      Decoder-8     [-1, 64, 80, 80]   [-1, 32, 160, 160]               0\n      Conv2d-42   [-1, 32, 160, 160]    [-1, 4, 160, 160]           1,156\n================================================================================\nTotal params: 167,780\nTrainable params: 167,780\nNon-trainable params: 0\n--------------------------------------------------------------------------------\nInput size (MB): 0.29\nForward/backward pass size (MB): 43.16\nParams size (MB): 0.64\nEstimated Total Size (MB): 44.10\n--------------------------------------------------------------------------------\n\n"
    },
    {
     "output_type": "execute_result",
     "data": {
      "text/plain": "{'total_params': 167780, 'trainable_params': 167780}"
     },
     "metadata": {},
     "execution_count": 11
    }
   ],
   "source": [
    "from paddle.static import InputSpec\n",
    "\n",
    "paddle.disable_static()\n",
    "num_classes = 4\n",
    "model = paddle.Model(PetModel(num_classes))\n",
    "model.summary((3, 160, 160))"
   ]
  },
  {
   "cell_type": "markdown",
   "metadata": {
    "colab_type": "text",
    "id": "j9Trlcvj8R7L"
   },
   "source": [
    "## 5.模型训练"
   ]
  },
  {
   "cell_type": "markdown",
   "metadata": {
    "colab_type": "text",
    "id": "8Sskbyz58X4J"
   },
   "source": [
    "### 5.1 配置信息\n",
    "\n",
    "定义训练BATCH_SIZE、训练轮次和计算设备等信息。"
   ]
  },
  {
   "cell_type": "code",
   "execution_count": 13,
   "metadata": {
    "colab": {},
    "colab_type": "code",
    "id": "4fSkTiRB8OpP"
   },
   "outputs": [],
   "source": [
    "BATCH_SIZE = 32\n",
    "EPOCHS = 15\n",
    "device = paddle.set_device('gpu')\n",
    "paddle.disable_static(device)"
   ]
  },
  {
   "cell_type": "markdown",
   "metadata": {
    "colab_type": "text",
    "id": "x_vaedRa8eoy"
   },
   "source": [
    "### 5.3 自定义Loss\n",
    "\n",
    "在这个任务中我们使用SoftmaxWithCrossEntropy损失函数来做计算，飞桨中有functional形式的API，这里我们做一个自定义操作，实现一个Class形式API放到模型训练中使用。没有直接使用CrossEntropyLoss的原因主要是对计算维度的自定义需求，本次需要进行softmax计算的维度是1，不是默认的最后一维，所以我们采用上面提到的损失函数，通过axis参数来指定softmax计算维度。"
   ]
  },
  {
   "cell_type": "code",
   "execution_count": 13,
   "metadata": {
    "colab": {},
    "colab_type": "code",
    "id": "AEZq_jT78jNe"
   },
   "outputs": [],
   "source": [
    "class SoftmaxWithCrossEntropy(paddle.nn.Layer):\n",
    "    def __init__(self):\n",
    "        super(SoftmaxWithCrossEntropy, self).__init__()\n",
    "\n",
    "    def forward(self, input, label):\n",
    "        loss = F.softmax_with_cross_entropy(input, \n",
    "                                            label, \n",
    "                                            return_softmax=False,\n",
    "                                            axis=1)\n",
    "        return paddle.mean(loss)"
   ]
  },
  {
   "cell_type": "markdown",
   "metadata": {
    "colab_type": "text",
    "id": "rj6MPPMkJIdZ"
   },
   "source": [
    "### 5.4 启动模型训练\n",
    "\n",
    "使用模型代码进行Model实例生成，使用prepare接口定义优化器、损失函数和评价指标等信息，用于后续训练使用。在所有初步配置完成后，调用fit接口开启训练执行过程，调用fit时只需要将前面定义好的训练数据集、测试数据集、训练轮次（Epoch）和批次大小（batch_size）配置好即可。"
   ]
  },
  {
   "cell_type": "code",
   "execution_count": null,
   "metadata": {
    "colab": {
     "base_uri": "https://localhost:8080/",
     "height": 51
    },
    "colab_type": "code",
    "id": "m-cVyjNreSdO",
    "outputId": "9b37dd07-746b-41cc-c8e2-687a83b1ad75",
    "tags": []
   },
   "outputs": [],
   "source": [
    "optim = paddle.optimizer.RMSProp(learning_rate=0.001, \n",
    "                                 rho=0.9, \n",
    "                                 momentum=0.0, \n",
    "                                 epsilon=1e-07, \n",
    "                                 centered=False,\n",
    "                                 parameters=model.parameters())\n",
    "model = paddle.Model(PetModel(num_classes, model_tools))\n",
    "model.prepare(optim, \n",
    "              SoftmaxWithCrossEntropy())\n",
    "\n",
    "model.fit(train_dataset, \n",
    "    val_dataset, \n",
    "    epochs=EPOCHS, \n",
    "    batch_size=BATCH_SIZE\n",
    ")"
   ]
  },
  {
   "cell_type": "markdown",
   "metadata": {
    "colab_type": "text",
    "id": "-mouwS1kJRqJ"
   },
   "source": [
    "## 6.模型预测"
   ]
  },
  {
   "cell_type": "markdown",
   "metadata": {
    "colab_type": "text",
    "id": "Dvjxu91DJd1G"
   },
   "source": [
    "### 6.1 预测数据集准备和预测\n",
    "\n",
    "继续使用PetDataset来实例化待预测使用的数据集。这里我们为了方便没有在另外准备预测数据，复用了评估数据。\n",
    "\n",
    "我们可以直接使用model.predict接口来对数据集进行预测操作，只需要将预测数据集传递到接口内即可。"
   ]
  },
  {
   "cell_type": "code",
   "execution_count": null,
   "metadata": {
    "colab": {},
    "colab_type": "code",
    "id": "Ur088_vjeSdR"
   },
   "outputs": [],
   "source": [
    "predict_results = model.predict(val_dataset)"
   ]
  },
  {
   "cell_type": "markdown",
   "metadata": {
    "colab_type": "text",
    "id": "-DpAEFBSJioy"
   },
   "source": [
    "### 6.2 预测结果可视化\n",
    "\n",
    "从我们的预测数据集中抽3个动物来看看预测的效果，展示一下原图、标签图和预测结果。"
   ]
  },
  {
   "cell_type": "code",
   "execution_count": null,
   "metadata": {
    "colab": {},
    "colab_type": "code",
    "id": "1mfaFkO5S1PU"
   },
   "outputs": [],
   "source": [
    "plt.figure(figsize=(10, 10))\n",
    "\n",
    "i = 0\n",
    "mask_idx = 0\n",
    "\n",
    "for data in val_dataset:\n",
    "    if i > 8: \n",
    "        break\n",
    "    plt.subplot(3, 3, i + 1)\n",
    "    plt.imshow(data[0].transpose((1, 2, 0)).astype('uint8'))\n",
    "    plt.title('Input Image')\n",
    "    plt.axis(\"off\")\n",
    "\n",
    "    plt.subplot(3, 3, i + 2)\n",
    "    plt.imshow(np.squeeze(data[1], axis=0).astype('uint8'), cmap='gray')\n",
    "    plt.title('Label')\n",
    "    plt.axis(\"off\")\n",
    "    \n",
    "    \n",
    "    data = val_preds[0][mask_idx][0].transpose((1, 2, 0))\n",
    "    mask = np.argmax(data, axis=-1)\n",
    "    mask = np.expand_dims(mask, axis=-1)\n",
    "\n",
    "    plt.subplot(3, 3, i + 3)\n",
    "    plt.imshow(np.squeeze(mask, axis=2).astype('uint8'), cmap='gray')\n",
    "    plt.title('Predict')\n",
    "    plt.axis(\"off\")\n",
    "    i += 3\n",
    "    mask_idx += 1\n",
    "\n",
    "plt.show()"
   ]
  }
 ],
 "metadata": {
  "accelerator": "GPU",
  "colab": {
   "collapsed_sections": [],
   "name": "pets_image_segmentation_U_Net_like.ipynb",
   "provenance": [],
   "toc_visible": true
  },
  "kernelspec": {
   "display_name": "Python 3.7.4 64-bit",
   "language": "python",
   "name": "python_defaultSpec_1599452401282"
  },
  "language_info": {
   "codemirror_mode": {
    "name": "ipython",
    "version": 3
   },
   "file_extension": ".py",
   "mimetype": "text/x-python",
   "name": "python",
   "nbconvert_exporter": "python",
   "pygments_lexer": "ipython3",
   "version": "3.7.4-final"
  }
 },
 "nbformat": 4,
 "nbformat_minor": 1
}