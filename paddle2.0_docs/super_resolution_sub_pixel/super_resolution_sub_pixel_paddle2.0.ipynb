{
 "cells": [
  {
   "cell_type": "markdown",
   "metadata": {},
   "source": [
    "# 1.简要介绍\n",
    "\n",
    "在计算机视觉中，图像超分辨率（Image Super Resolution）是指由一幅低分辨率图像或图像序列恢复出高分辨率图像。图像超分辨率技术分为超分辨率复原和超分辨率重建。\n",
    "\n",
    "本示例简要介绍如何通过飞桨开源框架，实现图像超分辨率。包括数据集的定义、模型的搭建与训练。\n",
    "\n",
    "参考论文：《Real-Time Single Image and Video Super-Resolution Using an Efficient Sub-Pixel Convolutional Neural Network》\n",
    "\n",
    "论文链接：https://arxiv.org/abs/1609.05158"
   ]
  },
  {
   "cell_type": "markdown",
   "metadata": {},
   "source": [
    "# 2.环境设置\n",
    "导入一些比较基础常用的模块，确认自己的飞桨版本。"
   ]
  },
  {
   "cell_type": "code",
   "execution_count": 3,
   "metadata": {},
   "outputs": [
    {
     "name": "stdout",
     "output_type": "stream",
     "text": [
      "2.0.0-beta0\n"
     ]
    }
   ],
   "source": [
    "# 倒入\n",
    "import os\n",
    "import io\n",
    "import math\n",
    "import random\n",
    "import numpy as np\n",
    "import matplotlib.pyplot as plt\n",
    "from PIL import Image\n",
    "\n",
    "from IPython.display import display\n",
    "\n",
    "import paddle\n",
    "from paddle.io import Dataset\n",
    "from paddle.vision.transforms import transforms\n",
    "\n",
    "print(paddle.__version__)\n",
    "# 开启动态图\n",
    "paddle.disable_static()"
   ]
  },
  {
   "cell_type": "markdown",
   "metadata": {},
   "source": [
    "# 3.数据集\n",
    "### 3.1 数据集下载\n",
    "本案例使用BSR_bsds500数据集，下载链接：http://www.eecs.berkeley.edu/Research/Projects/CS/vision/grouping/BSR/BSR_bsds500.tgz"
   ]
  },
  {
   "cell_type": "code",
   "execution_count": 4,
   "metadata": {},
   "outputs": [],
   "source": [
    "# !curl -O http://www.eecs.berkeley.edu/Research/Projects/CS/vision/grouping/BSR/BSR_bsds500.tgz\n",
    "# !tar -xf BSR_bsds500.tgz"
   ]
  },
  {
   "cell_type": "markdown",
   "metadata": {},
   "source": [
    "### 3.2 数据集概览\n",
    "`\n",
    "BSR\n",
    "├── BSDS500\n",
    "│   └── data\n",
    "│       ├── groundTruth\n",
    "│       │   ├── test\n",
    "│       │   ├── train\n",
    "│       │   └── val\n",
    "│       └── images\n",
    "│           ├── test\n",
    "│           ├── train\n",
    "│           └── val\n",
    "├── bench\n",
    "│   ├── benchmarks\n",
    "│   ├── data\n",
    "│   │   ├── ...\n",
    "│   │   └── ...\n",
    "│   └── source\n",
    "└── documentation\n",
    "`\n",
    "\n",
    "可以看到我们需要的图片文件在BSR/BSDS500/images文件夹下，train、test各200张，val为100张。"
   ]
  },
  {
   "cell_type": "markdown",
   "metadata": {},
   "source": [
    "### 3.3 数据集类定义\n",
    "飞桨（PaddlePaddle）数据集加载方案是统一使用Dataset（数据集定义） + DataLoader（多进程数据集加载）。\n",
    "\n",
    "首先我们先进行数据集的定义，数据集定义主要是实现一个新的Dataset类，继承父类paddle.io.Dataset，并实现父类中以下两个抽象方法，__getitem__和__len__：\n",
    "```python\n",
    "class MyDataset(Dataset):\n",
    "    def __init__(self):\n",
    "        ...\n",
    "\n",
    "    # 每次迭代时返回数据和对应的标签\n",
    "    def __getitem__(self, idx):\n",
    "        return x, y\n",
    "\n",
    "    # 返回整个数据集的总数\n",
    "    def __len__(self):\n",
    "        return count(samples)\n",
    "```\n"
   ]
  },
  {
   "cell_type": "code",
   "execution_count": 5,
   "metadata": {},
   "outputs": [],
   "source": [
    "class BSD_data(Dataset):\n",
    "    \"\"\"\n",
    "    继承paddle.io.Dataset类\n",
    "    \"\"\"\n",
    "    def __init__(self, mode='train',image_path=\"BSR/BSDS500/data/images/\"):\n",
    "        \"\"\"\n",
    "        实现构造函数，定义数据读取方式，划分训练和测试数据集\n",
    "        \"\"\"\n",
    "        super(BSD_data, self).__init__()\n",
    "        \n",
    "        self.mode = mode.lower()\n",
    "        if self.mode == 'train':\n",
    "            self.image_path = os.path.join(image_path,'train')\n",
    "        elif self.mode == 'val':\n",
    "            self.image_path = os.path.join(image_path,'val')            \n",
    "#         elif self.mode == 'test':\n",
    "#             self.image_path = os.path.join(image_path,'test')\n",
    "        else:\n",
    "            raise ValueError('mode must be \"train\" or \"val\"')\n",
    "            \n",
    "        # 原始图像的缩放大小\n",
    "        self.crop_size = 300\n",
    "        # 缩放倍率\n",
    "        self.upscale_factor = 3\n",
    "        # 缩小后送入神经网络的大小\n",
    "        self.input_size = self.crop_size // self.upscale_factor\n",
    "        # numpy随机数种子\n",
    "        self.seed=1337\n",
    "        # 图片集合\n",
    "        self.temp_images = []\n",
    "        # 加载数据\n",
    "        self._parse_dataset()\n",
    "    \n",
    "    def transforms(self, img):\n",
    "        \"\"\"\n",
    "        图像预处理工具，用于将升维(100, 100) => (100, 100,1)，\n",
    "        并对图像的维度进行转换从HWC变为CHW\n",
    "        \"\"\"\n",
    "        if len(img.shape) == 2:\n",
    "            img = np.expand_dims(img, axis=2)\n",
    "        return img.transpose((2, 0, 1))\n",
    "        \n",
    "    def __getitem__(self, idx):\n",
    "        \"\"\"\n",
    "        返回 缩小3倍后的图片 和 原始图片\n",
    "        \"\"\"\n",
    "#         if self.mode == 'test':\n",
    "#             return self._load_img(self.temp_images[idx])\n",
    "\n",
    "        # 加载原始图像\n",
    "        img = self._load_img(self.temp_images[idx])\n",
    "        # 将原始图像缩放到（3, 300, 300）\n",
    "        img = img.resize([self.crop_size,self.crop_size], Image.BICUBIC)\n",
    "\n",
    "        #转换为YCbCr图像\n",
    "        ycbcr = img.convert(\"YCbCr\")\n",
    "\n",
    "        # 因为人眼对亮度敏感，所以只取Y通道\n",
    "        y, cb, cr = ycbcr.split()\n",
    "        y = np.asarray(y,dtype='float32')\n",
    "        y = y / 255.0\n",
    "\n",
    "        # 缩放后的图像和前面采取一样的操作\n",
    "        img_ = img.resize([self.input_size,self.input_size], Image.BICUBIC)\n",
    "        ycbcr_ = img_.convert(\"YCbCr\")\n",
    "        y_, cb_, cr_ = ycbcr_.split()\n",
    "        y_ = np.asarray(y_,dtype='float32')\n",
    "        y_ = y_ / 255.0\n",
    "\n",
    "        # 升纬并将HWC转换为CHW\n",
    "        y = self.transforms(y)\n",
    "        x = self.transforms(y_)\n",
    "\n",
    "        # x为缩小3倍后的图片（1, 100, 100） y是原始图片（1, 300, 300）\n",
    "        return x, y\n",
    "\n",
    "\n",
    "    def __len__(self):\n",
    "        \"\"\"\n",
    "        实现__len__方法，返回数据集总数目\n",
    "        \"\"\"\n",
    "        return len(self.temp_images)\n",
    "    \n",
    "    def _sort_images(self, img_dir):\n",
    "        \"\"\"\n",
    "        对文件夹内的图像进行按照文件名排序\n",
    "        \"\"\"\n",
    "        files = []\n",
    "\n",
    "        for item in os.listdir(img_dir):\n",
    "            if item.split('.')[-1].lower() in [\"jpg\",'jpeg','png']:\n",
    "                files.append(os.path.join(img_dir, item))\n",
    "\n",
    "        return sorted(files)\n",
    "    \n",
    "    def _parse_dataset(self):\n",
    "        \"\"\"\n",
    "        处理数据集\n",
    "        \"\"\"\n",
    "        self.temp_images = self._sort_images(self.image_path)\n",
    "        random.Random(self.seed).shuffle(self.temp_images)\n",
    "        \n",
    "    def _load_img(self, path):\n",
    "        \"\"\"\n",
    "        从磁盘读取图片\n",
    "        \"\"\"\n",
    "        with open(path, 'rb') as f:\n",
    "            img = Image.open(io.BytesIO(f.read()))\n",
    "            img = img.convert('RGB')\n",
    "            return img"
   ]
  },
  {
   "cell_type": "markdown",
   "metadata": {},
   "source": [
    "### 3.4 PetDataSet数据集抽样展示\n",
    "实现好BSD_data数据集后，我们来测试一下数据集是否符合预期，因为BSD_data是一个可以被迭代的Class，我们通过for循环从里面读取数据进行展示。"
   ]
  },
  {
   "cell_type": "code",
   "execution_count": 6,
   "metadata": {},
   "outputs": [
    {
     "name": "stdout",
     "output_type": "stream",
     "text": [
      "=============train dataset=============\n"
     ]
    },
    {
     "data": {
      "image/png": "[encoded data removed]",
      "text/plain": [
       "<PIL.Image.Image image mode=L size=100x100 at 0x7FE0A90D4A50>"
      ]
     },
     "metadata": {},
     "output_type": "display_data"
    },
    {
     "data": {
      "text/plain": [
       "(100, 100)"
      ]
     },
     "metadata": {},
     "output_type": "display_data"
    },
    {
     "data": {
      "image/png": "[encoded data removed]",
      "text/plain": [
       "<PIL.Image.Image image mode=L size=300x300 at 0x7FE0A95E23D0>"
      ]
     },
     "metadata": {},
     "output_type": "display_data"
    },
    {
     "data": {
      "text/plain": [
       "(300, 300)"
      ]
     },
     "metadata": {},
     "output_type": "display_data"
    }
   ],
   "source": [
    "# 测试定义的数据集\n",
    "train_dataset = BSD_data(mode='train')\n",
    "val_dataset = BSD_data(mode='val')\n",
    "\n",
    "print('=============train dataset=============')\n",
    "x, y = train_dataset[0]\n",
    "x = x[0]\n",
    "y = y[0]\n",
    "x = x * 255\n",
    "y = y * 255\n",
    "img_ = Image.fromarray(np.uint8(x), mode=\"L\")\n",
    "img = Image.fromarray(np.uint8(y), mode=\"L\")\n",
    "display(img_)\n",
    "display(img_.size)\n",
    "display(img)\n",
    "display(img.size)"
   ]
  },
  {
   "cell_type": "markdown",
   "metadata": {},
   "source": [
    "# 4.模型组网\n",
    "Sub_Pixel_CNN是一个全卷机网络，网络结构比较简单，这里采用Layer类继承方式组网。"
   ]
  },
  {
   "cell_type": "code",
   "execution_count": 7,
   "metadata": {},
   "outputs": [],
   "source": [
    "class Sub_Pixel_CNN(paddle.nn.Layer):\n",
    "\n",
    "    def __init__(self, upscale_factor=3, channels=1):\n",
    "        super(Sub_Pixel_CNN, self).__init__()\n",
    "        \n",
    "        self.conv1 = paddle.nn.Conv2d(channels,64,5,stride=1, padding=2)\n",
    "        self.conv2 = paddle.nn.Conv2d(64,64,3,stride=1, padding=1)\n",
    "        self.conv3 = paddle.nn.Conv2d(64,32,3,stride=1, padding=1)\n",
    "        self.conv4 = paddle.nn.Conv2d(32,channels * (upscale_factor ** 2),3,stride=1, padding=1)\n",
    "\n",
    "    def forward(self, x):\n",
    "        x = self.conv1(x)\n",
    "        x = self.conv2(x)\n",
    "        x = self.conv3(x)\n",
    "        x = self.conv4(x)\n",
    "        x = paddle.fluid.layers.pixel_shuffle(x,3)\n",
    "        return x"
   ]
  },
  {
   "cell_type": "markdown",
   "metadata": {},
   "source": [
    "### 4.1 模型封装"
   ]
  },
  {
   "cell_type": "code",
   "execution_count": 8,
   "metadata": {},
   "outputs": [],
   "source": [
    "# 模型封装\n",
    "model = paddle.Model(Sub_Pixel_CNN())"
   ]
  },
  {
   "cell_type": "markdown",
   "metadata": {},
   "source": [
    "### 4.2 模型可视化\n",
    "调用飞桨提供的summary接口对组建好的模型进行可视化，方便进行模型结构和参数信息的查看和确认。"
   ]
  },
  {
   "cell_type": "code",
   "execution_count": 9,
   "metadata": {},
   "outputs": [
    {
     "name": "stdout",
     "output_type": "stream",
     "text": [
      "--------------------------------------------------------------------------------\n",
      "   Layer (type)          Input Shape         Output Shape         Param #\n",
      "================================================================================\n",
      "       Conv2d-1    [-1, 1, 100, 100]   [-1, 64, 100, 100]           1,664\n",
      "       Conv2d-2   [-1, 64, 100, 100]   [-1, 64, 100, 100]          36,928\n",
      "       Conv2d-3   [-1, 64, 100, 100]   [-1, 32, 100, 100]          18,464\n",
      "       Conv2d-4   [-1, 32, 100, 100]    [-1, 9, 100, 100]           2,601\n",
      "================================================================================\n",
      "Total params: 59,657\n",
      "Trainable params: 59,657\n",
      "Non-trainable params: 0\n",
      "--------------------------------------------------------------------------------\n",
      "Input size (MB): 0.04\n",
      "Forward/backward pass size (MB): 12.89\n",
      "Params size (MB): 0.23\n",
      "Estimated Total Size (MB): 13.16\n",
      "--------------------------------------------------------------------------------\n",
      "\n"
     ]
    },
    {
     "data": {
      "text/plain": [
       "{'total_params': 59657, 'trainable_params': 59657}"
      ]
     },
     "execution_count": 9,
     "metadata": {},
     "output_type": "execute_result"
    }
   ],
   "source": [
    "model.summary((1, 100, 100))"
   ]
  },
  {
   "cell_type": "markdown",
   "metadata": {},
   "source": [
    "## 5.模型训练"
   ]
  },
  {
   "cell_type": "markdown",
   "metadata": {},
   "source": [
    "### 5.1 启动模型训练\n",
    "\n",
    "使用模型代码进行Model实例生成，使用prepare接口定义优化器、损失函数和评价指标等信息，用于后续训练使用。在所有初步配置完成后，调用fit接口开启训练执行过程，调用fit时只需要将前面定义好的训练数据集、测试数据集、训练轮次（Epoch）和批次大小（batch_size）配置好即可。"
   ]
  },
  {
   "cell_type": "code",
   "execution_count": null,
   "metadata": {},
   "outputs": [],
   "source": [
    "model.prepare(paddle.optimizer.Adam(learning_rate=0.001,parameters=model.parameters()),\n",
    "              paddle.nn.MSELoss()\n",
    "             )\n",
    "\n",
    "# 使用GPU训练\n",
    "paddle.set_device('gpu')\n",
    "\n",
    "# # 使用CPU训练\n",
    "# paddle.set_device('cpu')\n",
    "\n",
    "# 启动模型训练，指定训练数据集，设置训练轮次，设置每次数据集计算的批次大小，设置日志格式\n",
    "model.fit(train_dataset,\n",
    "          epochs=30,\n",
    "          batch_size=8,\n",
    "          verbose=1)"
   ]
  },
  {
   "cell_type": "markdown",
   "metadata": {},
   "source": [
    "# 6.模型预测"
   ]
  },
  {
   "cell_type": "markdown",
   "metadata": {},
   "source": [
    "### 6.1 预测\n",
    "我们可以直接使用model.predict接口来对数据集进行预测操作，只需要将预测数据集传递到接口内即可。"
   ]
  },
  {
   "cell_type": "code",
   "execution_count": null,
   "metadata": {},
   "outputs": [],
   "source": [
    "predict_results = model.predict(val_dataset)"
   ]
  },
  {
   "cell_type": "markdown",
   "metadata": {},
   "source": [
    "### 6.2 定义预测结果可视化函数"
   ]
  },
  {
   "cell_type": "code",
   "execution_count": null,
   "metadata": {},
   "outputs": [],
   "source": [
    "import math\n",
    "import matplotlib.pyplot as plt\n",
    "from mpl_toolkits.axes_grid1.inset_locator import zoomed_inset_axes\n",
    "from mpl_toolkits.axes_grid1.inset_locator import mark_inset\n",
    "\n",
    "def psnr(img1, img2):\n",
    "    \"\"\"\n",
    "    PSMR计算函数\n",
    "    \"\"\"\n",
    "    mse = np.mean( (img1/255. - img2/255.) ** 2 )\n",
    "    if mse < 1.0e-10:\n",
    "        return 100\n",
    "    PIXEL_MAX = 1\n",
    "    return 20 * math.log10(PIXEL_MAX / math.sqrt(mse))\n",
    "\n",
    "def plot_results(img, title='results', prefix='out'):\n",
    "    \"\"\"\n",
    "    画图展示函数\n",
    "    \"\"\"\n",
    "    img_array = np.asarray(img, dtype='float32')\n",
    "    img_array = img_array.astype(\"float32\") / 255.0\n",
    "\n",
    "    fig, ax = plt.subplots()\n",
    "    im = ax.imshow(img_array[::-1], origin=\"lower\")\n",
    "\n",
    "    plt.title(title)\n",
    "    axins = zoomed_inset_axes(ax, 2, loc=2)\n",
    "    axins.imshow(img_array[::-1], origin=\"lower\")\n",
    "\n",
    "    x1, x2, y1, y2 = 200, 300, 100, 200\n",
    "    axins.set_xlim(x1, x2)\n",
    "    axins.set_ylim(y1, y2)\n",
    "\n",
    "    plt.yticks(visible=False)\n",
    "    plt.xticks(visible=False)\n",
    "\n",
    "    mark_inset(ax, axins, loc1=1, loc2=3, fc=\"none\", ec=\"blue\")\n",
    "    plt.savefig(str(prefix) + \"-\" + title + \".png\")\n",
    "    plt.show()\n",
    "    \n",
    "def get_lowres_image(img, upscale_factor):\n",
    "    \"\"\"\n",
    "    缩放图片\n",
    "    \"\"\"\n",
    "    return img.resize(\n",
    "        (img.size[0] // upscale_factor, img.size[1] // upscale_factor),\n",
    "        Image.BICUBIC,\n",
    "    )\n",
    "\n",
    "def upscale_image(model, img):\n",
    "    '''\n",
    "    输入小图，返回上采样三倍的大图像\n",
    "    '''\n",
    "    # 把图片复转换到YCbCr格式\n",
    "    ycbcr = img.convert(\"YCbCr\")\n",
    "    y, cb, cr = ycbcr.split()\n",
    "    y = np.asarray(y, dtype='float32')\n",
    "    y = y / 255.0\n",
    "    img = np.expand_dims(y, axis=0) # 升维度到（1,w,h）一张image\n",
    "    img = np.expand_dims(img, axis=0) # 升维度到（1,1,w,h）一个batch\n",
    "    img = np.expand_dims(img, axis=0) # 升维度到（1,1,1,w,h）可迭代的batch\n",
    "    \n",
    "    out = model.predict(img) # predict输入要求为可迭代的batch\n",
    "\n",
    "    out_img_y = out[0][0][0] # 得到predict输出结果\n",
    "    out_img_y *= 255.0\n",
    "\n",
    "    # 把图片复转换回RGB格式\n",
    "    out_img_y = out_img_y.reshape((np.shape(out_img_y)[1], np.shape(out_img_y)[2]))\n",
    "    out_img_y = Image.fromarray(np.uint8(out_img_y), mode=\"L\")\n",
    "    out_img_cb = cb.resize(out_img_y.size, Image.BICUBIC)\n",
    "    out_img_cr = cr.resize(out_img_y.size, Image.BICUBIC)\n",
    "    out_img = Image.merge(\"YCbCr\", (out_img_y, out_img_cb, out_img_cr)).convert(\n",
    "        \"RGB\"\n",
    "    )\n",
    "    return out_img\n",
    "\n",
    "def main(model, img, upscale_factor=3):\n",
    "    # 读取图像\n",
    "    with open(img, 'rb') as f:\n",
    "        img = Image.open(io.BytesIO(f.read()))\n",
    "    # 缩小三倍\n",
    "    lowres_input = get_lowres_image(img, upscale_factor)\n",
    "    w = lowres_input.size[0] * upscale_factor\n",
    "    h = lowres_input.size[1] * upscale_factor\n",
    "    # 将缩小后的图片再放大三倍\n",
    "    lowres_img = lowres_input.resize((w, h)) \n",
    "    # 确保未经缩放的图像和其他两张图片大小一致\n",
    "    highres_img = img.resize((w, h))\n",
    "    # 得到缩小后又经过 Efficient Sub-Pixel CNN放大的图片\n",
    "    prediction = upscale_image(model, lowres_input)\n",
    "    psmr_low = psnr(np.asarray(lowres_img), np.asarray(highres_img))\n",
    "    psmr_pre = psnr(np.asarray(prediction), np.asarray(highres_img))\n",
    "    # 展示三张图片\n",
    "    plot_results(lowres_img, \"lowres\")\n",
    "    plot_results(highres_img, \"highres\")\n",
    "    plot_results(prediction, \"prediction\")\n",
    "    print(\"psmr_low:\", psmr_low, \"psmr_pre:\", psmr_pre)"
   ]
  },
  {
   "cell_type": "markdown",
   "metadata": {},
   "source": [
    "### 6.3 执行预测\n",
    "从我们的预测数据集中抽1个张图片来看看预测的效果，展示一下原图、小图和预测结果。"
   ]
  },
  {
   "cell_type": "code",
   "execution_count": null,
   "metadata": {},
   "outputs": [],
   "source": [
    "main(model,'BSR/BSDS500/data/images/test/100007.jpg')"
   ]
  },
  {
   "cell_type": "markdown",
   "metadata": {},
   "source": [
    "# 7.模型保存"
   ]
  },
  {
   "cell_type": "markdown",
   "metadata": {},
   "source": [
    "将模型保存到 checkpoint/model_final ，并保留训练参数"
   ]
  },
  {
   "cell_type": "code",
   "execution_count": null,
   "metadata": {},
   "outputs": [],
   "source": [
    "model.save('checkpoint/model_final',training=True)"
   ]
  }
 ],
 "metadata": {
  "kernelspec": {
   "display_name": "paddle2",
   "language": "python",
   "name": "paddle2"
  },
  "language_info": {
   "codemirror_mode": {
    "name": "ipython",
    "version": 3
   },
   "file_extension": ".py",
   "mimetype": "text/x-python",
   "name": "python",
   "nbconvert_exporter": "python",
   "pygments_lexer": "ipython3",
   "version": "3.7.9"
  }
 },
 "nbformat": 4,
 "nbformat_minor": 4
}
