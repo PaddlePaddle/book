{
 "cells": [
  {
   "cell_type": "markdown",
   "metadata": {
    "collapsed": false
   },
   "source": [
    "# 用N-Gram模型在莎士比亚文集中训练word embedding\n",
    "\n",
    "**作者:** [PaddlePaddle](https://github.com/PaddlePaddle) <br>\n",
    "**日期:** 2021.01 <br>\n",
    "**摘要:** \n",
    "N-gram 是计算机语言学和概率论范畴内的概念，是指给定的一段文本中N个项目的序列。N=1 时 N-gram 又称为 unigram，N=2 称为 bigram，N=3 称为 trigram，以此类推。实际应用通常采用 bigram 和 trigram 进行计算。本示例在莎士比亚文集上实现了trigram。"
   ]
  },
  {
   "cell_type": "markdown",
   "metadata": {
    "collapsed": false
   },
   "source": [
    "## 一、环境配置\n",
    "\n",
    "本教程基于Paddle 2.0 编写，如果您的环境不是本版本，请先参考官网[安装](https://www.paddlepaddle.org.cn/install/quick) Paddle 2.0 。"
   ]
  },
  {
   "cell_type": "code",
   "execution_count": null,
   "metadata": {
    "collapsed": false
   },
   "outputs": [
    {
     "data": {
      "text/plain": [
       "'2.0.0'"
      ]
     },
     "execution_count": null,
     "metadata": {},
     "output_type": "execute_result"
    }
   ],
   "source": [
    "import paddle\n",
    "paddle.__version__"
   ]
  },
  {
   "cell_type": "markdown",
   "metadata": {
    "collapsed": false
   },
   "source": [
    "## 二、数据集&&相关参数\n",
    "### 2.1 数据集下载\n",
    "训练数据集采用了莎士比亚文集，[点击下载](https://ocw.mit.edu/ans7870/6/6.006/s08/lecturenotes/files/t8.shakespeare.txt)后，保存为txt格式即可。<br>\n",
    "context_size设为2，意味着是trigram。embedding_dim设为256。"
   ]
  },
  {
   "cell_type": "code",
   "execution_count": null,
   "metadata": {
    "collapsed": false
   },
   "outputs": [],
   "source": [
    "!wget https://ocw.mit.edu/ans7870/6/6.006/s08/lecturenotes/files/t8.shakespeare.txt"
   ]
  },
  {
   "cell_type": "code",
   "execution_count": null,
   "metadata": {
    "collapsed": false
   },
   "outputs": [
    {
     "name": "stdout",
     "output_type": "stream",
     "text": [
      "Length of text: 5458199 characters\n"
     ]
    }
   ],
   "source": [
    "# 文件路径\n",
    "path_to_file = './t8.shakespeare.txt'\n",
    "test_sentence = open(path_to_file, 'rb').read().decode(encoding='utf-8')\n",
    "\n",
    "# 文本长度是指文本中的字符个数\n",
    "print ('Length of text: {} characters'.format(len(test_sentence)))"
   ]
  },
  {
   "cell_type": "markdown",
   "metadata": {
    "collapsed": false
   },
   "source": [
    "###  2.2 数据预处理\n",
    "因为标点符号本身无实际意义，用`string`库中的punctuation，完成英文符号的替换。"
   ]
  },
  {
   "cell_type": "code",
   "execution_count": null,
   "metadata": {
    "collapsed": false
   },
   "outputs": [
    {
     "name": "stdout",
     "output_type": "stream",
     "text": [
      "{'!': '', '\"': '', '#': '', '$': '', '%': '', '&': '', \"'\": '', '(': '', ')': '', '*': '', '+': '', ',': '', '-': '', '.': '', '/': '', ':': '', ';': '', '<': '', '=': '', '>': '', '?': '', '@': '', '[': '', '\\\\': '', ']': '', '^': '', '_': '', '`': '', '{': '', '|': '', '}': '', '~': ''}\n"
     ]
    }
   ],
   "source": [
    "from string import punctuation\n",
    "process_dicts={i:'' for i in punctuation}\n",
    "print(process_dicts)\n",
    "\n",
    "punc_table = str.maketrans(process_dicts)\n",
    "test_sentence = test_sentence.translate(punc_table)"
   ]
  },
  {
   "cell_type": "markdown",
   "metadata": {
    "collapsed": false
   },
   "source": [
    "由于词表的的长尾，会降低模型训练的速度与精度。因此取词频前2500的单词作为词表，如果不在词表中的单词都用 '<pad>' 替换。"
   ]
  },
  {
   "cell_type": "code",
   "execution_count": null,
   "metadata": {
    "collapsed": false
   },
   "outputs": [
    {
     "name": "stdout",
     "output_type": "stream",
     "text": [
      "2500\n"
     ]
    }
   ],
   "source": [
    "test_sentence_list = test_sentence.lower().split()\n",
    "\n",
    "word_dict_count = {}\n",
    "for word in test_sentence_list:\n",
    "    word_dict_count[word] = word_dict_count.get(word, 0) + 1\n",
    "\n",
    "word_list = []\n",
    "soted_word_list = sorted(word_dict_count.items(), key=lambda x: x[1], reverse=True)\n",
    "for key in soted_word_list:\n",
    "    word_list.append(key[0])\n",
    "\n",
    "word_list = word_list[:2500]\n",
    "print(len(word_list))"
   ]
  },
  {
   "cell_type": "markdown",
   "metadata": {
    "collapsed": false
   },
   "source": [
    "### 2.3 模型参数设置\n",
    "设置模型训练常用的参数。"
   ]
  },
  {
   "cell_type": "code",
   "execution_count": null,
   "metadata": {
    "collapsed": false
   },
   "outputs": [],
   "source": [
    "# 设置参数\n",
    "hidden_size = 1024               # Linear层 参数\n",
    "embedding_dim = 256              # embedding 维度\n",
    "batch_size = 256                 # batch size 大小\n",
    "context_size = 2                 # 上下文长度\n",
    "vocab_size = len(word_list) + 1  # 词表大小\n",
    "epochs = 2                       # 迭代轮数"
   ]
  },
  {
   "cell_type": "markdown",
   "metadata": {
    "collapsed": false
   },
   "source": [
    "## 三、数据加载\n",
    "### 3.1 数据格式\n",
    "将文本被拆成了元组的形式，格式为(('第一个词', '第二个词'), '第三个词');其中，第三个词就是我们的目标。"
   ]
  },
  {
   "cell_type": "code",
   "execution_count": null,
   "metadata": {
    "collapsed": false
   },
   "outputs": [
    {
     "name": "stdout",
     "output_type": "stream",
     "text": [
      "[[['this', 'is'], 'the'], [['is', 'the'], '100th'], [['the', '100th'], 'etext']]\n"
     ]
    }
   ],
   "source": [
    "trigram = [[[test_sentence_list[i], test_sentence_list[i + 1]], test_sentence_list[i + 2]]\n",
    "           for i in range(len(test_sentence_list) - 2)]\n",
    "\n",
    "word_to_idx = {word: i+1 for i, word in enumerate(word_list)}\n",
    "word_to_idx['<pad>'] = 0\n",
    "idx_to_word = {word_to_idx[word]: word for word in word_to_idx}\n",
    "\n",
    "# 看一下数据集\n",
    "print(trigram[:3])"
   ]
  },
  {
   "cell_type": "markdown",
   "metadata": {
    "collapsed": false
   },
   "source": [
    "### 3.2 构建`Dataset`类 加载数据\n",
    "用`paddle.io.Dataset`构建数据集，然后作为参数传入到`paddle.io.DataLoader`，完成数据集的加载。"
   ]
  },
  {
   "cell_type": "code",
   "execution_count": null,
   "metadata": {
    "collapsed": false
   },
   "outputs": [],
   "source": [
    "import numpy as np\n",
    "\n",
    "class TrainDataset(paddle.io.Dataset):\n",
    "    def __init__(self, tuple_data):\n",
    "        self.tuple_data = tuple_data\n",
    "\n",
    "    def __getitem__(self, idx):\n",
    "        data = self.tuple_data[idx][0]\n",
    "        label = self.tuple_data[idx][1]\n",
    "        data = np.array(list(map(lambda word: word_to_idx.get(word, 0), data)))\n",
    "        label = np.array(word_to_idx.get(label, 0))\n",
    "        return data, label\n",
    "    \n",
    "    def __len__(self):\n",
    "        return len(self.tuple_data)\n",
    "    \n",
    "train_dataset = TrainDataset(trigram)\n",
    "\n",
    "# 加载数据\n",
    "train_loader = paddle.io.DataLoader(train_dataset, return_list=True, shuffle=True, \n",
    "                                    batch_size=batch_size, drop_last=True)"
   ]
  },
  {
   "cell_type": "markdown",
   "metadata": {
    "collapsed": false
   },
   "source": [
    "## 四、模型组网\n",
    "这里用paddle动态图的方式组网。为了构建Trigram模型，用一层 `Embedding` 与两层 `Linear` 完成构建。`Embedding` 层对输入的前两个单词embedding，然后输入到后面的两个`Linear`层中，完成特征提取。"
   ]
  },
  {
   "cell_type": "code",
   "execution_count": null,
   "metadata": {
    "collapsed": false
   },
   "outputs": [],
   "source": [
    "import paddle.nn.functional as F\n",
    "\n",
    "class NGramModel(paddle.nn.Layer):\n",
    "    def __init__(self, vocab_size, embedding_dim, context_size):\n",
    "        super(NGramModel, self).__init__()\n",
    "        self.embedding = paddle.nn.Embedding(num_embeddings=vocab_size, embedding_dim=embedding_dim)\n",
    "        self.linear1 = paddle.nn.Linear(context_size * embedding_dim, hidden_size)\n",
    "        self.linear2 = paddle.nn.Linear(hidden_size, vocab_size)\n",
    "\n",
    "    def forward(self, x):\n",
    "        x = self.embedding(x)\n",
    "        x = paddle.reshape(x, [-1, context_size * embedding_dim])\n",
    "        x = self.linear1(x)\n",
    "        x = F.relu(x)\n",
    "        x = self.linear2(x)\n",
    "        return x"
   ]
  },
  {
   "cell_type": "markdown",
   "metadata": {
    "collapsed": false
   },
   "source": [
    "## 五、 方式1：基于高层API，完成模型的训练与预测\n",
    "### 5.1 自定义Callback\n",
    "在训练过程中，有时需要根据模型训练过程中loss，打印loss下降曲线来调参。为了保存训练时每个batch的loss信息，我们需要自己定义Callback函数，完成模型训练时loss信息的记录。具体的方式如下："
   ]
  },
  {
   "cell_type": "code",
   "execution_count": 27,
   "metadata": {
    "collapsed": false
   },
   "outputs": [],
   "source": [
    "# 自定义Callback 需要继承基类 Callback\n",
    "class LossCallback(paddle.callbacks.Callback):\n",
    "\n",
    "    def __init__(self):\n",
    "        self.losses = []\n",
    "        \n",
    "    def on_train_begin(self, logs={}):\n",
    "        # 在fit前 初始化losses，用于保存每个batch的loss结果\n",
    "        self.losses = []\n",
    "    \n",
    "    def on_train_batch_end(self, step, logs={}):\n",
    "        # 每个batch训练完成后调用，把当前loss添加到losses中\n",
    "        self.losses.append(logs.get('loss'))\n",
    "        \n",
    "loss_log = LossCallback()"
   ]
  },
  {
   "cell_type": "markdown",
   "metadata": {
    "collapsed": false
   },
   "source": [
    "### 5.2 模型训练\n",
    "完成组网与自定义Callback后，将模型用` Model` 封装后，就可以用 `Model.prepare()、Model.fit()` 开始训练。"
   ]
  },
  {
   "cell_type": "code",
   "execution_count": 29,
   "metadata": {
    "collapsed": false
   },
   "outputs": [
    {
     "name": "stdout",
     "output_type": "stream",
     "text": [
      "The loss value printed in the log is the current step, and the metric is the average value of previous step.\n",
      "Epoch 1/2\n",
      "step 3519/3519 [==============================] - loss: 5.1085 - 135ms/step        \n",
      "Epoch 2/2\n",
      "step 3519/3519 [==============================] - loss: 5.3717 - 166ms/step        \n"
     ]
    }
   ],
   "source": [
    "n_gram_model = paddle.Model(NGramModel(vocab_size, embedding_dim, context_size)) # 用 Model封装 NGramModel\n",
    "\n",
    "# 模型配置\n",
    "n_gram_model.prepare(optimizer=paddle.optimizer.Adam(learning_rate=0.01, \n",
    "                     parameters=n_gram_model.parameters()),\n",
    "                     loss=paddle.nn.CrossEntropyLoss())\n",
    "\n",
    "# 模型训练\n",
    "n_gram_model.fit(train_loader, \n",
    "                 epochs=epochs,\n",
    "                 batch_size=batch_size,\n",
    "                 callbacks=[loss_log],\n",
    "                 verbose=1)"
   ]
  },
  {
   "cell_type": "markdown",
   "metadata": {
    "collapsed": false
   },
   "source": [
    "### 5.3 loss可视化\n",
    "利用 `matplotlib` 工具，完成loss的可视化"
   ]
  },
  {
   "cell_type": "code",
   "execution_count": 30,
   "metadata": {
    "collapsed": false
   },
   "outputs": [
    {
     "data": {
      "text/plain": [
       "[<matplotlib.lines.Line2D at 0x7fc2de249850>]"
      ]
     },
     "execution_count": 30,
     "metadata": {},
     "output_type": "execute_result"
    },
    {
     "data": {
      "image/png": "[encoded data removed]",
      "text/plain": [
       "<Figure size 432x288 with 1 Axes>"
      ]
     },
     "metadata": {},
     "output_type": "display_data"
    }
   ],
   "source": [
    "# 可视化 loss\n",
    "import matplotlib.pyplot as plt\n",
    "import matplotlib.ticker as ticker\n",
    "%matplotlib inline\n",
    "log_loss = [loss_log.losses[i] for i in range(0, len(loss_log.losses), 500)]\n",
    "plt.figure()\n",
    "plt.plot(log_loss)"
   ]
  },
  {
   "cell_type": "markdown",
   "metadata": {
    "collapsed": false
   },
   "source": [
    "## 六、方式2：基于基础API，完成模型的训练与预测\n",
    "### 6.1 自定义 `train` 函数\n",
    "通过基础API，自定义 `train` 函数，完成模型的训练。"
   ]
  },
  {
   "cell_type": "code",
   "execution_count": 32,
   "metadata": {
    "collapsed": false
   },
   "outputs": [
    {
     "name": "stdout",
     "output_type": "stream",
     "text": [
      "epoch: 0, batch_id: 0, loss is: [7.8264003]\n",
      "epoch: 0, batch_id: 500, loss is: [5.369318]\n",
      "epoch: 0, batch_id: 1000, loss is: [5.41901]\n",
      "epoch: 0, batch_id: 1500, loss is: [5.480854]\n",
      "epoch: 0, batch_id: 2000, loss is: [5.333619]\n",
      "epoch: 0, batch_id: 2500, loss is: [5.3956995]\n",
      "epoch: 0, batch_id: 3000, loss is: [5.282076]\n",
      "epoch: 0, batch_id: 3500, loss is: [5.426653]\n",
      "epoch: 1, batch_id: 0, loss is: [5.4072175]\n",
      "epoch: 1, batch_id: 500, loss is: [5.213806]\n",
      "epoch: 1, batch_id: 1000, loss is: [5.37059]\n",
      "epoch: 1, batch_id: 1500, loss is: [5.2062044]\n",
      "epoch: 1, batch_id: 2000, loss is: [5.0453634]\n",
      "epoch: 1, batch_id: 2500, loss is: [5.2034044]\n",
      "epoch: 1, batch_id: 3000, loss is: [4.869763]\n",
      "epoch: 1, batch_id: 3500, loss is: [5.6296024]\n"
     ]
    }
   ],
   "source": [
    "import paddle.nn.functional as F\n",
    "losses = []\n",
    "def train(model):\n",
    "    model.train()\n",
    "    optim = paddle.optimizer.Adam(learning_rate=0.01, parameters=model.parameters())\n",
    "    for epoch in range(epochs):\n",
    "        for batch_id, data in enumerate(train_loader()):\n",
    "            x_data = data[0]\n",
    "            y_data = data[1]\n",
    "            predicts = model(x_data)\n",
    "            loss = F.cross_entropy(predicts, y_data)\n",
    "            loss.backward()\n",
    "            if batch_id % 500 == 0:\n",
    "                losses.append(loss.numpy())\n",
    "                print(\"epoch: {}, batch_id: {}, loss is: {}\".format(epoch, batch_id, loss.numpy())) \n",
    "            optim.step()\n",
    "            optim.clear_grad()\n",
    "model = NGramModel(vocab_size, embedding_dim, context_size)\n",
    "train(model)"
   ]
  },
  {
   "cell_type": "markdown",
   "metadata": {
    "collapsed": false
   },
   "source": [
    "### 6.2 loss可视化\n",
    "通过可视化loss的曲线，可以看到模型训练的效果。"
   ]
  },
  {
   "cell_type": "code",
   "execution_count": 33,
   "metadata": {
    "collapsed": false
   },
   "outputs": [
    {
     "data": {
      "text/plain": [
       "[<matplotlib.lines.Line2D at 0x7fc2dc5c3710>]"
      ]
     },
     "execution_count": 33,
     "metadata": {},
     "output_type": "execute_result"
    },
    {
     "data": {
      "image/png": "[encoded data removed]",
      "text/plain": [
       "<Figure size 432x288 with 1 Axes>"
      ]
     },
     "metadata": {},
     "output_type": "display_data"
    }
   ],
   "source": [
    "import matplotlib.pyplot as plt\n",
    "import matplotlib.ticker as ticker\n",
    "%matplotlib inline\n",
    "\n",
    "plt.figure()\n",
    "plt.plot(losses)"
   ]
  },
  {
   "cell_type": "markdown",
   "metadata": {
    "collapsed": false
   },
   "source": [
    "###  6.3 预测\n",
    "用训练好的模型进行预测。"
   ]
  },
  {
   "cell_type": "code",
   "execution_count": 35,
   "metadata": {
    "collapsed": false
   },
   "outputs": [
    {
     "name": "stdout",
     "output_type": "stream",
     "text": [
      "the input words is: works, of\n",
      "the predict words is: william\n",
      "the true words is: william\n"
     ]
    }
   ],
   "source": [
    "import random\n",
    "def test(model):\n",
    "    model.eval()\n",
    "    # 从最后10组数据中随机选取1个\n",
    "    idx = random.randint(len(trigram)-10, len(trigram)-1)\n",
    "    print('the input words is: ' + trigram[idx][0][0] + ', ' + trigram[idx][0][1])\n",
    "    x_data = list(map(lambda word: word_to_idx.get(word, 0), trigram[idx][0]))\n",
    "    x_data = paddle.to_tensor(np.array(x_data))\n",
    "    predicts = model(x_data)\n",
    "    predicts = predicts.numpy().tolist()[0]\n",
    "    predicts = predicts.index(max(predicts))\n",
    "    print('the predict words is: ' + idx_to_word[predicts])\n",
    "    y_data = trigram[idx][1]\n",
    "    print('the true words is: ' + y_data)\n",
    "test(model)"
   ]
  }
 ],
 "metadata": {
  "kernelspec": {
   "display_name": "PaddlePaddle 2.0.0b0 (Python 3.5)",
   "language": "python",
   "name": "py35-paddle1.2.0"
  },
  "language_info": {
   "codemirror_mode": {
    "name": "ipython",
    "version": 3
   },
   "file_extension": ".py",
   "mimetype": "text/x-python",
   "name": "python",
   "nbconvert_exporter": "python",
   "pygments_lexer": "ipython3",
   "version": "3.7.4"
  }
 },
 "nbformat": 4,
 "nbformat_minor": 1
}
