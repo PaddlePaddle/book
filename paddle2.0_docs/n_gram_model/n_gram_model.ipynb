{
 "cells": [
  {
   "cell_type": "markdown",
   "metadata": {},
   "source": [
    "\n",
    "## 用N-Gram模型在莎士比亚文集中训练word embedding\n",
    "N-gram 是计算机语言学和概率论范畴内的概念，是指给定的一段文本中N个项目的序列。\n",
    "N=1 时 N-gram 又称为 unigram，N=2 称为 bigram，N=3 称为 trigram，以此类推。实际应用通常采用 bigram 和 trigram 进行计算。\n",
    "本示例在莎士比亚文集上实现了trigram。"
   ]
  },
  {
   "cell_type": "markdown",
   "metadata": {},
   "source": [
    "# 环境\n",
    "本教程基于paddle-develop编写，如果您的环境不是本版本，请先安装paddle-develop。"
   ]
  },
  {
   "cell_type": "code",
   "execution_count": 17,
   "metadata": {},
   "outputs": [
    {
     "data": {
      "text/plain": [
       "'0.0.0'"
      ]
     },
     "execution_count": 17,
     "metadata": {},
     "output_type": "execute_result"
    }
   ],
   "source": [
    "import paddle\n",
    "paddle.__version__"
   ]
  },
  {
   "cell_type": "markdown",
   "metadata": {},
   "source": [
    "## 数据集&&相关参数\n",
    "训练数据集采用了莎士比亚文集，[下载](https://ocw.mit.edu/ans7870/6/6.006/s08/lecturenotes/files/t8.shakespeare.txt)，保存为txt格式即可。<br>\n",
    "context_size设为2，意味着是trigram。embedding_dim设为256。"
   ]
  },
  {
   "cell_type": "code",
   "execution_count": 18,
   "metadata": {},
   "outputs": [
    {
     "name": "stdout",
     "output_type": "stream",
     "text": [
      "--2020-09-03 08:41:10--  https://ocw.mit.edu/ans7870/6/6.006/s08/lecturenotes/files/t8.shakespeare.txt\n",
      "正在解析主机 ocw.mit.edu (ocw.mit.edu)... 151.101.230.133\n",
      "正在连接 ocw.mit.edu (ocw.mit.edu)|151.101.230.133|:443... 已连接。\n",
      "已发出 HTTP 请求，正在等待回应... 200 OK\n",
      "长度：5458199 (5.2M) [text/plain]\n",
      "正在保存至: “t8.shakespeare.txt.1”\n",
      "\n",
      "t8.shakespeare.txt. 100%[===================>]   5.21M  26.1KB/s  用时 4m 14s    \n",
      "\n",
      "2020-09-03 08:45:25 (21.0 KB/s) - 已保存 “t8.shakespeare.txt.1” [5458199/5458199])\n",
      "\n"
     ]
    }
   ],
   "source": [
    "!wget https://ocw.mit.edu/ans7870/6/6.006/s08/lecturenotes/files/t8.shakespeare.txt"
   ]
  },
  {
   "cell_type": "code",
   "execution_count": 19,
   "metadata": {},
   "outputs": [],
   "source": [
    "embedding_dim = 256\n",
    "context_size = 2"
   ]
  },
  {
   "cell_type": "code",
   "execution_count": 20,
   "metadata": {},
   "outputs": [
    {
     "name": "stdout",
     "output_type": "stream",
     "text": [
      "Length of text: 5458199 characters\n"
     ]
    }
   ],
   "source": [
    "# 文件路径\n",
    "path_to_file = './t8.shakespeare.txt'\n",
    "test_sentence = open(path_to_file, 'rb').read().decode(encoding='utf-8')\n",
    "\n",
    "# 文本长度是指文本中的字符个数\n",
    "print ('Length of text: {} characters'.format(len(test_sentence)))"
   ]
  },
  {
   "cell_type": "markdown",
   "metadata": {},
   "source": [
    "## 去除标点符号\n",
    "用`string`库中的punctuation，完成英文符号的替换。"
   ]
  },
  {
   "cell_type": "code",
   "execution_count": 21,
   "metadata": {},
   "outputs": [
    {
     "name": "stdout",
     "output_type": "stream",
     "text": [
      "{'!': '', '\"': '', '#': '', '$': '', '%': '', '&': '', \"'\": '', '(': '', ')': '', '*': '', '+': '', ',': '', '-': '', '.': '', '/': '', ':': '', ';': '', '<': '', '=': '', '>': '', '?': '', '@': '', '[': '', '\\\\': '', ']': '', '^': '', '_': '', '`': '', '{': '', '|': '', '}': '', '~': ''}\n"
     ]
    }
   ],
   "source": [
    "from string import punctuation\n",
    "process_dicts={i:'' for i in punctuation}\n",
    "print(process_dicts)"
   ]
  },
  {
   "cell_type": "code",
   "execution_count": 22,
   "metadata": {},
   "outputs": [
    {
     "name": "stdout",
     "output_type": "stream",
     "text": [
      "28343\n"
     ]
    }
   ],
   "source": [
    "punc_table = str.maketrans(process_dicts)\n",
    "test_sentence = test_sentence.translate(punc_table)\n",
    "test_sentence = test_sentence.lower().split()\n",
    "vocab = set(test_sentence)\n",
    "print(len(vocab))"
   ]
  },
  {
   "cell_type": "markdown",
   "metadata": {},
   "source": [
    "## 数据预处理\n",
    "将文本被拆成了元组的形式，格式为(('第一个词', '第二个词'), '第三个词');其中，第三个词就是我们的目标。"
   ]
  },
  {
   "cell_type": "code",
   "execution_count": 23,
   "metadata": {},
   "outputs": [
    {
     "name": "stdout",
     "output_type": "stream",
     "text": [
      "[[['this', 'is'], 'the'], [['is', 'the'], '100th'], [['the', '100th'], 'etext']]\n"
     ]
    }
   ],
   "source": [
    "trigram = [[[test_sentence[i], test_sentence[i + 1]], test_sentence[i + 2]]\n",
    "           for i in range(len(test_sentence) - 2)]\n",
    "\n",
    "word_to_idx = {word: i for i, word in enumerate(vocab)}\n",
    "idx_to_word = {word_to_idx[word]: word for word in word_to_idx}\n",
    "# 看一下数据集\n",
    "print(trigram[:3])"
   ]
  },
  {
   "cell_type": "markdown",
   "metadata": {},
   "source": [
    "## 构建`Dataset`类 加载数据\n",
    "用`paddle.io.Dataset`构建数据集，然后作为参数传入到`paddle.io.DataLoader`，完成数据集的加载。"
   ]
  },
  {
   "cell_type": "code",
   "execution_count": 24,
   "metadata": {},
   "outputs": [],
   "source": [
    "import paddle\n",
    "import numpy as np\n",
    "batch_size = 256\n",
    "paddle.disable_static()\n",
    "class TrainDataset(paddle.io.Dataset):\n",
    "    def __init__(self, tuple_data):\n",
    "        self.tuple_data = tuple_data\n",
    "\n",
    "    def __getitem__(self, idx):\n",
    "        data = self.tuple_data[idx][0]\n",
    "        label = self.tuple_data[idx][1]\n",
    "        data = np.array(list(map(lambda w: word_to_idx[w], data)))\n",
    "        label = np.array(word_to_idx[label])\n",
    "        return data, label\n",
    "    \n",
    "    def __len__(self):\n",
    "        return len(self.tuple_data)\n",
    "train_dataset = TrainDataset(trigram)\n",
    "train_loader = paddle.io.DataLoader(train_dataset,places=paddle.fluid.cpu_places(), return_list=True,\n",
    "                                    shuffle=True, batch_size=batch_size, drop_last=True)"
   ]
  },
  {
   "cell_type": "markdown",
   "metadata": {},
   "source": [
    "## 组网&训练\n",
    "这里用paddle动态图的方式组网。为了构建Trigram模型，用一层 `Embedding` 与两层 `Linear` 完成构建。`Embedding` 层对输入的前两个单词embedding，然后输入到后面的两个`Linear`层中，完成特征提取。"
   ]
  },
  {
   "cell_type": "code",
   "execution_count": 25,
   "metadata": {},
   "outputs": [],
   "source": [
    "import paddle\n",
    "import numpy as np\n",
    "hidden_size = 1024\n",
    "class NGramModel(paddle.nn.Layer):\n",
    "    def __init__(self, vocab_size, embedding_dim, context_size):\n",
    "        super(NGramModel, self).__init__()\n",
    "        self.embedding = paddle.nn.Embedding(size=[vocab_size, embedding_dim])\n",
    "        self.linear1 = paddle.nn.Linear(context_size * embedding_dim, hidden_size)\n",
    "        self.linear2 = paddle.nn.Linear(hidden_size, len(vocab))\n",
    "\n",
    "    def forward(self, x):\n",
    "        x = self.embedding(x)\n",
    "        x = paddle.reshape(x, [-1, context_size * embedding_dim])\n",
    "        x = self.linear1(x)\n",
    "        x = paddle.nn.functional.relu(x)\n",
    "        x = self.linear2(x)\n",
    "        return x"
   ]
  },
  {
   "cell_type": "markdown",
   "metadata": {},
   "source": [
    "### 定义`train()`函数，对模型进行训练。"
   ]
  },
  {
   "cell_type": "code",
   "execution_count": 28,
   "metadata": {},
   "outputs": [
    {
     "name": "stdout",
     "output_type": "stream",
     "text": [
      "epoch: 0, batch_id: 0, loss is: [10.252256]\n",
      "epoch: 0, batch_id: 100, loss is: [7.0485706]\n",
      "epoch: 0, batch_id: 200, loss is: [7.282592]\n",
      "epoch: 0, batch_id: 300, loss is: [6.9604626]\n",
      "epoch: 0, batch_id: 400, loss is: [6.7308316]\n",
      "epoch: 0, batch_id: 500, loss is: [6.7940483]\n",
      "epoch: 0, batch_id: 600, loss is: [6.6574802]\n",
      "epoch: 0, batch_id: 700, loss is: [6.862562]\n",
      "epoch: 0, batch_id: 800, loss is: [7.2091002]\n",
      "epoch: 0, batch_id: 900, loss is: [7.0172606]\n",
      "epoch: 0, batch_id: 1000, loss is: [6.9888105]\n",
      "epoch: 0, batch_id: 1100, loss is: [6.9609995]\n",
      "epoch: 0, batch_id: 1200, loss is: [6.550024]\n",
      "epoch: 0, batch_id: 1300, loss is: [6.714109]\n",
      "epoch: 0, batch_id: 1400, loss is: [6.995716]\n",
      "epoch: 0, batch_id: 1500, loss is: [6.939434]\n",
      "epoch: 0, batch_id: 1600, loss is: [6.5966253]\n",
      "epoch: 0, batch_id: 1700, loss is: [6.9880104]\n",
      "epoch: 0, batch_id: 1800, loss is: [6.6459093]\n",
      "epoch: 0, batch_id: 1900, loss is: [6.8095036]\n",
      "epoch: 0, batch_id: 2000, loss is: [6.8447037]\n",
      "epoch: 0, batch_id: 2100, loss is: [6.8313]\n",
      "epoch: 0, batch_id: 2200, loss is: [6.808483]\n",
      "epoch: 0, batch_id: 2300, loss is: [6.502908]\n",
      "epoch: 0, batch_id: 2400, loss is: [6.561283]\n",
      "epoch: 0, batch_id: 2500, loss is: [7.0093765]\n",
      "epoch: 0, batch_id: 2600, loss is: [6.512396]\n",
      "epoch: 0, batch_id: 2700, loss is: [6.809763]\n",
      "epoch: 0, batch_id: 2800, loss is: [6.806659]\n",
      "epoch: 0, batch_id: 2900, loss is: [6.95402]\n",
      "epoch: 0, batch_id: 3000, loss is: [6.634927]\n",
      "epoch: 0, batch_id: 3100, loss is: [6.644098]\n",
      "epoch: 0, batch_id: 3200, loss is: [6.705504]\n",
      "epoch: 0, batch_id: 3300, loss is: [6.2121572]\n",
      "epoch: 0, batch_id: 3400, loss is: [6.638401]\n",
      "epoch: 0, batch_id: 3500, loss is: [6.986831]\n",
      "epoch: 1, batch_id: 0, loss is: [6.795429]\n",
      "epoch: 1, batch_id: 100, loss is: [6.582568]\n",
      "epoch: 1, batch_id: 200, loss is: [6.527663]\n",
      "epoch: 1, batch_id: 300, loss is: [6.714637]\n",
      "epoch: 1, batch_id: 400, loss is: [6.574902]\n",
      "epoch: 1, batch_id: 500, loss is: [6.305031]\n",
      "epoch: 1, batch_id: 600, loss is: [6.803609]\n",
      "epoch: 1, batch_id: 700, loss is: [6.2429113]\n",
      "epoch: 1, batch_id: 800, loss is: [6.7452283]\n",
      "epoch: 1, batch_id: 900, loss is: [6.383783]\n",
      "epoch: 1, batch_id: 1000, loss is: [6.4906135]\n",
      "epoch: 1, batch_id: 1100, loss is: [6.6007314]\n",
      "epoch: 1, batch_id: 1200, loss is: [6.63466]\n",
      "epoch: 1, batch_id: 1300, loss is: [6.540749]\n",
      "epoch: 1, batch_id: 1400, loss is: [6.7752547]\n",
      "epoch: 1, batch_id: 1500, loss is: [6.2411666]\n",
      "epoch: 1, batch_id: 1600, loss is: [6.540929]\n",
      "epoch: 1, batch_id: 1700, loss is: [6.6563463]\n",
      "epoch: 1, batch_id: 1800, loss is: [6.4592104]\n",
      "epoch: 1, batch_id: 1900, loss is: [7.0268345]\n",
      "epoch: 1, batch_id: 2000, loss is: [6.803793]\n",
      "epoch: 1, batch_id: 2100, loss is: [6.8454733]\n",
      "epoch: 1, batch_id: 2200, loss is: [6.651756]\n",
      "epoch: 1, batch_id: 2300, loss is: [6.5876465]\n",
      "epoch: 1, batch_id: 2400, loss is: [6.258934]\n",
      "epoch: 1, batch_id: 2500, loss is: [6.5422425]\n",
      "epoch: 1, batch_id: 2600, loss is: [6.184501]\n",
      "epoch: 1, batch_id: 2700, loss is: [6.6847773]\n",
      "epoch: 1, batch_id: 2800, loss is: [6.684101]\n",
      "epoch: 1, batch_id: 2900, loss is: [6.374978]\n",
      "epoch: 1, batch_id: 3000, loss is: [6.8277273]\n",
      "epoch: 1, batch_id: 3100, loss is: [6.5195084]\n",
      "epoch: 1, batch_id: 3200, loss is: [6.311832]\n",
      "epoch: 1, batch_id: 3300, loss is: [6.4282994]\n",
      "epoch: 1, batch_id: 3400, loss is: [6.603338]\n",
      "epoch: 1, batch_id: 3500, loss is: [6.4541807]\n"
     ]
    }
   ],
   "source": [
    "import time\n",
    "vocab_size = len(vocab)\n",
    "epochs = 2\n",
    "losses = []\n",
    "def train(model):\n",
    "    model.train()\n",
    "    optim = paddle.optimizer.Adam(learning_rate=0.01, parameters=model.parameters())\n",
    "    for epoch in range(epochs):\n",
    "        for batch_id, data in enumerate(train_loader()):\n",
    "            x_data = data[0]\n",
    "            y_data = data[1]\n",
    "            predicts = model(x_data)\n",
    "            y_data = paddle.nn.functional.one_hot(y_data, len(vocab))\n",
    "            loss = paddle.nn.functional.softmax_with_cross_entropy(predicts, y_data,soft_label=True)\n",
    "            avg_loss = paddle.mean(loss)\n",
    "            avg_loss.backward()\n",
    "            if batch_id % 100 == 0:\n",
    "                losses.append(avg_loss.numpy())\n",
    "                print(\"epoch: {}, batch_id: {}, loss is: {}\".format(epoch, batch_id, avg_loss.numpy())) \n",
    "            optim.minimize(avg_loss)\n",
    "            model.clear_gradients()\n",
    "model = NGramModel(vocab_size, embedding_dim, context_size)\n",
    "train(model)"
   ]
  },
  {
   "cell_type": "markdown",
   "metadata": {},
   "source": [
    "## 打印loss下降曲线\n",
    "通过可视化loss的曲线，可以看到模型训练的效果。"
   ]
  },
  {
   "cell_type": "code",
   "execution_count": 29,
   "metadata": {},
   "outputs": [
    {
     "data": {
      "text/plain": [
       "[<matplotlib.lines.Line2D at 0x166d69048>]"
      ]
     },
     "execution_count": 29,
     "metadata": {},
     "output_type": "execute_result"
    },
    {
     "data": {
      "image/png": "[encoded data removed]",
      "text/plain": [
       "<Figure size 432x288 with 1 Axes>"
      ]
     },
     "metadata": {
      "needs_background": "light"
     },
     "output_type": "display_data"
    }
   ],
   "source": [
    "import matplotlib.pyplot as plt\n",
    "import matplotlib.ticker as ticker\n",
    "%matplotlib inline\n",
    "\n",
    "plt.figure()\n",
    "plt.plot(losses)"
   ]
  },
  {
   "cell_type": "markdown",
   "metadata": {},
   "source": [
    "## 预测\n",
    "用训练好的模型进行预测。"
   ]
  },
  {
   "cell_type": "code",
   "execution_count": 30,
   "metadata": {},
   "outputs": [
    {
     "name": "stdout",
     "output_type": "stream",
     "text": [
      "the input words is: of, william\n",
      "the predict words is: shakespeare\n",
      "the true words is: shakespeare\n"
     ]
    },
    {
     "name": "stderr",
     "output_type": "stream",
     "text": [
      "/Library/Python/3.7/site-packages/ipykernel/ipkernel.py:287: DeprecationWarning: `should_run_async` will not call `transform_cell` automatically in the future. Please pass the result to `transformed_cell` argument and any exception that happen during thetransform in `preprocessing_exc_tuple` in IPython 7.17 and above.\n",
      "  and should_run_async(code)\n"
     ]
    }
   ],
   "source": [
    "import random\n",
    "def test(model):\n",
    "    model.eval()\n",
    "    # 从最后10组数据中随机选取1个\n",
    "    idx = random.randint(len(trigram)-10, len(trigram)-1)\n",
    "    print('the input words is: ' + trigram[idx][0][0] + ', ' + trigram[idx][0][1])\n",
    "    x_data = list(map(lambda w: word_to_idx[w], trigram[idx][0]))\n",
    "    x_data = paddle.to_tensor(np.array(x_data))\n",
    "    predicts = model(x_data)\n",
    "    predicts = predicts.numpy().tolist()[0]\n",
    "    predicts = predicts.index(max(predicts))\n",
    "    print('the predict words is: ' + idx_to_word[predicts])\n",
    "    y_data = trigram[idx][1]\n",
    "    print('the true words is: ' + y_data)\n",
    "test(model)"
   ]
  },
  {
   "cell_type": "code",
   "execution_count": null,
   "metadata": {},
   "outputs": [],
   "source": []
  }
 ],
 "metadata": {
  "kernelspec": {
   "display_name": "Python 3",
   "language": "python",
   "name": "python3"
  }
 },
 "nbformat": 4,
 "nbformat_minor": 4
}
