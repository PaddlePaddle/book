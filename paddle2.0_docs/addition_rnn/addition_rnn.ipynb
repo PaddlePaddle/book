{
 "cells": [
  {
   "cell_type": "markdown",
   "metadata": {
    "collapsed": false
   },
   "source": [
    "# 使用序列到序列模型完成数字加法\n",
    "\n",
    "**作者:** [jm12138](https://github.com/jm12138) <br>\n",
    "**日期:** 2021.03 <br>\n",
    "**摘要:** 本示例介绍如何使用飞桨完成一个数字加法任务，将会使用飞桨提供的`LSTM`，组建一个序列到序列模型，并在随机生成的数据集上完成数字加法任务的模型训练与预测。"
   ]
  },
  {
   "cell_type": "markdown",
   "metadata": {
    "collapsed": false
   },
   "source": [
    "## 一、环境配置\n",
    "\n",
    "本教程基于Paddle 2.0 编写，如果你的环境不是本版本，请先参考官网[安装](https://www.paddlepaddle.org.cn/install/quick) Paddle 2.0 。"
   ]
  },
  {
   "cell_type": "code",
   "execution_count": 1,
   "metadata": {
    "collapsed": false
   },
   "outputs": [
    {
     "name": "stdout",
     "output_type": "stream",
     "text": [
      "paddle version: 2.0.1\n"
     ]
    }
   ],
   "source": [
    "# 导入项目运行所需的包\n",
    "\n",
    "import paddle\n",
    "import paddle.nn as nn\n",
    "\n",
    "import random\n",
    "import numpy as np\n",
    "\n",
    "from visualdl import LogWriter\n",
    "\n",
    "# 打印Paddle版本\n",
    "print('paddle version: %s' % paddle.__version__)"
   ]
  },
  {
   "cell_type": "markdown",
   "metadata": {
    "collapsed": false
   },
   "source": [
    "## 二、构建数据集\n",
    "* 随机生成数据，并使用生成的数据构造数据集\n",
    "* 通过继承 ``paddle.io.Dataset`` 来完成数据集的构造"
   ]
  },
  {
   "cell_type": "code",
   "execution_count": 2,
   "metadata": {
    "collapsed": false
   },
   "outputs": [
    {
     "name": "stdout",
     "output_type": "stream",
     "text": [
      "generating datas..\n",
      "making the dataset...\n",
      "finish\n"
     ]
    }
   ],
   "source": [
    "# 编码函数\n",
    "def encoder(text, LEN, label_dict):\n",
    "    # 文本转ID\n",
    "    ids = [label_dict[word] for word in text]\n",
    "    # 对长度进行补齐\n",
    "    ids += [label_dict[' ']]*(LEN-len(ids))\n",
    "    return ids\n",
    "\n",
    "# 单个数据生成函数\n",
    "def make_data(inputs, labels, DIGITS, label_dict):\n",
    "    MAXLEN = DIGITS + 1 + DIGITS\n",
    "    # 对输入输出文本进行ID编码\n",
    "    inputs = encoder(inputs, MAXLEN, label_dict)\n",
    "    labels = encoder(labels, DIGITS + 1, label_dict)\n",
    "    return inputs, labels\n",
    "\n",
    "# 批量数据生成函数\n",
    "def gen_datas(DATA_NUM, MAX_NUM, DIGITS, label_dict):\n",
    "    datas = []\n",
    "    while len(datas)<DATA_NUM:\n",
    "        # 随机取两个数\n",
    "        a = random.randint(0,MAX_NUM)\n",
    "        b = random.randint(0,MAX_NUM)\n",
    "        # 生成输入文本\n",
    "        inputs = '%d+%d' % (a, b)\n",
    "        # 生成输出文本\n",
    "        labels = str(eval(inputs))\n",
    "        # 生成单个数据\n",
    "        inputs, labels = [np.array(_).astype('int64') for _ in make_data(inputs, labels, DIGITS, label_dict)]\n",
    "        datas.append([inputs, labels])\n",
    "    return datas\n",
    "\n",
    "# 继承paddle.io.Dataset来构造数据集\n",
    "class Addition_Dataset(paddle.io.Dataset):\n",
    "    # 重写数据集初始化函数\n",
    "    def __init__(self, datas):\n",
    "        super(Addition_Dataset, self).__init__()\n",
    "        self.datas = datas\n",
    "    \n",
    "    # 重写生成样本的函数\n",
    "    def __getitem__(self, index):\n",
    "        data, label = [paddle.to_tensor(_) for _ in self.datas[index]]\n",
    "        return data, label\n",
    "\n",
    "    # 重写返回数据集大小的函数\n",
    "    def __len__(self):\n",
    "        return len(self.datas)\n",
    "\n",
    "print('generating datas..')\n",
    "\n",
    "# 定义字符表\n",
    "label_dict = {\n",
    "    '0': 0, '1': 1, '2': 2, '3': 3,\n",
    "    '4': 4, '5': 5, '6': 6, '7': 7,\n",
    "    '8': 8, '9': 9, '+': 10, ' ': 11\n",
    "}\n",
    "\n",
    "# 输入数字最大位数\n",
    "DIGITS = 2\n",
    "\n",
    "# 数据数量\n",
    "train_num = 5000\n",
    "dev_num = 500\n",
    "\n",
    "# 数据批大小\n",
    "batch_size = 32\n",
    "\n",
    "# 读取线程数\n",
    "num_workers = 8\n",
    "\n",
    "# 定义一些所需变量\n",
    "MAXLEN = DIGITS + 1 + DIGITS\n",
    "MAX_NUM = 10**(DIGITS)-1\n",
    "\n",
    "# 生成数据\n",
    "train_datas = gen_datas(\n",
    "    train_num, \n",
    "    MAX_NUM,\n",
    "    DIGITS, \n",
    "    label_dict\n",
    ") \n",
    "dev_datas = gen_datas(\n",
    "    dev_num, \n",
    "    MAX_NUM,\n",
    "    DIGITS, \n",
    "    label_dict\n",
    ")\n",
    "\n",
    "# 实例化数据集\n",
    "train_dataset = Addition_Dataset(train_datas)\n",
    "dev_dataset = Addition_Dataset(dev_datas)\n",
    "\n",
    "print('making the dataset...')\n",
    "\n",
    "# 实例化数据读取器\n",
    "train_reader = paddle.io.DataLoader(\n",
    "    train_dataset,\n",
    "    batch_size=batch_size,\n",
    "    shuffle=True,\n",
    "    drop_last=True\n",
    ")\n",
    "dev_reader = paddle.io.DataLoader(\n",
    "    dev_dataset,\n",
    "    batch_size=batch_size,\n",
    "    shuffle=False,\n",
    "    drop_last=True\n",
    ")\n",
    "\n",
    "print('finish')"
   ]
  },
  {
   "cell_type": "markdown",
   "metadata": {
    "collapsed": false
   },
   "source": [
    "##  三、模型组网\n",
    "* 通过继承 ``paddle.nn.Layer`` 类来搭建模型\n",
    "* 本次介绍的模型是一个简单的基于 ``LSTM`` 的 ``Seq2Seq`` 模型\n",
    "* 一共有如下四个主要的网络层：\n",
    "\n",
    "  1. 嵌入层(``Embedding``)：将输入的文本序列转为嵌入向量\n",
    "  2. 编码层(``LSTM``)：将嵌入向量进行编码\n",
    "  3. 解码层(``LSTM``)：将编码向量进行解码\n",
    "  4. 全连接层(``Linear``)：对解码完成的向量进行线性映射\n",
    "* 损失函数为交叉熵损失函数"
   ]
  },
  {
   "cell_type": "code",
   "execution_count": 3,
   "metadata": {
    "collapsed": false
   },
   "outputs": [],
   "source": [
    "# 继承paddle.nn.Layer类\n",
    "class Addition_Model(nn.Layer):\n",
    "    # 重写初始化函数\n",
    "    # 参数：字符表长度、嵌入层大小、隐藏层大小、解码器层数、处理数字的最大位数\n",
    "    def __init__(self, char_len=12, embedding_size=128, hidden_size=128, num_layers=1, DIGITS=2):\n",
    "        super(Addition_Model, self).__init__()\n",
    "        # 初始化变量\n",
    "        self.DIGITS = DIGITS\n",
    "        self.MAXLEN = DIGITS + 1 + DIGITS\n",
    "        self.hidden_size = hidden_size\n",
    "        self.char_len = char_len\n",
    "\n",
    "        # 嵌入层\n",
    "        self.emb = nn.Embedding(\n",
    "            char_len, \n",
    "            embedding_size\n",
    "        )\n",
    "        \n",
    "        # 编码器\n",
    "        self.encoder = nn.LSTM(\n",
    "            input_size=embedding_size,\n",
    "            hidden_size=hidden_size,\n",
    "            num_layers=1\n",
    "        )\n",
    "        \n",
    "        # 解码器\n",
    "        self.decoder = nn.LSTM(\n",
    "            input_size=hidden_size,\n",
    "            hidden_size=hidden_size,\n",
    "            num_layers=num_layers\n",
    "        )\n",
    "        \n",
    "        # 全连接层\n",
    "        self.fc = nn.Linear(\n",
    "            hidden_size, \n",
    "            char_len\n",
    "        )\n",
    "    \n",
    "    # 重写模型前向计算函数\n",
    "    # 参数：输入[None, MAXLEN]、标签[None, DIGITS + 1]\n",
    "    def forward(self, inputs, labels=None):\n",
    "        # 嵌入层\n",
    "        out = self.emb(inputs)\n",
    "\n",
    "        # 编码器\n",
    "        out, (_, _) = self.encoder(out)\n",
    "\n",
    "        # 按时间步切分编码器输出\n",
    "        out = paddle.split(out, self.MAXLEN, axis=1)\n",
    "\n",
    "        # 取最后一个时间步的输出并复制 DIGITS + 1 次\n",
    "        out = paddle.expand(out[-1], [out[-1].shape[0], self.DIGITS + 1, self.hidden_size])\n",
    "\n",
    "        # 解码器\n",
    "        out, (_, _) = self.decoder(out)\n",
    "\n",
    "        # 全连接\n",
    "        out = self.fc(out)\n",
    "\n",
    "        # 如果标签存在，则计算其损失和准确率\n",
    "        if labels is not None:\n",
    "            # 转置解码器输出\n",
    "            tmp = paddle.transpose(out, [0, 2, 1])\n",
    "\n",
    "            # 计算交叉熵损失\n",
    "            loss = nn.functional.cross_entropy(tmp, labels, axis=1)\n",
    "\n",
    "            # 计算准确率\n",
    "            acc = paddle.metric.accuracy(paddle.reshape(out, [-1, self.char_len]), paddle.reshape(labels, [-1, 1]))\n",
    "\n",
    "            # 返回损失和准确率\n",
    "            return loss, acc\n",
    "\n",
    "        # 返回输出\n",
    "        return out"
   ]
  },
  {
   "cell_type": "markdown",
   "metadata": {
    "collapsed": false
   },
   "source": [
    "## 四、模型训练与评估\n",
    "* 使用 ``Adam`` 作为优化器进行模型训练\n",
    "* 以模型准确率作为评价指标\n",
    "* 使用 ``VisualDL`` 对训练数据进行可视化\n",
    "* 训练过程中会同时进行模型评估和最佳模型的保存"
   ]
  },
  {
   "cell_type": "code",
   "execution_count": 4,
   "metadata": {
    "collapsed": false
   },
   "outputs": [
    {
     "name": "stdout",
     "output_type": "stream",
     "text": [
      "train epoch:0 step: 0 loss:2.487120 acc:0.093750\n",
      "eval epoch:0 step: 0 loss:2.487120 acc:0.093750\n",
      "saving the best_model...\n",
      "eval epoch:3 step: 500 loss:1.909393 acc:0.364583\n",
      "saving the best_model...\n",
      "eval epoch:6 step: 1000 loss:1.707455 acc:0.416667\n",
      "saving the best_model...\n",
      "eval epoch:9 step: 1500 loss:1.625502 acc:0.395833\n",
      "train epoch:12 step: 2000 loss:1.585965 acc:0.427083\n",
      "eval epoch:12 step: 2000 loss:1.585966 acc:0.427083\n",
      "saving the best_model...\n",
      "eval epoch:16 step: 2500 loss:1.568596 acc:0.375000\n",
      "eval epoch:19 step: 3000 loss:1.481644 acc:0.395833\n"
     ]
    }
   ],
   "source": [
    "# 初始化log写入器\n",
    "log_writer = LogWriter(logdir=\"./log\")\n",
    "\n",
    "# 模型参数设置\n",
    "embedding_size = 128\n",
    "hidden_size=128\n",
    "num_layers=1\n",
    "\n",
    "# 训练参数设置\n",
    "epoch_num = 50\n",
    "learning_rate = 0.001\n",
    "log_iter = 2000\n",
    "eval_iter = 500\n",
    "\n",
    "# 定义一些所需变量\n",
    "global_step = 0\n",
    "log_step = 0\n",
    "max_acc = 0\n",
    "\n",
    "# 实例化模型\n",
    "model = Addition_Model(\n",
    "    char_len=len(label_dict), \n",
    "    embedding_size=embedding_size, \n",
    "    hidden_size=hidden_size, \n",
    "    num_layers=num_layers, \n",
    "    DIGITS=DIGITS)\n",
    "\n",
    "# 将模型设置为训练模式\n",
    "model.train()\n",
    "\n",
    "# 设置优化器，学习率，并且把模型参数给优化器\n",
    "opt = paddle.optimizer.Adam(\n",
    "    learning_rate=learning_rate,\n",
    "    parameters=model.parameters()\n",
    ")\n",
    "\n",
    "# 启动训练，循环epoch_num个轮次\n",
    "for epoch in range(epoch_num):\n",
    "    # 遍历数据集读取数据\n",
    "    for batch_id, data in enumerate(train_reader()):\n",
    "        # 读取数据\n",
    "        inputs, labels = data\n",
    "\n",
    "        # 模型前向计算\n",
    "        loss, acc = model(inputs, labels=labels)\n",
    "\n",
    "        # 打印训练数据\n",
    "        if global_step%log_iter==0:\n",
    "            print('train epoch:%d step: %d loss:%f acc:%f' % (epoch, global_step, loss.numpy(), acc.numpy()))\n",
    "            log_writer.add_scalar(tag=\"train/loss\", step=log_step, value=loss.numpy())\n",
    "            log_writer.add_scalar(tag=\"train/acc\", step=log_step, value=acc.numpy())\n",
    "            log_step+=1\n",
    "\n",
    "        # 模型验证\n",
    "        if global_step%eval_iter==0:\n",
    "            model.eval()\n",
    "            losses = []\n",
    "            accs = []\n",
    "            for data in dev_reader():\n",
    "                loss, acc = model(inputs, labels=labels)\n",
    "                losses.append(loss.numpy())\n",
    "                accs.append(acc.numpy())\n",
    "            avg_loss = np.concatenate(losses).mean()\n",
    "            avg_acc = np.concatenate(accs).mean()\n",
    "            print('eval epoch:%d step: %d loss:%f acc:%f' % (epoch, global_step, avg_loss, avg_acc))\n",
    "            log_writer.add_scalar(tag=\"dev/loss\", step=log_step, value=avg_loss)\n",
    "            log_writer.add_scalar(tag=\"dev/acc\", step=log_step, value=avg_acc)\n",
    "\n",
    "            # 保存最佳模型\n",
    "            if avg_acc>max_acc:\n",
    "                max_acc = avg_acc\n",
    "                print('saving the best_model...')\n",
    "                paddle.save(model.state_dict(), 'best_model')\n",
    "            model.train()\n",
    "\n",
    "        # 反向传播\n",
    "        loss.backward()\n",
    "\n",
    "        # 使用优化器进行参数优化\n",
    "        opt.step()\n",
    "\n",
    "        # 清除梯度\n",
    "        opt.clear_grad()\n",
    "\n",
    "        # 全局步数加一\n",
    "        global_step += 1\n",
    "\n",
    "# 保存最终模型\n",
    "paddle.save(model.state_dict(),'final_model')"
   ]
  },
  {
   "cell_type": "markdown",
   "metadata": {
    "collapsed": false
   },
   "source": [
    "## 五、模型测试\n",
    "* 使用保存的最佳模型进行测试"
   ]
  },
  {
   "cell_type": "code",
   "execution_count": 5,
   "metadata": {
    "collapsed": false
   },
   "outputs": [
    {
     "name": "stdout",
     "output_type": "stream",
     "text": [
      "the model answer: 12+40=51 \n",
      "the true answer: 12+40=52\n"
     ]
    }
   ],
   "source": [
    "# 反转字符表\n",
    "label_dict_adv = {v: k for k, v in label_dict.items()}\n",
    "\n",
    "# 输入计算题目\n",
    "input_text = '12+40'\n",
    "\n",
    "# 编码输入为ID\n",
    "inputs = encoder(input_text, MAXLEN, label_dict)\n",
    "\n",
    "# 转换输入为向量形式\n",
    "inputs = np.array(inputs).reshape(-1, MAXLEN)\n",
    "inputs = paddle.to_tensor(inputs)\n",
    "\n",
    "# 加载模型\n",
    "params_dict= paddle.load('best_model')\n",
    "model.set_dict(params_dict)\n",
    "\n",
    "# 设置为评估模式\n",
    "model.eval()\n",
    "\n",
    "# 模型推理\n",
    "out = model(inputs)\n",
    "\n",
    "# 结果转换\n",
    "result = ''.join([label_dict_adv[_] for _ in np.argmax(out.numpy(), -1).reshape(-1)])\n",
    "\n",
    "# 打印结果\n",
    "print('the model answer: %s=%s' % (input_text, result))\n",
    "print('the true answer: %s=%s' % (input_text, eval(input_text)))"
   ]
  },
  {
   "cell_type": "markdown",
   "metadata": {
    "collapsed": false
   },
   "source": [
    "## 六、总结\n",
    "* 你还可以通过变换网络结构，调整数据集，尝试不同的参数的方式来进一步提升本示例当中的数字加法的效果\n",
    "* 同时，也可以尝试在其他的类似的任务中用飞桨来完成实际的实践"
   ]
  }
 ],
 "metadata": {
  "kernelspec": {
   "display_name": "PaddlePaddle 2.0.0b0 (Python 3.5)",
   "language": "python",
   "name": "py35-paddle1.2.0"
  },
  "language_info": {
   "codemirror_mode": {
    "name": "ipython",
    "version": 3
   },
   "file_extension": ".py",
   "mimetype": "text/x-python",
   "name": "python",
   "nbconvert_exporter": "python",
   "pygments_lexer": "ipython3",
   "version": "3.7.4"
  }
 },
 "nbformat": 4,
 "nbformat_minor": 1
}
