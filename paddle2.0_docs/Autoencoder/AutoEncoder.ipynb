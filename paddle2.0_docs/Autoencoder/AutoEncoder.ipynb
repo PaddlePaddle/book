{
 "cells": [
  {
   "cell_type": "markdown",
   "metadata": {
    "collapsed": false
   },
   "source": [
    "# 通过AutoEncoder实现时序数据异常检测\n",
    "\n",
    "\n",
    "本示例教程将会演示如何使用飞桨PaddlePaddle2.0来完成时序异常检测任务。这是一个较为简单的示例，将会搭建一个AutoEncoder网络完成任务。\n",
    "\n",
    "本教程基于paddle-2.0-beta编写，如果您的环境不是本版本，请先安装paddle-2.0-beta版本。\n"
   ]
  },
  {
   "cell_type": "markdown",
   "metadata": {
    "collapsed": false
   },
   "source": [
    "## 环境配置\n",
    "\n",
    "本教程基于paddle-2.0-beta编写，如果您的环境不是本版本，请先安装paddle-2.0-beta版本。"
   ]
  },
  {
   "cell_type": "code",
   "execution_count": null,
   "metadata": {
    "collapsed": false
   },
   "outputs": [
    {
     "name": "stdout",
     "output_type": "stream",
     "text": [
      "Looking in indexes: https://mirror.baidu.com/pypi/simple/\n",
      "Collecting paddlepaddle-gpu==2.0.0b0\n",
      "\u001b[?25l  Downloading https://mirror.baidu.com/pypi/packages/3f/6f/44c319b8c58e6dc0554f0758165b8e4b00e8a2397bc1cc60ca59b3ff8101/paddlepaddle_gpu-2.0.0b0-cp37-cp37m-manylinux1_x86_64.whl (468.2MB)\n",
      "\u001b[K     |████████████████████████████████| 468.2MB 5.4MB/s eta 0:00:013     |███████████                     | 160.4MB 8.3MB/s eta 0:00:38     |███████████▌                    | 169.0MB 9.6MB/s eta 0:00:32     |██████████████▉                 | 217.8MB 8.1MB/s eta 0:00:31\n",
      "\u001b[?25hRequirement already satisfied: pathlib in /opt/conda/envs/python35-paddle120-env/lib/python3.7/site-packages (from paddlepaddle-gpu==2.0.0b0) (1.0.1)\n",
      "Requirement already satisfied: prettytable in /opt/conda/envs/python35-paddle120-env/lib/python3.7/site-packages (from paddlepaddle-gpu==2.0.0b0) (0.7.2)\n",
      "Requirement already satisfied: decorator in /opt/conda/envs/python35-paddle120-env/lib/python3.7/site-packages (from paddlepaddle-gpu==2.0.0b0) (4.4.0)\n",
      "Requirement already satisfied: opencv-python<=4.2.0.32 in /opt/conda/envs/python35-paddle120-env/lib/python3.7/site-packages (from paddlepaddle-gpu==2.0.0b0) (4.1.1.26)\n",
      "Collecting netifaces (from paddlepaddle-gpu==2.0.0b0)\n",
      "  Downloading https://mirror.baidu.com/pypi/packages/0d/18/fd6e9c71a35b67a73160ec80a49da63d1eed2d2055054cc2995714949132/netifaces-0.10.9.tar.gz\n",
      "Requirement already satisfied: scipy; python_version > \"3.5\" in /opt/conda/envs/python35-paddle120-env/lib/python3.7/site-packages (from paddlepaddle-gpu==2.0.0b0) (1.3.0)\n",
      "Requirement already satisfied: six in /opt/conda/envs/python35-paddle120-env/lib/python3.7/site-packages (from paddlepaddle-gpu==2.0.0b0) (1.15.0)\n",
      "Requirement already satisfied: nltk; python_version >= \"3.5\" in /opt/conda/envs/python35-paddle120-env/lib/python3.7/site-packages (from paddlepaddle-gpu==2.0.0b0) (3.4.5)\n",
      "Requirement already satisfied: graphviz in /opt/conda/envs/python35-paddle120-env/lib/python3.7/site-packages (from paddlepaddle-gpu==2.0.0b0) (0.13)\n",
      "Requirement already satisfied: rarfile in /opt/conda/envs/python35-paddle120-env/lib/python3.7/site-packages (from paddlepaddle-gpu==2.0.0b0) (3.1)\n",
      "Requirement already satisfied: Pillow in /opt/conda/envs/python35-paddle120-env/lib/python3.7/site-packages (from paddlepaddle-gpu==2.0.0b0) (7.1.2)\n",
      "Requirement already satisfied: astor in /opt/conda/envs/python35-paddle120-env/lib/python3.7/site-packages (from paddlepaddle-gpu==2.0.0b0) (0.8.1)\n",
      "Requirement already satisfied: requests>=2.20.0 in /opt/conda/envs/python35-paddle120-env/lib/python3.7/site-packages (from paddlepaddle-gpu==2.0.0b0) (2.22.0)\n",
      "Requirement already satisfied: numpy>=1.13; python_version >= \"3.5\" in /opt/conda/envs/python35-paddle120-env/lib/python3.7/site-packages (from paddlepaddle-gpu==2.0.0b0) (1.16.4)\n",
      "Requirement already satisfied: protobuf>=3.1.0 in /opt/conda/envs/python35-paddle120-env/lib/python3.7/site-packages (from paddlepaddle-gpu==2.0.0b0) (3.12.2)\n",
      "Requirement already satisfied: objgraph in /opt/conda/envs/python35-paddle120-env/lib/python3.7/site-packages (from paddlepaddle-gpu==2.0.0b0) (3.4.1)\n",
      "Requirement already satisfied: gast==0.3.3 in /opt/conda/envs/python35-paddle120-env/lib/python3.7/site-packages (from paddlepaddle-gpu==2.0.0b0) (0.3.3)\n",
      "Requirement already satisfied: matplotlib<=3.2.1; python_version >= \"3.6\" in /opt/conda/envs/python35-paddle120-env/lib/python3.7/site-packages (from paddlepaddle-gpu==2.0.0b0) (2.2.3)\n",
      "Requirement already satisfied: certifi>=2017.4.17 in /opt/conda/envs/python35-paddle120-env/lib/python3.7/site-packages (from requests>=2.20.0->paddlepaddle-gpu==2.0.0b0) (2019.9.11)\n",
      "Requirement already satisfied: chardet<3.1.0,>=3.0.2 in /opt/conda/envs/python35-paddle120-env/lib/python3.7/site-packages (from requests>=2.20.0->paddlepaddle-gpu==2.0.0b0) (3.0.4)\n",
      "Requirement already satisfied: urllib3!=1.25.0,!=1.25.1,<1.26,>=1.21.1 in /opt/conda/envs/python35-paddle120-env/lib/python3.7/site-packages (from requests>=2.20.0->paddlepaddle-gpu==2.0.0b0) (1.25.6)\n",
      "Requirement already satisfied: idna<2.9,>=2.5 in /opt/conda/envs/python35-paddle120-env/lib/python3.7/site-packages (from requests>=2.20.0->paddlepaddle-gpu==2.0.0b0) (2.8)\n",
      "Requirement already satisfied: setuptools in /opt/conda/envs/python35-paddle120-env/lib/python3.7/site-packages (from protobuf>=3.1.0->paddlepaddle-gpu==2.0.0b0) (41.4.0)\n",
      "Requirement already satisfied: pytz in /opt/conda/envs/python35-paddle120-env/lib/python3.7/site-packages (from matplotlib<=3.2.1; python_version >= \"3.6\"->paddlepaddle-gpu==2.0.0b0) (2019.3)\n",
      "Requirement already satisfied: pyparsing!=2.0.4,!=2.1.2,!=2.1.6,>=2.0.1 in /opt/conda/envs/python35-paddle120-env/lib/python3.7/site-packages (from matplotlib<=3.2.1; python_version >= \"3.6\"->paddlepaddle-gpu==2.0.0b0) (2.4.2)\n",
      "Requirement already satisfied: cycler>=0.10 in /opt/conda/envs/python35-paddle120-env/lib/python3.7/site-packages (from matplotlib<=3.2.1; python_version >= \"3.6\"->paddlepaddle-gpu==2.0.0b0) (0.10.0)\n",
      "Requirement already satisfied: kiwisolver>=1.0.1 in /opt/conda/envs/python35-paddle120-env/lib/python3.7/site-packages (from matplotlib<=3.2.1; python_version >= \"3.6\"->paddlepaddle-gpu==2.0.0b0) (1.1.0)\n",
      "Requirement already satisfied: python-dateutil>=2.1 in /opt/conda/envs/python35-paddle120-env/lib/python3.7/site-packages (from matplotlib<=3.2.1; python_version >= \"3.6\"->paddlepaddle-gpu==2.0.0b0) (2.8.0)\n",
      "Building wheels for collected packages: netifaces\n",
      "  Building wheel for netifaces (setup.py) ... \u001b[?25ldone\n",
      "\u001b[?25h  Created wheel for netifaces: filename=netifaces-0.10.9-cp37-cp37m-linux_x86_64.whl size=37349 sha256=5c8cd5d5eebba1bc1fca4395bd86f8b51fc4fb0f9f257901d740f978e15a4f90\n",
      "  Stored in directory: /home/aistudio/.cache/pip/wheels/17/d5/84/2869e3e8344a6e634741ead2534e1c118cd2ebd7af39355423\n",
      "Successfully built netifaces\n",
      "Installing collected packages: netifaces, paddlepaddle-gpu\n",
      "  Found existing installation: paddlepaddle-gpu 1.8.4.post97\n",
      "    Uninstalling paddlepaddle-gpu-1.8.4.post97:\n",
      "      Successfully uninstalled paddlepaddle-gpu-1.8.4.post97\n",
      "Successfully installed netifaces-0.10.9 paddlepaddle-gpu-2.0.0b0\n"
     ]
    }
   ],
   "source": [
    "#安装Paddle-2.0-beta版本\r\n",
    "!pip install paddlepaddle-gpu==2.0.0b0"
   ]
  },
  {
   "cell_type": "code",
   "execution_count": 1,
   "metadata": {
    "collapsed": false
   },
   "outputs": [],
   "source": [
    "#导入模块\r\n",
    "import numpy as np\r\n",
    "import pandas as pd\r\n",
    "from matplotlib import pyplot as plt"
   ]
  },
  {
   "cell_type": "code",
   "execution_count": 2,
   "metadata": {
    "collapsed": false
   },
   "outputs": [
    {
     "name": "stdout",
     "output_type": "stream",
     "text": [
      "2.0.0-beta0\n"
     ]
    }
   ],
   "source": [
    "import paddle\r\n",
    "import paddle.nn.functional as F\r\n",
    "print(paddle.__version__)\r\n",
    "\r\n",
    "# 启动动态图训练模式\r\n",
    "paddle.disable_static()"
   ]
  },
  {
   "cell_type": "markdown",
   "metadata": {
    "collapsed": false
   },
   "source": [
    "## 加载数据集\n",
    "\n",
    "* 我们将使用纽伦塔异常基准(NAB)数据集。它提供人工时间序列数据，包含标记的异常行为周期。\n",
    "\n",
    "* 我们将使用art_daily_small_noise.csv文件内数据进行训练，并使用art_day_jumpup.csv文件内数据进行测试。\n",
    "\n",
    "* 该数据集的简单性使我们能够有效地演示异常检测。"
   ]
  },
  {
   "cell_type": "code",
   "execution_count": null,
   "metadata": {
    "collapsed": true
   },
   "outputs": [
    {
     "name": "stdout",
     "output_type": "stream",
     "text": [
      "/home/aistudio\n",
      "Archive:  data/data55385/artificialNoAnomaly.zip\n",
      "  inflating: artificialNoAnomaly/art_daily_no_noise.csv  \n",
      "  inflating: artificialNoAnomaly/art_daily_perfect_square_wave.csv  \n",
      "  inflating: artificialNoAnomaly/art_daily_small_noise.csv  \n",
      "  inflating: artificialNoAnomaly/art_flatline.csv  \n",
      "  inflating: artificialNoAnomaly/art_noisy.csv  \n",
      "Archive:  data/data55385/artificialWithAnomaly.zip\n",
      "  inflating: artificialWithAnomaly/art_daily_flatmiddle.csv  \n",
      "  inflating: artificialWithAnomaly/art_daily_jumpsdown.csv  \n",
      "  inflating: artificialWithAnomaly/art_daily_jumpsup.csv  \n",
      "  inflating: artificialWithAnomaly/art_daily_nojump.csv  \n",
      "  inflating: artificialWithAnomaly/art_increase_spike_density.csv  \n",
      "  inflating: artificialWithAnomaly/art_load_balancer_spikes.csv  \n"
     ]
    }
   ],
   "source": [
    "#解压数据集\r\n",
    "%cd ~/\r\n",
    "\r\n",
    "!unzip data/data55385/artificialNoAnomaly.zip && unzip data/data55385/artificialWithAnomaly.zip"
   ]
  },
  {
   "cell_type": "code",
   "execution_count": 3,
   "metadata": {
    "collapsed": false
   },
   "outputs": [
    {
     "name": "stdout",
     "output_type": "stream",
     "text": [
      "                         value\n",
      "timestamp                     \n",
      "2014-04-01 00:00:00  18.324919\n",
      "2014-04-01 00:05:00  21.970327\n",
      "2014-04-01 00:10:00  18.624806\n",
      "2014-04-01 00:15:00  21.953684\n",
      "2014-04-01 00:20:00  21.909120\n",
      "                         value\n",
      "timestamp                     \n",
      "2014-04-01 00:00:00  19.761252\n",
      "2014-04-01 00:05:00  20.500833\n",
      "2014-04-01 00:10:00  19.961641\n",
      "2014-04-01 00:15:00  21.490266\n",
      "2014-04-01 00:20:00  20.187739\n"
     ]
    }
   ],
   "source": [
    "#正常数据预览\r\n",
    "df_small_noise_path = 'artificialNoAnomaly/art_daily_small_noise.csv'\r\n",
    "df_small_noise = pd.read_csv(\r\n",
    "    df_small_noise_path, parse_dates=True, index_col=\"timestamp\"\r\n",
    ")\r\n",
    "\r\n",
    "#异常数据预览\r\n",
    "df_daily_jumpsup_path = 'artificialWithAnomaly/art_daily_jumpsup.csv'\r\n",
    "df_daily_jumpsup = pd.read_csv(\r\n",
    "    df_daily_jumpsup_path, parse_dates=True, index_col=\"timestamp\"\r\n",
    ")\r\n",
    "print(df_small_noise.head())\r\n",
    "\r\n",
    "print(df_daily_jumpsup.head())"
   ]
  },
  {
   "cell_type": "markdown",
   "metadata": {
    "collapsed": false
   },
   "source": [
    "##  数据可视化"
   ]
  },
  {
   "cell_type": "code",
   "execution_count": 4,
   "metadata": {
    "collapsed": false
   },
   "outputs": [
    {
     "name": "stderr",
     "output_type": "stream",
     "text": [
      "/opt/conda/envs/python35-paddle120-env/lib/python3.7/site-packages/matplotlib/cbook/__init__.py:2349: DeprecationWarning: Using or importing the ABCs from 'collections' instead of from 'collections.abc' is deprecated, and in 3.8 it will stop working\n",
      "  if isinstance(obj, collections.Iterator):\n",
      "/opt/conda/envs/python35-paddle120-env/lib/python3.7/site-packages/matplotlib/cbook/__init__.py:2366: DeprecationWarning: Using or importing the ABCs from 'collections' instead of from 'collections.abc' is deprecated, and in 3.8 it will stop working\n",
      "  return list(data) if isinstance(data, collections.MappingView) else data\n"
     ]
    },
    {
     "data": {
      "image/png": "[encoded data removed]",
      "text/plain": [
       "<Figure size 432x288 with 1 Axes>"
      ]
     },
     "metadata": {},
     "output_type": "display_data"
    }
   ],
   "source": [
    "#正常的时序数据可视化\r\n",
    "fig, ax = plt.subplots()\r\n",
    "df_small_noise.plot(legend=False, ax=ax)\r\n",
    "plt.show()\r\n"
   ]
  },
  {
   "cell_type": "markdown",
   "metadata": {
    "collapsed": false
   },
   "source": [
    "带有异常的时序数据如下：\n",
    "我们将使用以下数据进行测试，并查看数据中的突然跳升是否被检测为异常。"
   ]
  },
  {
   "cell_type": "code",
   "execution_count": 5,
   "metadata": {
    "collapsed": false
   },
   "outputs": [
    {
     "data": {
      "image/png": "[encoded data removed]",
      "text/plain": [
       "<Figure size 432x288 with 1 Axes>"
      ]
     },
     "metadata": {},
     "output_type": "display_data"
    }
   ],
   "source": [
    "#异常的时序数据可视化\r\n",
    "fig, ax = plt.subplots()\r\n",
    "df_daily_jumpsup.plot(legend=False, ax=ax)\r\n",
    "plt.show()"
   ]
  },
  {
   "cell_type": "markdown",
   "metadata": {
    "collapsed": false
   },
   "source": [
    "# 训练数据预处理\n",
    "\n",
    "* 我们的训练数据包含了14天的采样，每天每隔5分钟采集一次数据，所以：\n",
    "* 每天包含 24 * 60 / 5 = 288 个timestep \n",
    "* 总共14天 288 * 14 = 4032 个数据\n",
    "\n"
   ]
  },
  {
   "cell_type": "code",
   "execution_count": 6,
   "metadata": {
    "collapsed": false
   },
   "outputs": [
    {
     "name": "stdout",
     "output_type": "stream",
     "text": [
      "训练数据总量: 4032\n"
     ]
    }
   ],
   "source": [
    "#初始化并保存我们得到的均值和方差，用于初始化数据。\r\n",
    "training_mean = df_small_noise.mean()\r\n",
    "training_std = df_small_noise.std()\r\n",
    "df_training_value = (df_small_noise - training_mean) / training_std\r\n",
    "print(\"训练数据总量:\", len(df_training_value))"
   ]
  },
  {
   "cell_type": "markdown",
   "metadata": {
    "collapsed": false
   },
   "source": [
    "# 创建序列\n",
    "\n",
    "从训练数据中创建组合时间步骤为288的连续数据值的序列。\n"
   ]
  },
  {
   "cell_type": "code",
   "execution_count": 7,
   "metadata": {
    "collapsed": false
   },
   "outputs": [],
   "source": [
    "#时序步长\r\n",
    "TIME_STEPS = 288    \r\n",
    "\r\n",
    "class MyDataset(paddle.io.Dataset):\r\n",
    "    \"\"\"\r\n",
    "    步骤一：继承paddle.io.Dataset类\r\n",
    "    \"\"\"\r\n",
    "    def __init__(self,data,time_steps):\r\n",
    "        \"\"\"\r\n",
    "        步骤二：实现构造函数，定义数据读取方式，划分训练和测试数据集\r\n",
    "        注意：我们这个是不需要label的哦\r\n",
    "        \"\"\"\r\n",
    "        super(MyDataset, self).__init__()\r\n",
    "        self.time_steps = time_steps\r\n",
    "        self.data = paddle.to_tensor(self.transform(data),dtype='float32')\r\n",
    "\r\n",
    "    def transform(self,data):\r\n",
    "        '''\r\n",
    "        构造时序数据\r\n",
    "        '''\r\n",
    "        output = []\r\n",
    "        for i in range(len(data) - self.time_steps):\r\n",
    "            output.append(np.reshape(data[i : (i + self.time_steps)],(1,self.time_steps)))\r\n",
    "        return np.stack(output)\r\n",
    "\r\n",
    "    def __getitem__(self, index):\r\n",
    "        \"\"\"\r\n",
    "        步骤三：实现__getitem__方法，定义指定index时如何获取数据，并返回单条数据（训练数据）\r\n",
    "        \"\"\"\r\n",
    "        data = self.data[index]\r\n",
    "        label = self.data[index]\r\n",
    "        return data,label\r\n",
    "\r\n",
    "    def __len__(self):\r\n",
    "        \"\"\"\r\n",
    "        步骤四：实现__len__方法，返回数据集总数目\r\n",
    "        \"\"\"\r\n",
    "        return len(self.data)\r\n",
    "\r\n",
    "# 实例化数据集\r\n",
    "train_dataset = MyDataset(df_training_value.values,TIME_STEPS)\r\n"
   ]
  },
  {
   "cell_type": "markdown",
   "metadata": {
    "collapsed": false
   },
   "source": [
    "## 模型组网\n",
    "\n",
    "用paddle.nn下的API，Layer,Conv1d、rlue完成网络的搭建。"
   ]
  },
  {
   "cell_type": "code",
   "execution_count": 9,
   "metadata": {
    "collapsed": false
   },
   "outputs": [],
   "source": [
    "\r\n",
    "class AutoEncoder(paddle.nn.Layer):\r\n",
    "    def __init__(self):\r\n",
    "        super(AutoEncoder, self).__init__()\r\n",
    "        self.conv0 = paddle.nn.Conv1d(in_channels=1,out_channels=32,kernel_size=7,stride=2)\r\n",
    "        self.conv1 = paddle.nn.Conv1d(in_channels=32,out_channels=16,kernel_size=7,stride=2)\r\n",
    "        self.convT0 = paddle.nn.ConvTranspose1d(in_channels=16,out_channels=32,kernel_size=7,stride=2)\r\n",
    "        self.convT1 = paddle.nn.ConvTranspose1d(in_channels=32,out_channels=1,kernel_size=7,stride=2)\r\n",
    "\r\n",
    "    def forward(self, x):\r\n",
    "        x = self.conv0(x)\r\n",
    "        x = F.relu(x)\r\n",
    "        x = F.dropout(x,0.2)\r\n",
    "        x = self.conv1(x)\r\n",
    "        x = F.relu(x)\r\n",
    "        x = self.convT0(x)\r\n",
    "        x = F.relu(x)\r\n",
    "        x = F.dropout(x,0.2)\r\n",
    "        x = self.convT1(x)\r\n",
    "        return x"
   ]
  },
  {
   "cell_type": "markdown",
   "metadata": {
    "collapsed": false
   },
   "source": [
    "## 模型训练\n",
    "\n",
    "接下来，我们用一个循环来进行模型的训练，我们将会：\n",
    "\n",
    "- 使用paddle.optimizer.Adam优化器来进行优化。\n",
    "\n",
    "- 使用paddle.nn.loss.MSELoss来计算损失值。 \n",
    "\n",
    "- 使用paddle.io.DataLoader来加载数据并组建batch。\n"
   ]
  },
  {
   "cell_type": "code",
   "execution_count": 10,
   "metadata": {
    "collapsed": false
   },
   "outputs": [
    {
     "name": "stdout",
     "output_type": "stream",
     "text": [
      "训练开始\n",
      "epoch: 0, batch_id: 0, loss is: [1.0041192]\n",
      "epoch: 1, batch_id: 0, loss is: [0.14454477]\n",
      "epoch: 2, batch_id: 0, loss is: [0.09857777]\n",
      "epoch: 3, batch_id: 0, loss is: [0.08679288]\n",
      "epoch: 4, batch_id: 0, loss is: [0.08009232]\n",
      "epoch: 5, batch_id: 0, loss is: [0.07222185]\n",
      "epoch: 6, batch_id: 0, loss is: [0.06600908]\n",
      "epoch: 7, batch_id: 0, loss is: [0.06039692]\n",
      "epoch: 8, batch_id: 0, loss is: [0.05287679]\n",
      "epoch: 9, batch_id: 0, loss is: [0.0468189]\n",
      "epoch: 10, batch_id: 0, loss is: [0.04166677]\n",
      "epoch: 11, batch_id: 0, loss is: [0.03735146]\n",
      "epoch: 12, batch_id: 0, loss is: [0.03495374]\n",
      "epoch: 13, batch_id: 0, loss is: [0.03352676]\n",
      "epoch: 14, batch_id: 0, loss is: [0.03175257]\n",
      "epoch: 15, batch_id: 0, loss is: [0.03109691]\n",
      "epoch: 16, batch_id: 0, loss is: [0.02850873]\n",
      "epoch: 17, batch_id: 0, loss is: [0.02944668]\n",
      "epoch: 18, batch_id: 0, loss is: [0.02778028]\n",
      "epoch: 19, batch_id: 0, loss is: [0.02723593]\n",
      "epoch: 20, batch_id: 0, loss is: [0.02562439]\n",
      "epoch: 21, batch_id: 0, loss is: [0.02540114]\n",
      "epoch: 22, batch_id: 0, loss is: [0.02467411]\n",
      "epoch: 23, batch_id: 0, loss is: [0.02593729]\n",
      "epoch: 24, batch_id: 0, loss is: [0.02308306]\n",
      "epoch: 25, batch_id: 0, loss is: [0.02403069]\n",
      "epoch: 26, batch_id: 0, loss is: [0.02217276]\n",
      "epoch: 27, batch_id: 0, loss is: [0.02174085]\n",
      "epoch: 28, batch_id: 0, loss is: [0.02161692]\n",
      "epoch: 29, batch_id: 0, loss is: [0.02089962]\n",
      "epoch: 30, batch_id: 0, loss is: [0.02052809]\n",
      "epoch: 31, batch_id: 0, loss is: [0.02053514]\n",
      "epoch: 32, batch_id: 0, loss is: [0.02027709]\n",
      "epoch: 33, batch_id: 0, loss is: [0.01972745]\n",
      "epoch: 34, batch_id: 0, loss is: [0.01866747]\n",
      "epoch: 35, batch_id: 0, loss is: [0.01884838]\n",
      "epoch: 36, batch_id: 0, loss is: [0.01844703]\n",
      "epoch: 37, batch_id: 0, loss is: [0.01768045]\n",
      "epoch: 38, batch_id: 0, loss is: [0.01825733]\n",
      "epoch: 39, batch_id: 0, loss is: [0.01776503]\n",
      "epoch: 40, batch_id: 0, loss is: [0.01761579]\n",
      "epoch: 41, batch_id: 0, loss is: [0.01720133]\n",
      "epoch: 42, batch_id: 0, loss is: [0.01691272]\n",
      "epoch: 43, batch_id: 0, loss is: [0.01708007]\n",
      "epoch: 44, batch_id: 0, loss is: [0.01722029]\n",
      "epoch: 45, batch_id: 0, loss is: [0.01670012]\n",
      "epoch: 46, batch_id: 0, loss is: [0.01612698]\n",
      "epoch: 47, batch_id: 0, loss is: [0.01686302]\n",
      "epoch: 48, batch_id: 0, loss is: [0.01582723]\n",
      "epoch: 49, batch_id: 0, loss is: [0.01628025]\n",
      "epoch: 50, batch_id: 0, loss is: [0.01595296]\n",
      "epoch: 51, batch_id: 0, loss is: [0.01577804]\n",
      "epoch: 52, batch_id: 0, loss is: [0.01537002]\n",
      "epoch: 53, batch_id: 0, loss is: [0.01565612]\n",
      "epoch: 54, batch_id: 0, loss is: [0.01526362]\n",
      "epoch: 55, batch_id: 0, loss is: [0.01584673]\n",
      "epoch: 56, batch_id: 0, loss is: [0.01543313]\n",
      "epoch: 57, batch_id: 0, loss is: [0.01499606]\n",
      "epoch: 58, batch_id: 0, loss is: [0.01597753]\n",
      "epoch: 59, batch_id: 0, loss is: [0.01541673]\n",
      "epoch: 60, batch_id: 0, loss is: [0.01459638]\n",
      "epoch: 61, batch_id: 0, loss is: [0.01436847]\n",
      "epoch: 62, batch_id: 0, loss is: [0.01440529]\n",
      "epoch: 63, batch_id: 0, loss is: [0.01463114]\n",
      "epoch: 64, batch_id: 0, loss is: [0.0144389]\n",
      "epoch: 65, batch_id: 0, loss is: [0.01518258]\n",
      "epoch: 66, batch_id: 0, loss is: [0.01439339]\n",
      "epoch: 67, batch_id: 0, loss is: [0.01465884]\n",
      "epoch: 68, batch_id: 0, loss is: [0.01446106]\n",
      "epoch: 69, batch_id: 0, loss is: [0.01442697]\n",
      "epoch: 70, batch_id: 0, loss is: [0.01420761]\n",
      "epoch: 71, batch_id: 0, loss is: [0.0137174]\n",
      "epoch: 72, batch_id: 0, loss is: [0.01448089]\n",
      "epoch: 73, batch_id: 0, loss is: [0.01384692]\n",
      "epoch: 74, batch_id: 0, loss is: [0.01458884]\n",
      "epoch: 75, batch_id: 0, loss is: [0.01418904]\n",
      "epoch: 76, batch_id: 0, loss is: [0.01412669]\n",
      "epoch: 77, batch_id: 0, loss is: [0.01350234]\n",
      "epoch: 78, batch_id: 0, loss is: [0.01304791]\n",
      "epoch: 79, batch_id: 0, loss is: [0.0129597]\n",
      "epoch: 80, batch_id: 0, loss is: [0.01359003]\n",
      "epoch: 81, batch_id: 0, loss is: [0.01369251]\n",
      "epoch: 82, batch_id: 0, loss is: [0.01313888]\n",
      "epoch: 83, batch_id: 0, loss is: [0.0128521]\n",
      "epoch: 84, batch_id: 0, loss is: [0.01352264]\n",
      "epoch: 85, batch_id: 0, loss is: [0.01287329]\n",
      "epoch: 86, batch_id: 0, loss is: [0.01348935]\n",
      "epoch: 87, batch_id: 0, loss is: [0.01306273]\n",
      "epoch: 88, batch_id: 0, loss is: [0.01346688]\n",
      "epoch: 89, batch_id: 0, loss is: [0.01274729]\n",
      "epoch: 90, batch_id: 0, loss is: [0.01285202]\n",
      "epoch: 91, batch_id: 0, loss is: [0.01304135]\n",
      "epoch: 92, batch_id: 0, loss is: [0.01267524]\n",
      "epoch: 93, batch_id: 0, loss is: [0.01251571]\n",
      "epoch: 94, batch_id: 0, loss is: [0.01361017]\n",
      "epoch: 95, batch_id: 0, loss is: [0.01309369]\n",
      "epoch: 96, batch_id: 0, loss is: [0.0131212]\n",
      "epoch: 97, batch_id: 0, loss is: [0.01293887]\n",
      "epoch: 98, batch_id: 0, loss is: [0.01286922]\n",
      "epoch: 99, batch_id: 0, loss is: [0.01227918]\n",
      "epoch: 100, batch_id: 0, loss is: [0.01308968]\n",
      "epoch: 101, batch_id: 0, loss is: [0.01284459]\n",
      "epoch: 102, batch_id: 0, loss is: [0.01297272]\n",
      "epoch: 103, batch_id: 0, loss is: [0.01310227]\n",
      "epoch: 104, batch_id: 0, loss is: [0.01248398]\n",
      "epoch: 105, batch_id: 0, loss is: [0.01286196]\n",
      "epoch: 106, batch_id: 0, loss is: [0.01256075]\n",
      "epoch: 107, batch_id: 0, loss is: [0.01267763]\n",
      "epoch: 108, batch_id: 0, loss is: [0.01240045]\n",
      "epoch: 109, batch_id: 0, loss is: [0.01242214]\n",
      "epoch: 110, batch_id: 0, loss is: [0.01212119]\n",
      "epoch: 111, batch_id: 0, loss is: [0.0122404]\n",
      "epoch: 112, batch_id: 0, loss is: [0.01190318]\n",
      "epoch: 113, batch_id: 0, loss is: [0.01257281]\n",
      "epoch: 114, batch_id: 0, loss is: [0.01244479]\n",
      "epoch: 115, batch_id: 0, loss is: [0.01217707]\n",
      "epoch: 116, batch_id: 0, loss is: [0.01189713]\n",
      "epoch: 117, batch_id: 0, loss is: [0.01176802]\n",
      "epoch: 118, batch_id: 0, loss is: [0.01219058]\n",
      "epoch: 119, batch_id: 0, loss is: [0.01289989]\n",
      "epoch: 120, batch_id: 0, loss is: [0.01198486]\n",
      "epoch: 121, batch_id: 0, loss is: [0.0124429]\n",
      "epoch: 122, batch_id: 0, loss is: [0.0118198]\n",
      "epoch: 123, batch_id: 0, loss is: [0.01200095]\n",
      "epoch: 124, batch_id: 0, loss is: [0.01201448]\n",
      "epoch: 125, batch_id: 0, loss is: [0.01167195]\n",
      "epoch: 126, batch_id: 0, loss is: [0.01198011]\n",
      "epoch: 127, batch_id: 0, loss is: [0.01174358]\n",
      "epoch: 128, batch_id: 0, loss is: [0.0118102]\n",
      "epoch: 129, batch_id: 0, loss is: [0.01161708]\n",
      "epoch: 130, batch_id: 0, loss is: [0.01190808]\n",
      "epoch: 131, batch_id: 0, loss is: [0.01163469]\n",
      "epoch: 132, batch_id: 0, loss is: [0.01164234]\n",
      "epoch: 133, batch_id: 0, loss is: [0.01181825]\n",
      "epoch: 134, batch_id: 0, loss is: [0.01190613]\n",
      "epoch: 135, batch_id: 0, loss is: [0.01152929]\n",
      "epoch: 136, batch_id: 0, loss is: [0.01180329]\n",
      "epoch: 137, batch_id: 0, loss is: [0.01173824]\n",
      "epoch: 138, batch_id: 0, loss is: [0.01241041]\n",
      "epoch: 139, batch_id: 0, loss is: [0.01151974]\n",
      "epoch: 140, batch_id: 0, loss is: [0.01158073]\n",
      "epoch: 141, batch_id: 0, loss is: [0.01169655]\n",
      "epoch: 142, batch_id: 0, loss is: [0.01146815]\n",
      "epoch: 143, batch_id: 0, loss is: [0.01172624]\n",
      "epoch: 144, batch_id: 0, loss is: [0.01195099]\n",
      "epoch: 145, batch_id: 0, loss is: [0.01176361]\n",
      "epoch: 146, batch_id: 0, loss is: [0.01200034]\n",
      "epoch: 147, batch_id: 0, loss is: [0.01186024]\n",
      "epoch: 148, batch_id: 0, loss is: [0.01175188]\n",
      "epoch: 149, batch_id: 0, loss is: [0.01169848]\n",
      "epoch: 150, batch_id: 0, loss is: [0.0111881]\n",
      "epoch: 151, batch_id: 0, loss is: [0.01162768]\n",
      "epoch: 152, batch_id: 0, loss is: [0.01139329]\n",
      "epoch: 153, batch_id: 0, loss is: [0.01146806]\n",
      "epoch: 154, batch_id: 0, loss is: [0.01131687]\n",
      "epoch: 155, batch_id: 0, loss is: [0.01187357]\n",
      "epoch: 156, batch_id: 0, loss is: [0.01185427]\n",
      "epoch: 157, batch_id: 0, loss is: [0.01160784]\n",
      "epoch: 158, batch_id: 0, loss is: [0.01152873]\n",
      "epoch: 159, batch_id: 0, loss is: [0.01142893]\n",
      "epoch: 160, batch_id: 0, loss is: [0.01191422]\n",
      "epoch: 161, batch_id: 0, loss is: [0.01136816]\n",
      "epoch: 162, batch_id: 0, loss is: [0.0112917]\n",
      "epoch: 163, batch_id: 0, loss is: [0.01180723]\n",
      "epoch: 164, batch_id: 0, loss is: [0.01139096]\n",
      "epoch: 165, batch_id: 0, loss is: [0.01144209]\n",
      "epoch: 166, batch_id: 0, loss is: [0.01120612]\n",
      "epoch: 167, batch_id: 0, loss is: [0.01166969]\n",
      "epoch: 168, batch_id: 0, loss is: [0.01132651]\n",
      "epoch: 169, batch_id: 0, loss is: [0.01174226]\n",
      "epoch: 170, batch_id: 0, loss is: [0.01120638]\n",
      "epoch: 171, batch_id: 0, loss is: [0.01114976]\n",
      "epoch: 172, batch_id: 0, loss is: [0.01150599]\n",
      "epoch: 173, batch_id: 0, loss is: [0.01142158]\n",
      "epoch: 174, batch_id: 0, loss is: [0.01127735]\n",
      "epoch: 175, batch_id: 0, loss is: [0.01087762]\n",
      "epoch: 176, batch_id: 0, loss is: [0.01175001]\n",
      "epoch: 177, batch_id: 0, loss is: [0.01109285]\n",
      "epoch: 178, batch_id: 0, loss is: [0.0111908]\n",
      "epoch: 179, batch_id: 0, loss is: [0.01102546]\n",
      "epoch: 180, batch_id: 0, loss is: [0.01166762]\n",
      "epoch: 181, batch_id: 0, loss is: [0.01119645]\n",
      "epoch: 182, batch_id: 0, loss is: [0.01111271]\n",
      "epoch: 183, batch_id: 0, loss is: [0.01109899]\n",
      "epoch: 184, batch_id: 0, loss is: [0.0115993]\n",
      "epoch: 185, batch_id: 0, loss is: [0.0110541]\n",
      "epoch: 186, batch_id: 0, loss is: [0.01165032]\n",
      "epoch: 187, batch_id: 0, loss is: [0.01097002]\n",
      "epoch: 188, batch_id: 0, loss is: [0.01124293]\n",
      "epoch: 189, batch_id: 0, loss is: [0.01139372]\n",
      "epoch: 190, batch_id: 0, loss is: [0.01094266]\n",
      "epoch: 191, batch_id: 0, loss is: [0.01142481]\n",
      "epoch: 192, batch_id: 0, loss is: [0.01076235]\n",
      "epoch: 193, batch_id: 0, loss is: [0.01175278]\n",
      "epoch: 194, batch_id: 0, loss is: [0.01096319]\n",
      "epoch: 195, batch_id: 0, loss is: [0.01099455]\n",
      "epoch: 196, batch_id: 0, loss is: [0.01121566]\n",
      "epoch: 197, batch_id: 0, loss is: [0.01123894]\n",
      "epoch: 198, batch_id: 0, loss is: [0.0112406]\n",
      "epoch: 199, batch_id: 0, loss is: [0.011394]\n"
     ]
    },
    {
     "data": {
      "image/png": "[encoded data removed]",
      "text/plain": [
       "<Figure size 432x288 with 1 Axes>"
      ]
     },
     "metadata": {},
     "output_type": "display_data"
    }
   ],
   "source": [
    "#参数设置\r\n",
    "epoch_num = 200\r\n",
    "batch_size = 128\r\n",
    "learning_rate = 0.001\r\n",
    "\r\n",
    "def train():\r\n",
    "    print('训练开始')\r\n",
    "    #实例化模型\r\n",
    "    model = AutoEncoder()\r\n",
    "    #将模型转换为训练模式\r\n",
    "    model.train()\r\n",
    "    #设置优化器，学习率，并且把模型参数给优化器\r\n",
    "    opt = paddle.optimizer.Adam(learning_rate=learning_rate,parameters=model.parameters())\r\n",
    "    #设置损失函数\r\n",
    "    mse_loss = paddle.nn.loss.MSELoss()\r\n",
    "    #设置数据读取器\r\n",
    "    data_reader = paddle.io.DataLoader(train_dataset,\r\n",
    "                        places=[paddle.CPUPlace()],\r\n",
    "                        batch_size=batch_size,\r\n",
    "                        shuffle=True,\r\n",
    "                        drop_last=True,\r\n",
    "                        num_workers=0)\r\n",
    "    history_loss = []\r\n",
    "    iter_epoch = []\r\n",
    "    for epoch in range(epoch_num):\r\n",
    "            for batch_id, data in enumerate(data_reader()):             \r\n",
    "                x = data[0]\r\n",
    "                y = data[1]\r\n",
    "                out = model(x)\r\n",
    "                avg_loss = mse_loss(out,(y[:,:,:-1]))   #输输入的数据进过卷积会丢掉最后一个数据所以只剩287\r\n",
    "                if batch_id % 1000 == 0:\r\n",
    "                    print(\"epoch: {}, batch_id: {}, loss is: {}\".format(epoch, batch_id, avg_loss.numpy()))\r\n",
    "                avg_loss.backward()\r\n",
    "                opt.step()\r\n",
    "                opt.clear_grad()\r\n",
    "            iter_epoch.append(epoch)\r\n",
    "            history_loss.append(avg_loss.numpy()[0])\r\n",
    "    #绘制loss\r\n",
    "    plt.plot(iter_epoch,history_loss, label = 'loss')\r\n",
    "    plt.legend()\r\n",
    "    plt.xlabel('iters')\r\n",
    "    plt.ylabel('Loss')\r\n",
    "    plt.show()\r\n",
    "    #保存模型参数\r\n",
    "    paddle.fluid.dygraph.save_dygraph(model.state_dict(),'model')\r\n",
    "\r\n",
    "train()"
   ]
  },
  {
   "cell_type": "markdown",
   "metadata": {
    "collapsed": false
   },
   "source": [
    "## 探测异常时序\n",
    "\n",
    "我们将用我们训练好的模型探测异常时序：\n",
    "\n",
    "1. 使用自编码器计算出无异常时序数据集里的所有重建损失\n",
    "\n",
    "2. 找出最大重建损失并且以这个为阀值，模型重建损失超出这个值则输入的数据为异常时序 \n",
    "\n"
   ]
  },
  {
   "cell_type": "code",
   "execution_count": 27,
   "metadata": {
    "collapsed": false
   },
   "outputs": [
    {
     "data": {
      "image/png": "[encoded data removed]",
      "text/plain": [
       "<Figure size 432x288 with 1 Axes>"
      ]
     },
     "metadata": {},
     "output_type": "display_data"
    },
    {
     "name": "stdout",
     "output_type": "stream",
     "text": [
      "阀值: 0.03291812\n"
     ]
    }
   ],
   "source": [
    "#计算阀值\r\n",
    "\r\n",
    "param_dict,_ = paddle.fluid.load_dygraph('model.pdparams')   #读取保存的参数\r\n",
    "model = AutoEncoder()    \r\n",
    "model.load_dict(param_dict)    #加载参数\r\n",
    "model.eval()   #预测\r\n",
    "total_loss = []\r\n",
    "datas = []\r\n",
    "#预测所有正常时序\r\n",
    "mse_loss = paddle.nn.loss.MSELoss()\r\n",
    "#这里设置batch_size为1，单独求得每个数据的loss\r\n",
    "data_reader = paddle.io.DataLoader(train_dataset,\r\n",
    "                        places=[paddle.CPUPlace()],\r\n",
    "                        batch_size=1,\r\n",
    "                        shuffle=False,\r\n",
    "                        drop_last=False,\r\n",
    "                        num_workers=0)\r\n",
    "for batch_id, data in enumerate(data_reader()):\r\n",
    "    x = data[0]\r\n",
    "    y = data[1]\r\n",
    "    out = model(x)\r\n",
    "    avg_loss = mse_loss(out,(y[:,:,:-1]))\r\n",
    "    total_loss.append(avg_loss.numpy()[0])\r\n",
    "    datas.append(batch_id)\r\n",
    "\r\n",
    "plt.bar(datas, total_loss)\r\n",
    "plt.ylabel(\"reconstruction loss\")\r\n",
    "plt.xlabel(\"data samples\")\r\n",
    "plt.show()\r\n",
    "\r\n",
    "# 获取重建loss的阀值.\r\n",
    "threshold = np.max(total_loss)\r\n",
    "print(\"阀值:\", threshold)"
   ]
  },
  {
   "cell_type": "markdown",
   "metadata": {
    "collapsed": false
   },
   "source": [
    "## AutoEncoder 对异常数据的重构\n",
    "\n",
    "为了好玩，让我们先看看我们的模型是如何重构第一个组数据。这是我们训练数据集第一天起的288步时间。"
   ]
  },
  {
   "cell_type": "code",
   "execution_count": 23,
   "metadata": {
    "collapsed": false
   },
   "outputs": [
    {
     "data": {
      "image/png": "[encoded data removed]",
      "text/plain": [
       "<Figure size 432x288 with 1 Axes>"
      ]
     },
     "metadata": {},
     "output_type": "display_data"
    },
    {
     "ename": "SystemExit",
     "evalue": "",
     "output_type": "error",
     "traceback": [
      "An exception has occurred, use %tb to see the full traceback.\n",
      "\u001b[0;31mSystemExit\u001b[0m\n"
     ]
    }
   ],
   "source": [
    "import sys\r\n",
    "param_dict,_ = paddle.fluid.load_dygraph('model.pdparams')   #读取保存的参数\r\n",
    "model = AutoEncoder()    \r\n",
    "model.load_dict(param_dict)    #加载参数\r\n",
    "model.eval()   #预测\r\n",
    "data_reader = paddle.io.DataLoader(train_dataset,\r\n",
    "                        places=[paddle.CPUPlace()],\r\n",
    "                        batch_size=128,\r\n",
    "                        shuffle=False,\r\n",
    "                        drop_last=False,\r\n",
    "                        num_workers=0)\r\n",
    "for batch_id, data in enumerate(data_reader()):\r\n",
    "    x = data[0]\r\n",
    "    out = model(x)\r\n",
    "    step = np.arange(287)\r\n",
    "    plt.plot(step,x[0,0,:-1].numpy())\r\n",
    "    plt.plot(step,out[0,0].numpy())\r\n",
    "    plt.show()\r\n",
    "    sys.exit()\r\n"
   ]
  },
  {
   "cell_type": "markdown",
   "metadata": {
    "collapsed": false
   },
   "source": [
    "* 可以看出对正常数据的重构效果十分不错\n",
    "* 接下来我们对异常数据进行探测\n",
    "\n"
   ]
  },
  {
   "cell_type": "code",
   "execution_count": 24,
   "metadata": {
    "collapsed": false
   },
   "outputs": [
    {
     "data": {
      "image/png": "[encoded data removed]",
      "text/plain": [
       "<Figure size 432x288 with 1 Axes>"
      ]
     },
     "metadata": {},
     "output_type": "display_data"
    }
   ],
   "source": [
    "df_test_value = (df_daily_jumpsup - training_mean) / training_std\r\n",
    "fig, ax = plt.subplots()\r\n",
    "df_test_value.plot(legend=False, ax=ax)\r\n",
    "plt.show()\r\n",
    "#这是测试集里面的异常数据，可以看到第11~~12天发生了异常"
   ]
  },
  {
   "cell_type": "code",
   "execution_count": 28,
   "metadata": {
    "collapsed": false
   },
   "outputs": [
    {
     "name": "stdout",
     "output_type": "stream",
     "text": [
      "142\n",
      "[2990, 2991, 2992, 2993, 2994, 2995, 2997, 2998, 3000, 3001, 3002, 3003, 3004, 3005, 3007, 3008, 3009, 3010, 3011, 3012, 3013, 3014, 3015, 3016, 3017, 3018, 3019, 3020, 3021, 3022, 3023, 3024, 3025, 3026, 3027, 3028, 3029, 3030, 3031, 3032, 3033, 3034, 3035, 3036, 3037, 3038, 3039, 3040, 3041, 3042, 3043, 3044, 3045, 3046, 3047, 3048, 3049, 3050, 3051, 3052, 3053, 3054, 3055, 3056, 3057, 3058, 3059, 3060, 3061, 3062, 3063, 3064, 3065, 3066, 3067, 3068, 3069, 3070, 3071, 3072, 3073, 3074, 3075, 3076, 3077, 3078, 3079, 3080, 3081, 3082, 3083, 3084, 3085, 3086, 3087, 3088, 3089, 3090, 3091, 3092, 3093, 3094, 3095, 3096, 3097, 3098, 3099, 3100, 3101, 3102, 3103, 3104, 3105, 3106, 3107, 3108, 3109, 3110, 3111, 3112, 3113, 3114, 3115, 3116, 3117, 3118, 3119, 3120, 3121, 3122, 3123, 3124, 3125, 3126, 3127, 3128, 3129, 3130, 3131, 3132, 3133, 3134]\n"
     ]
    }
   ],
   "source": [
    "#探测异常数据\r\n",
    "threshold = 0.033    #阀值设定，即刚才求得的值\r\n",
    "param_dict,_ = paddle.fluid.load_dygraph('model.pdparams')   #读取保存的参数\r\n",
    "model = AutoEncoder()    \r\n",
    "model.load_dict(param_dict)    #加载参数\r\n",
    "model.eval()   #预测\r\n",
    "mse_loss = paddle.nn.loss.MSELoss()\r\n",
    "\r\n",
    "def create_sequences(values, time_steps=288):\r\n",
    "    '''\r\n",
    "    探测数据预处理\r\n",
    "    '''\r\n",
    "    output = []\r\n",
    "    for i in range(len(values) - time_steps):\r\n",
    "        output.append(values[i : (i + time_steps)])\r\n",
    "    return np.stack(output)\r\n",
    "\r\n",
    "\r\n",
    "x_test = create_sequences(df_test_value.values)\r\n",
    "x = paddle.to_tensor(x_test).astype('float32')\r\n",
    "\r\n",
    "abnormal_index = [] #记录检测到异常时数据的索引\r\n",
    "\r\n",
    "for i in range(len(x_test)):\r\n",
    "    input_x = paddle.reshape(x[i],(1,1,288))\r\n",
    "    out = model(input_x)\r\n",
    "    loss = mse_loss(input_x[:,:,:-1],out)\r\n",
    "    if loss.numpy()[0]>threshold:\r\n",
    "        #开始检测到异常时序列末端靠近异常点，所以我们要加上序列长度，得到真实索引位置\r\n",
    "        abnormal_index.append(i+288)\r\n",
    "\r\n",
    "#不再检测异常时序列的前端靠近异常点，所以我们要减去索引长度得到异常点真实索引，为了结果明显，我们给异常位置加宽40单位\r\n",
    "abnormal_index = abnormal_index[:(-288+40)]\r\n",
    "print(len(abnormal_index))\r\n",
    "print(abnormal_index)\r\n"
   ]
  },
  {
   "cell_type": "code",
   "execution_count": 29,
   "metadata": {
    "collapsed": false
   },
   "outputs": [
    {
     "data": {
      "image/png": "[encoded data removed]",
      "text/plain": [
       "<Figure size 432x288 with 1 Axes>"
      ]
     },
     "metadata": {},
     "output_type": "display_data"
    }
   ],
   "source": [
    "#异常检测结果可视化\r\n",
    "df_subset = df_daily_jumpsup.iloc[abnormal_index]\r\n",
    "fig, ax = plt.subplots()\r\n",
    "df_daily_jumpsup.plot(legend=False, ax=ax)\r\n",
    "df_subset.plot(legend=False, ax=ax, color=\"r\")\r\n",
    "plt.show()"
   ]
  }
 ],
 "metadata": {
  "kernelspec": {
   "display_name": "PaddlePaddle 1.8.4 (Python 3.5)",
   "language": "python",
   "name": "py35-paddle1.2.0"
  },
  "language_info": {
   "codemirror_mode": {
    "name": "ipython",
    "version": 3
   },
   "file_extension": ".py",
   "mimetype": "text/x-python",
   "name": "python",
   "nbconvert_exporter": "python",
   "pygments_lexer": "ipython3",
   "version": "3.7.4"
  }
 },
 "nbformat": 4,
 "nbformat_minor": 1
}
