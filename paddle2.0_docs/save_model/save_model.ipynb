{
 "cells": [
  {
   "cell_type": "markdown",
   "metadata": {
    "collapsed": false
   },
   "source": [
    "# 模型保存及加载\n",
    "\n",
    "**作者:** [PaddlePaddle](https://github.com/PaddlePaddle) <br>\n",
    "**日期:** 2021.03 <br>\n",
    "**摘要:** 本教程将基于Paddle高阶API对模型参数的保存和加载进行讲解。"
   ]
  },
  {
   "cell_type": "markdown",
   "metadata": {
    "collapsed": false
   },
   "source": [
    "## 一、简介\n",
    "在日常训练模型过程中会遇到一些突发情况，导致训练过程主动或被动的中断，因此在模型没有完全训练好的情况下，需要高频的保存下模型参数，在发生意外时可以快速载入保存的参数继续训练；抑或是模型已经训练好了，需要使用训练好的参数进行预测或部署模型上线。面对上述情况，Paddle中提供了保存模型和提取模型的方法，支持从上一次保存状态开始训练，只要随时保存训练过程中的模型状态，就不用从初始状态重新训练。\n",
    "下面将基于手写数字识别的模型讲解paddle如何保存及加载模型，并恢复训练，网络结构部分的讲解省略。"
   ]
  },
  {
   "cell_type": "markdown",
   "metadata": {
    "collapsed": false
   },
   "source": [
    "## 二、环境配置\n",
    "\n",
    "本教程基于Paddle 2.0 编写，如果你的环境不是本版本，请先参考官网[安装](https://www.paddlepaddle.org.cn/install/quick) Paddle 2.0 。"
   ]
  },
  {
   "cell_type": "code",
   "execution_count": null,
   "metadata": {
    "collapsed": false
   },
   "outputs": [
    {
     "name": "stdout",
     "output_type": "stream",
     "text": [
      "2.0.1\n"
     ]
    }
   ],
   "source": [
    "import paddle\n",
    "import paddle.nn.functional as F\n",
    "from paddle.nn import Layer\n",
    "from paddle.vision.datasets import MNIST\n",
    "from paddle.metric import Accuracy\n",
    "from paddle.nn import Conv2D,MaxPool2D,Linear\n",
    "from paddle.static import InputSpec\n",
    "from paddle.vision.transforms import ToTensor\n",
    "\n",
    "print(paddle.__version__)"
   ]
  },
  {
   "cell_type": "markdown",
   "metadata": {
    "collapsed": false
   },
   "source": [
    "## 三、数据集\n",
    "手写数字的MNIST数据集，包含60,000个用于训练的示例和10,000个用于测试的示例。这些数字已经过尺寸标准化并位于图像中心，图像是固定大小(28x28像素)，其值为0到1。该数据集的官方地址为：http://yann.lecun.com/exdb/mnist/\n",
    "本例中使用飞桨自带的mnist数据集。使用from paddle.vision.datasets import MNIST 引入即可。"
   ]
  },
  {
   "cell_type": "code",
   "execution_count": null,
   "metadata": {
    "collapsed": false
   },
   "outputs": [
    {
     "name": "stderr",
     "output_type": "stream",
     "text": [
      "Cache file /home/aistudio/.cache/paddle/dataset/mnist/train-images-idx3-ubyte.gz not found, downloading https://dataset.bj.bcebos.com/mnist/train-images-idx3-ubyte.gz \n",
      "Begin to download\n",
      "\n",
      "Download finished\n",
      "Cache file /home/aistudio/.cache/paddle/dataset/mnist/train-labels-idx1-ubyte.gz not found, downloading https://dataset.bj.bcebos.com/mnist/train-labels-idx1-ubyte.gz \n",
      "Begin to download\n",
      "........\n",
      "Download finished\n",
      "Cache file /home/aistudio/.cache/paddle/dataset/mnist/t10k-images-idx3-ubyte.gz not found, downloading https://dataset.bj.bcebos.com/mnist/t10k-images-idx3-ubyte.gz \n",
      "Begin to download\n",
      "\n",
      "Download finished\n",
      "Cache file /home/aistudio/.cache/paddle/dataset/mnist/t10k-labels-idx1-ubyte.gz not found, downloading https://dataset.bj.bcebos.com/mnist/t10k-labels-idx1-ubyte.gz \n",
      "Begin to download\n",
      "..\n",
      "Download finished\n"
     ]
    }
   ],
   "source": [
    "train_dataset = MNIST(mode='train', transform=ToTensor())\n",
    "test_dataset = MNIST(mode='test', transform=ToTensor())"
   ]
  },
  {
   "cell_type": "markdown",
   "metadata": {
    "collapsed": false
   },
   "source": [
    "## 四、模型组建"
   ]
  },
  {
   "cell_type": "code",
   "execution_count": null,
   "metadata": {
    "collapsed": false
   },
   "outputs": [],
   "source": [
    "class MyModel(Layer):\n",
    "    def __init__(self):\n",
    "        super(MyModel, self).__init__()\n",
    "        self.conv1 = paddle.nn.Conv2D(in_channels=1, out_channels=6, kernel_size=5, stride=1, padding=2)\n",
    "        self.max_pool1 = MaxPool2D(kernel_size=2, stride=2)\n",
    "        self.conv2 = Conv2D(in_channels=6, out_channels=16, kernel_size=5, stride=1)\n",
    "        self.max_pool2 = MaxPool2D(kernel_size=2, stride=2)\n",
    "        self.linear1 = Linear(in_features=16*5*5, out_features=120)\n",
    "        self.linear2 = Linear(in_features=120, out_features=84)\n",
    "        self.linear3 = Linear(in_features=84, out_features=10)\n",
    "\n",
    "    def forward(self, x):\n",
    "        x = self.conv1(x)\n",
    "        x = F.relu(x)\n",
    "        x = self.max_pool1(x)\n",
    "        x = F.relu(x)\n",
    "        x = self.conv2(x)\n",
    "        x = self.max_pool2(x)\n",
    "        x = paddle.flatten(x, start_axis=1, stop_axis=-1)\n",
    "        x = self.linear1(x)\n",
    "        x = F.relu(x)\n",
    "        x = self.linear2(x)\n",
    "        x = F.relu(x)\n",
    "        x = self.linear3(x)\n",
    "        return x"
   ]
  },
  {
   "cell_type": "markdown",
   "metadata": {
    "collapsed": false
   },
   "source": [
    "## 五、模型训练\n",
    "通过`Model` 构建实例，快速完成模型训练"
   ]
  },
  {
   "cell_type": "code",
   "execution_count": 5,
   "metadata": {
    "collapsed": false
   },
   "outputs": [
    {
     "name": "stdout",
     "output_type": "stream",
     "text": [
      "The loss value printed in the log is the current step, and the metric is the average value of previous step.\n",
      "Epoch 1/3\n",
      "step 938/938 [==============================] - loss: 0.0192 - acc: 0.9415 - 24ms/step         \n",
      "save checkpoint at /home/aistudio/mnist_checkpoint/0\n",
      "Eval begin...\n",
      "The loss value printed in the log is the current batch, and the metric is the average value of previous step.\n",
      "step 157/157 [==============================] - loss: 0.0025 - acc: 0.9791 - 22ms/step          \n",
      "Eval samples: 10000\n",
      "Epoch 2/3\n",
      "step 938/938 [==============================] - loss: 0.0266 - acc: 0.9815 - 24ms/step         \n",
      "save checkpoint at /home/aistudio/mnist_checkpoint/1\n",
      "Eval begin...\n",
      "The loss value printed in the log is the current batch, and the metric is the average value of previous step.\n",
      "step 157/157 [==============================] - loss: 7.1155e-04 - acc: 0.9843 - 23ms/step      \n",
      "Eval samples: 10000\n",
      "Epoch 3/3\n",
      "step 938/938 [==============================] - loss: 0.0936 - acc: 0.9871 - 24ms/step        \n",
      "save checkpoint at /home/aistudio/mnist_checkpoint/2\n",
      "Eval begin...\n",
      "The loss value printed in the log is the current batch, and the metric is the average value of previous step.\n",
      "step 157/157 [==============================] - loss: 0.0014 - acc: 0.9883 - 22ms/step        \n",
      "Eval samples: 10000\n",
      "save checkpoint at /home/aistudio/mnist_checkpoint/final\n"
     ]
    }
   ],
   "source": [
    "inputs = InputSpec([None, 784], 'float32', 'x')\n",
    "labels = InputSpec([None, 10], 'float32', 'x')\n",
    "model = paddle.Model(MyModel(), inputs, labels)\n",
    "\n",
    "optim = paddle.optimizer.Adam(learning_rate=0.001, parameters=model.parameters())\n",
    "\n",
    "model.prepare(\n",
    "    optim,\n",
    "    paddle.nn.CrossEntropyLoss(),\n",
    "    Accuracy()\n",
    "    )\n",
    "model.fit(train_dataset,\n",
    "        test_dataset,\n",
    "        epochs=3,\n",
    "        batch_size=64,\n",
    "        save_dir='mnist_checkpoint',\n",
    "        verbose=1\n",
    "        )"
   ]
  },
  {
   "cell_type": "markdown",
   "metadata": {
    "collapsed": false
   },
   "source": [
    "## 六、保存模型参数\n",
    "\n",
    "目前Paddle框架有三种保存模型参数的体系，分别是：\n",
    "#### paddle 高阶API-模型参数保存\n",
    "    * paddle.Model.fit\n",
    "    * paddle.Model.save\n",
    "#### paddle 基础框架-动态图-模型参数保存 \n",
    "    * paddle.save\n",
    "#### paddle 基础框架-静态图-模型参数保存 \n",
    "    * paddle.static.save\n",
    "    * paddle.static.save_inference_model\n",
    "\n",
    "下面将基于高阶API对模型保存与加载的方法进行讲解。"
   ]
  },
  {
   "cell_type": "markdown",
   "metadata": {
    "collapsed": false
   },
   "source": [
    "\n",
    "#### 方法一：\n",
    "* paddle.Model.fit(train_data, epochs, batch_size, save_dir, log_freq) <br><br>\n",
    "在使用model.fit函数进行网络循环训练时，在save_dir参数中指定保存模型的路径，save_freq指定写入频率，即可同时实现模型的训练和保存。mode.fit()只能保存模型参数，不能保存优化器参数，每个epoch结束只会生成一个.pdparams文件。可以边训练边保存，每次epoch结束会实时生成一个.pdparams文件。 \n",
    "\n",
    "#### 方法二：\n",
    "* paddle.Model.save(self, path, training=True) <br><br>\n",
    "model.save(path)方法可以保存模型结构、网络参数和优化器参数，参数training=true的使用场景是在训练过程中，此时会保存网络参数和优化器参数。每个epoch生成两种文件 0.pdparams,0.pdopt，分别存储了模型参数和优化器参数，但是只会在整个模型训练完成后才会生成包含所有epoch参数的文件，path的格式为'dirname/file_prefix' 或 'file_prefix'，其中dirname指定路径名称，file_prefix 指定参数文件的名称。当training=false的时候，代表已经训练结束，此时存储的是预测模型结构和网络参数。"
   ]
  },
  {
   "cell_type": "code",
   "execution_count": 6,
   "metadata": {
    "collapsed": false
   },
   "outputs": [
    {
     "name": "stdout",
     "output_type": "stream",
     "text": [
      "The loss value printed in the log is the current step, and the metric is the average value of previous step.\n",
      "Epoch 1/2\n",
      "step 938/938 [==============================] - loss: 0.0067 - acc: 0.9892 - 23ms/step        \n",
      "save checkpoint at /home/aistudio/mnist_checkpoint/0\n",
      "Eval begin...\n",
      "The loss value printed in the log is the current batch, and the metric is the average value of previous step.\n",
      "step 157/157 [==============================] - loss: 8.6975e-04 - acc: 0.9829 - 22ms/step      \n",
      "Eval samples: 10000\n",
      "Epoch 2/2\n",
      "step 938/938 [==============================] - loss: 0.0025 - acc: 0.9920 - 24ms/step        \n",
      "save checkpoint at /home/aistudio/mnist_checkpoint/1\n",
      "Eval begin...\n",
      "The loss value printed in the log is the current batch, and the metric is the average value of previous step.\n",
      "step 157/157 [==============================] - loss: 4.1780e-04 - acc: 0.9870 - 22ms/step      \n",
      "Eval samples: 10000\n",
      "save checkpoint at /home/aistudio/mnist_checkpoint/final\n"
     ]
    }
   ],
   "source": [
    "# 方法一：训练过程中实时保存每个epoch的模型参数\n",
    "model.fit(train_dataset,\n",
    "        test_dataset,\n",
    "        epochs=2,\n",
    "        batch_size=64,\n",
    "        save_dir='mnist_checkpoint',\n",
    "        verbose=1\n",
    "        )"
   ]
  },
  {
   "cell_type": "code",
   "execution_count": 7,
   "metadata": {
    "collapsed": false
   },
   "outputs": [],
   "source": [
    "# 方法二：model.save()保存模型和优化器参数信息\n",
    "model.save('mnist_checkpoint/test')"
   ]
  },
  {
   "cell_type": "markdown",
   "metadata": {
    "collapsed": false
   },
   "source": [
    "## 七、加载模型参数\n",
    "\n",
    "当恢复训练状态时，需要加载模型数据，此时可以使用加载函数从存储模型状态和优化器状态的文件中载入模型参数和优化器参数，如果不需要恢复优化器，则不必使用优化器状态文件。\n",
    "#### 高阶API-模型参数加载\n",
    "    * paddle.Model.load\n",
    "#### paddle 基础框架-动态图-模型参数加载\n",
    "    * paddle.load\n",
    "#### paddle 基础框架-静态图-模型参数加载\n",
    "    * paddle.io.load \n",
    "    * paddle.io.load_inference_model"
   ]
  },
  {
   "cell_type": "markdown",
   "metadata": {
    "collapsed": false
   },
   "source": [
    "下面将对高阶API的模型参数加载方法进行讲解\n",
    "* model.load(self, path, skip_mismatch=False, reset_optimizer=False)<br><br>\n",
    "model.load能够同时加载模型和优化器参数。通过reset_optimizer参数来指定是否需要恢复优化器参数，若reset_optimizer参数为True，则重新初始化优化器参数，若reset_optimizer参数为False，则从路径中恢复优化器参数。"
   ]
  },
  {
   "cell_type": "code",
   "execution_count": 8,
   "metadata": {
    "collapsed": false
   },
   "outputs": [],
   "source": [
    "# 高阶API加载模型\n",
    "model.load('mnist_checkpoint/test')"
   ]
  },
  {
   "cell_type": "markdown",
   "metadata": {
    "collapsed": false
   },
   "source": [
    "## 八、恢复训练\n",
    "\n",
    "理想的恢复训练是模型状态回到训练中断的时刻，恢复训练之后的梯度更新走向是和恢复训练前的梯度走向完全相同的。基于此，可以通过恢复训练后的损失变化，判断上述方法是否能准确的恢复训练。即从epoch 0结束时保存的模型参数和优化器状态恢复训练，校验其后训练的损失变化（epoch 1）是否和不中断时的训练完全一致。\n",
    "\n",
    "说明：\n",
    "\n",
    "恢复训练有如下两个要点：\n",
    "\n",
    "* 保存模型时同时保存模型参数和优化器参数\n",
    "\n",
    "* 恢复参数时同时恢复模型参数和优化器参数。"
   ]
  },
  {
   "cell_type": "code",
   "execution_count": null,
   "metadata": {
    "collapsed": false
   },
   "outputs": [
    {
     "name": "stdout",
     "output_type": "stream",
     "text": [
      "The loss value printed in the log is the current step, and the metric is the average value of previous step.\n",
      "Epoch 1/2\n",
      "step 938/938 [==============================] - loss: 8.0640e-04 - acc: 0.9926 - 24ms/step     \n",
      "Eval begin...\n",
      "The loss value printed in the log is the current batch, and the metric is the average value of previous step.\n",
      "step  40/157 [======>.......................] - loss: 0.0030 - acc: 0.9797 - ETA: 2s - 22ms/st"
     ]
    }
   ],
   "source": [
    "import paddle\n",
    "from paddle.vision.datasets import MNIST\n",
    "from paddle.metric import Accuracy\n",
    "from paddle.static import InputSpec\n",
    "\n",
    "train_dataset = MNIST(mode='train', transform=ToTensor())\n",
    "test_dataset = MNIST(mode='test', transform=ToTensor())\n",
    "\n",
    "inputs = InputSpec([None, 784], 'float32', 'inputs')\n",
    "labels = InputSpec([None, 10], 'float32', 'labels')\n",
    "model = paddle.Model(MyModel(), inputs, labels)\n",
    "optim = paddle.optimizer.Adam(learning_rate=0.001, parameters=model.parameters())\n",
    "model.load(\"./mnist_checkpoint/final\")\n",
    "model.prepare( \n",
    "      optim,\n",
    "      paddle.nn.loss.CrossEntropyLoss(),\n",
    "      Accuracy()\n",
    "      )\n",
    "model.fit(train_data=train_dataset,\n",
    "        eval_data=test_dataset,\n",
    "        batch_size=64,\n",
    "        epochs=2,\n",
    "        verbose=1\n",
    "        )"
   ]
  },
  {
   "cell_type": "markdown",
   "metadata": {
    "collapsed": false
   },
   "source": [
    "## 九、总结\n"
   ]
  },
  {
   "cell_type": "markdown",
   "metadata": {
    "collapsed": false
   },
   "source": [
    "以上就是用Mnist手写数字识别的例子对保存模型、加载模型、恢复训练进行讲解，Paddle提供了很多保存和加载的API方法，您可以根据自己的需求进行选择。"
   ]
  }
 ],
 "metadata": {
  "kernelspec": {
   "display_name": "PaddlePaddle 2.0.0b0 (Python 3.5)",
   "language": "python",
   "name": "py35-paddle1.2.0"
  },
  "language_info": {
   "codemirror_mode": {
    "name": "ipython",
    "version": 3
   },
   "file_extension": ".py",
   "mimetype": "text/x-python",
   "name": "python",
   "nbconvert_exporter": "python",
   "pygments_lexer": "ipython3",
   "version": "3.7.4"
  }
 },
 "nbformat": 4,
 "nbformat_minor": 1
}
