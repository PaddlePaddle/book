{
 "cells": [
  {
   "cell_type": "markdown",
   "metadata": {},
   "source": [
    "# 使用卷积神经网络进行图像分类\n",
    "\n",
    "\n",
    "本示例教程将会演示如何使用飞桨的卷积神经网络来完成图像分类任务。这是一个较为简单的示例，将会使用一个由三个卷积层组成的网络完成[cifar10](https://www.cs.toronto.edu/~kriz/cifar.html)数据集的图像分类任务。"
   ]
  },
  {
   "cell_type": "markdown",
   "metadata": {},
   "source": [
    "## 环境设置\n",
    "\n",
    "本示例基于飞桨开源框架2.0RC1版本。"
   ]
  },
  {
   "cell_type": "code",
   "execution_count": 3,
   "metadata": {},
   "outputs": [
    {
     "name": "stdout",
     "output_type": "stream",
     "text": [
      "2.0.0-rc1\n"
     ]
    }
   ],
   "source": [
    "import paddle\n",
    "import paddle.nn.functional as F\n",
    "from paddle.vision.transforms import ToTensor\n",
    "import numpy as np\n",
    "import matplotlib.pyplot as plt\n",
    "\n",
    "print(paddle.__version__)"
   ]
  },
  {
   "cell_type": "markdown",
   "metadata": {},
   "source": [
    "## 加载数据集\n",
    "\n",
    "我们将会使用飞桨提供的API完成数据集的下载并为后续的训练任务准备好数据迭代器。cifar10数据集由60000张大小为32 * 32的彩色图片组成，其中有50000张图片组成了训练集，另外10000张图片组成了测试集。这些图片分为10个类别，我们的任务是训练一个模型能够把图片进行正确的分类。"
   ]
  },
  {
   "cell_type": "code",
   "execution_count": 4,
   "metadata": {},
   "outputs": [],
   "source": [
    "transform = ToTensor()\n",
    "cifar10_train = paddle.vision.datasets.Cifar10(mode='train',\n",
    "                                               transform=transform)\n",
    "cifar10_test = paddle.vision.datasets.Cifar10(mode='test',\n",
    "                                              transform=transform)"
   ]
  },
  {
   "cell_type": "markdown",
   "metadata": {},
   "source": [
    "## 组建网络\n",
    "接下来我们使用飞桨定义一个使用了三个二维卷积（ ``Conv2D`` ) 且每次卷积之后使用 ``relu`` 激活函数，两个二维池化层（ ``MaxPool2D`` ），和两个线性变换层组成的分类网络，来把一个(32, 32, 3)形状的图片通过卷积神经网络映射为10个输出，这对应着10个分类的类别。"
   ]
  },
  {
   "cell_type": "code",
   "execution_count": 5,
   "metadata": {},
   "outputs": [],
   "source": [
    "class MyNet(paddle.nn.Layer):\n",
    "    def __init__(self, num_classes=1):\n",
    "        super(MyNet, self).__init__()\n",
    "\n",
    "        self.conv1 = paddle.nn.Conv2D(in_channels=3, out_channels=32, kernel_size=(3, 3))\n",
    "        self.pool1 = paddle.nn.MaxPool2D(kernel_size=2, stride=2)\n",
    "\n",
    "        self.conv2 = paddle.nn.Conv2D(in_channels=32, out_channels=64, kernel_size=(3,3))\n",
    "        self.pool2 = paddle.nn.MaxPool2D(kernel_size=2, stride=2)\n",
    "\n",
    "        self.conv3 = paddle.nn.Conv2D(in_channels=64, out_channels=64, kernel_size=(3,3))\n",
    "\n",
    "        self.flatten = paddle.nn.Flatten()\n",
    "\n",
    "        self.linear1 = paddle.nn.Linear(in_features=1024, out_features=64)\n",
    "        self.linear2 = paddle.nn.Linear(in_features=64, out_features=num_classes)\n",
    "\n",
    "    def forward(self, x):\n",
    "        x = self.conv1(x)\n",
    "        x = F.relu(x)\n",
    "        x = self.pool1(x)\n",
    "\n",
    "        x = self.conv2(x)\n",
    "        x = F.relu(x)\n",
    "        x = self.pool2(x)\n",
    "\n",
    "        x = self.conv3(x)\n",
    "        x = F.relu(x)\n",
    "\n",
    "        x = self.flatten(x)\n",
    "        x = self.linear1(x)\n",
    "        x = F.relu(x)\n",
    "        x = self.linear2(x)\n",
    "        return x"
   ]
  },
  {
   "cell_type": "markdown",
   "metadata": {},
   "source": [
    "## 模型训练\n",
    "\n",
    "接下来，我们用一个循环来进行模型的训练，我们将会: <br> \n",
    "- 使用 ``paddle.optimizer.Adam`` 优化器来进行优化。 \n",
    "- 使用 ``F.cross_entropy`` 来计算损失值。 \n",
    "- 使用 ``paddle.io.DataLoader`` 来加载数据并组建batch。"
   ]
  },
  {
   "cell_type": "code",
   "execution_count": 6,
   "metadata": {},
   "outputs": [],
   "source": [
    "epoch_num = 10\n",
    "batch_size = 32\n",
    "learning_rate = 0.001"
   ]
  },
  {
   "cell_type": "code",
   "execution_count": 7,
   "metadata": {},
   "outputs": [
    {
     "name": "stdout",
     "output_type": "stream",
     "text": [
      "start training ... \n",
      "epoch: 0, batch_id: 0, loss is: [2.7190323]\n",
      "epoch: 0, batch_id: 1000, loss is: [1.1301928]\n",
      "[validation] accuracy/loss: 0.5629991888999939/1.2096035480499268\n",
      "epoch: 1, batch_id: 0, loss is: [1.1235554]\n",
      "epoch: 1, batch_id: 1000, loss is: [1.3299723]\n",
      "[validation] accuracy/loss: 0.6390774846076965/1.0325193405151367\n",
      "epoch: 2, batch_id: 0, loss is: [1.1346697]\n",
      "epoch: 2, batch_id: 1000, loss is: [0.9283966]\n",
      "[validation] accuracy/loss: 0.6548522114753723/1.0083835124969482\n",
      "epoch: 3, batch_id: 0, loss is: [1.0581315]\n",
      "epoch: 3, batch_id: 1000, loss is: [0.8057419]\n",
      "[validation] accuracy/loss: 0.6795127987861633/0.9195191860198975\n",
      "epoch: 4, batch_id: 0, loss is: [0.9234393]\n",
      "epoch: 4, batch_id: 1000, loss is: [1.0297393]\n",
      "[validation] accuracy/loss: 0.6673322916030884/0.9811951518058777\n",
      "epoch: 5, batch_id: 0, loss is: [1.0723009]\n",
      "epoch: 5, batch_id: 1000, loss is: [0.70067537]\n",
      "[validation] accuracy/loss: 0.6834065318107605/0.9110456705093384\n",
      "epoch: 6, batch_id: 0, loss is: [0.6722706]\n",
      "epoch: 6, batch_id: 1000, loss is: [0.35937753]\n",
      "[validation] accuracy/loss: 0.6956868767738342/0.903186559677124\n",
      "epoch: 7, batch_id: 0, loss is: [0.25546122]\n",
      "epoch: 7, batch_id: 1000, loss is: [0.69635963]\n",
      "[validation] accuracy/loss: 0.7061701416969299/0.8917160034179688\n",
      "epoch: 8, batch_id: 0, loss is: [0.44299453]\n",
      "epoch: 8, batch_id: 1000, loss is: [0.41557938]\n",
      "[validation] accuracy/loss: 0.7059704661369324/0.9087688326835632\n",
      "epoch: 9, batch_id: 0, loss is: [0.42562085]\n",
      "epoch: 9, batch_id: 1000, loss is: [0.72187614]\n",
      "[validation] accuracy/loss: 0.7103634476661682/0.9032173752784729\n"
     ]
    }
   ],
   "source": [
    "val_acc_history = []\n",
    "val_loss_history = []\n",
    "\n",
    "def train(model):\n",
    "    print('start training ... ')\n",
    "    # turn into training mode\n",
    "    model.train()\n",
    "\n",
    "    opt = paddle.optimizer.Adam(learning_rate=learning_rate,\n",
    "                                parameters=model.parameters())\n",
    "\n",
    "    train_loader = paddle.io.DataLoader(cifar10_train,\n",
    "                                        shuffle=True,\n",
    "                                        batch_size=batch_size)\n",
    "\n",
    "    valid_loader = paddle.io.DataLoader(cifar10_test, batch_size=batch_size)\n",
    "\n",
    "    for epoch in range(epoch_num):\n",
    "        for batch_id, data in enumerate(train_loader()):\n",
    "            x_data = data[0]\n",
    "            y_data = paddle.to_tensor(data[1])\n",
    "            y_data = paddle.unsqueeze(y_data, 1)\n",
    "\n",
    "            logits = model(x_data)\n",
    "            loss = F.cross_entropy(logits, y_data)\n",
    "\n",
    "            if batch_id % 1000 == 0:\n",
    "                print(\"epoch: {}, batch_id: {}, loss is: {}\".format(epoch, batch_id, loss.numpy()))\n",
    "            loss.backward()\n",
    "            opt.step()\n",
    "            opt.clear_grad()\n",
    "\n",
    "        # evaluate model after one epoch\n",
    "        model.eval()\n",
    "        accuracies = []\n",
    "        losses = []\n",
    "        for batch_id, data in enumerate(valid_loader()):\n",
    "            x_data = data[0]\n",
    "            y_data = paddle.to_tensor(data[1])\n",
    "            y_data = paddle.unsqueeze(y_data, 1)\n",
    "\n",
    "            logits = model(x_data)\n",
    "            loss = F.cross_entropy(logits, y_data)\n",
    "            acc = paddle.metric.accuracy(logits, y_data)\n",
    "            accuracies.append(acc.numpy())\n",
    "            losses.append(loss.numpy())\n",
    "\n",
    "        avg_acc, avg_loss = np.mean(accuracies), np.mean(losses)\n",
    "        print(\"[validation] accuracy/loss: {}/{}\".format(avg_acc, avg_loss))\n",
    "        val_acc_history.append(avg_acc)\n",
    "        val_loss_history.append(avg_loss)\n",
    "        model.train()\n",
    "\n",
    "model = MyNet(num_classes=10)\n",
    "train(model)"
   ]
  },
  {
   "cell_type": "code",
   "execution_count": 8,
   "metadata": {},
   "outputs": [
    {
     "data": {
      "text/plain": [
       "<matplotlib.legend.Legend at 0x12c95aa00>"
      ]
     },
     "execution_count": 8,
     "metadata": {},
     "output_type": "execute_result"
    },
    {
     "data": {
      "image/png": "[encoded data removed]",
      "text/plain": [
       "<Figure size 432x288 with 1 Axes>"
      ]
     },
     "metadata": {
      "needs_background": "light"
     },
     "output_type": "display_data"
    }
   ],
   "source": [
    "plt.plot(val_acc_history, label = 'validation accuracy')\n",
    "\n",
    "plt.xlabel('Epoch')\n",
    "plt.ylabel('Accuracy')\n",
    "plt.ylim([0.5, 0.8])\n",
    "plt.legend(loc='lower right')"
   ]
  },
  {
   "cell_type": "markdown",
   "metadata": {},
   "source": [
    "## The End\n",
    "从上面的示例可以看到，在cifar10数据集上，使用简单的卷积神经网络，用飞桨可以达到70%以上的准确率。你也可以通过调整网络结构和参数，达到更好的效果。"
   ]
  },
  {
   "cell_type": "code",
   "execution_count": null,
   "metadata": {},
   "outputs": [],
   "source": []
  }
 ],
 "metadata": {
  "kernelspec": {
   "display_name": "Python 3",
   "language": "python",
   "name": "python3"
  },
  "language_info": {
   "codemirror_mode": {
    "name": "ipython",
    "version": 3
   },
   "file_extension": ".py",
   "mimetype": "text/x-python",
   "name": "python",
   "nbconvert_exporter": "python",
   "pygments_lexer": "ipython3",
   "version": "3.8.2"
  }
 },
 "nbformat": 4,
 "nbformat_minor": 1
}
